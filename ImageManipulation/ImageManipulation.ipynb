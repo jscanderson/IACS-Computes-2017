{
 "cells": [
  {
   "cell_type": "markdown",
   "metadata": {
    "collapsed": true
   },
   "source": [
    "# Image Manipulation"
   ]
  },
  {
   "cell_type": "code",
   "execution_count": 1,
   "metadata": {
    "collapsed": false
   },
   "outputs": [],
   "source": [
    "#Import the necessary packages\n",
    "import numpy\n",
    "#import Image    # If this gives an error, try the next line instead\n",
    "from PIL import Image"
   ]
  },
  {
   "cell_type": "code",
   "execution_count": 2,
   "metadata": {
    "collapsed": true
   },
   "outputs": [],
   "source": [
    "def subtract(file1 , file2 , option = 'L'):\n",
    "    \n",
    "    #Open the two images files and convert to the desired format.\n",
    "    #'CMYK' is default for convert, but 'L' is default for this function\n",
    "    A = numpy.asarray(Image.open(file1).convert(option)).astype(int)\n",
    "    B = numpy.asarray(Image.open(file2).convert(option)).astype(int)\n",
    "\n",
    "    \n",
    "    \n",
    "    #Use numpy's array subtraction and built-in absolute value\n",
    "    C = numpy.absolute(A-B).astype(numpy.uint8)\n",
    "    \n",
    "    #This gives a tuple containing the dimensions of C\n",
    "    dimensions = C.shape\n",
    "    \n",
    "    #The following try block will define \"white\" so we can invert the colors later. If C[0,0] is just aan \n",
    "    #integer, len will return an exception. So in this case we just assign white to be 255 ourselves\n",
    "    try:\n",
    "        length = len(C[0,0])\n",
    "        white = 255*numpy.ones(length, dtype = numpy.int)\n",
    "    except:\n",
    "        white = 255\n",
    "    \n",
    "    #Values in C range from 0 to 255, with 0 being black and 255 being white. Use the following loop to\n",
    "    #invert the colors\n",
    "    for i in range(dimensions[0]):\n",
    "        for j in range(dimensions[1]):\n",
    "            C[i,j] = white - C[i,j]\n",
    "\n",
    "    #convert array to an image and display. Could also save the image here if you wanted.\n",
    "    img = Image.fromarray(C)\n",
    "    img.show()\n",
    "    #img.save(test.png)"
   ]
  },
  {
   "cell_type": "code",
   "execution_count": 3,
   "metadata": {
    "collapsed": false
   },
   "outputs": [],
   "source": [
    "#Images were taken from neok12.com\n",
    "\n",
    "#The subtraction works pretty well for images B,D,E\n",
    "#Images H and I are a bit tougher\n",
    "#Images A and F are probably the toughest\n",
    "LeftImageFile =  'ImageF1.png'\n",
    "RightImageFile = 'ImageF2.png'\n",
    "option = 'RGB'\n",
    "\n",
    "LeftImage = Image.open(LeftImageFile)\n",
    "LeftImage.show()\n",
    "RightImage = Image.open(RightImageFile)\n",
    "RightImage.show()"
   ]
  },
  {
   "cell_type": "code",
   "execution_count": 4,
   "metadata": {
    "collapsed": false
   },
   "outputs": [],
   "source": [
    "subtract(LeftImageFile , RightImageFile , option)"
   ]
  },
  {
   "cell_type": "code",
   "execution_count": null,
   "metadata": {
    "collapsed": true
   },
   "outputs": [],
   "source": []
  }
 ],
 "metadata": {
  "kernelspec": {
   "display_name": "Python 2",
   "language": "python",
   "name": "python2"
  },
  "language_info": {
   "codemirror_mode": {
    "name": "ipython",
    "version": 2
   },
   "file_extension": ".py",
   "mimetype": "text/x-python",
   "name": "python",
   "nbconvert_exporter": "python",
   "pygments_lexer": "ipython2",
   "version": "2.7.11"
  }
 },
 "nbformat": 4,
 "nbformat_minor": 0
}
