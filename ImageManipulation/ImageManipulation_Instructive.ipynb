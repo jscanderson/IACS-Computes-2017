{
 "cells": [
  {
   "cell_type": "markdown",
   "metadata": {},
   "source": [
    "# Image Manipulation"
   ]
  },
  {
   "cell_type": "markdown",
   "metadata": {},
   "source": [
    "You know those newspaper games that give you two images that are very same, and ask you to spot the differences between the two? Well, it turns out that computers are pretty good at solving those puzzles. This project will give you the tools so you can write a function that spots the differences."
   ]
  },
  {
   "cell_type": "code",
   "execution_count": 1,
   "metadata": {
    "collapsed": true
   },
   "outputs": [],
   "source": [
    "#import the necessary libraries\n",
    "import numpy\n",
    "import Image\n",
    "#from PIL import Image"
   ]
  },
  {
   "cell_type": "markdown",
   "metadata": {},
   "source": [
    "numpy is a package that makes it easy to handle 2-dimensional lists (called arrays in this context). The image package allows us to read image files, convert them to arrays, and then later convert them back to images and display them on the screen."
   ]
  },
  {
   "cell_type": "code",
   "execution_count": 3,
   "metadata": {
    "collapsed": false
   },
   "outputs": [],
   "source": [
    "#display images\n",
    "LeftImageFile = 'ImageF1.png'\n",
    "LeftImage = Image.open(LeftImageFile)\n",
    "LeftImage.show()"
   ]
  },
  {
   "cell_type": "code",
   "execution_count": 4,
   "metadata": {
    "collapsed": true
   },
   "outputs": [],
   "source": [
    "#converting images to an array (using numpy)\n",
    "A = numpy.asarray(Image.open(LeftImageFile).convert('L'))"
   ]
  },
  {
   "cell_type": "code",
   "execution_count": 5,
   "metadata": {
    "collapsed": false
   },
   "outputs": [
    {
     "name": "stdout",
     "output_type": "stream",
     "text": [
      "[[255 255 255 ..., 255 255 255]\n",
      " [255 213 213 ..., 208 208 208]\n",
      " [255 213 213 ..., 208 208 208]\n",
      " ..., \n",
      " [255 147 147 ..., 209 209 209]\n",
      " [255 147 147 ..., 209 209 209]\n",
      " [255 147 147 ..., 209 209 209]]\n"
     ]
    }
   ],
   "source": [
    "print A"
   ]
  },
  {
   "cell_type": "markdown",
   "metadata": {},
   "source": [
    "The 'L' conversion converts the picture to grayscale. For now, let's work with this.\n",
    "\n",
    "The color white is stored as 255, and the color black is stored as 0. The numbers inbetween are some shade of gray.\n",
    "\n",
    "We can access A just like any other 2-d list"
   ]
  },
  {
   "cell_type": "code",
   "execution_count": 6,
   "metadata": {
    "collapsed": false
   },
   "outputs": [
    {
     "data": {
      "text/plain": [
       "213"
      ]
     },
     "execution_count": 6,
     "metadata": {},
     "output_type": "execute_result"
    }
   ],
   "source": [
    "A[3][3]"
   ]
  },
  {
   "cell_type": "code",
   "execution_count": 8,
   "metadata": {
    "collapsed": false
   },
   "outputs": [
    {
     "data": {
      "text/plain": [
       "213"
      ]
     },
     "execution_count": 8,
     "metadata": {},
     "output_type": "execute_result"
    }
   ],
   "source": [
    "#or\n",
    "A[3,3] #special syntax for numpy"
   ]
  },
  {
   "cell_type": "markdown",
   "metadata": {},
   "source": [
    "How big is A? Let's find out, using the shape function."
   ]
  },
  {
   "cell_type": "code",
   "execution_count": 15,
   "metadata": {
    "collapsed": false
   },
   "outputs": [
    {
     "name": "stdout",
     "output_type": "stream",
     "text": [
      "881\n",
      "661\n"
     ]
    }
   ],
   "source": [
    "n,m = A.shape\n",
    "print n #rows\n",
    "print m #columns"
   ]
  },
  {
   "cell_type": "code",
   "execution_count": 19,
   "metadata": {
    "collapsed": false
   },
   "outputs": [],
   "source": [
    "#Create an empty numpy array\n",
    "C = numpy.zeros((n,m))"
   ]
  },
  {
   "cell_type": "code",
   "execution_count": 20,
   "metadata": {
    "collapsed": true
   },
   "outputs": [],
   "source": [
    "#now display our new array as an image\n",
    "img = Image.fromarray(C)\n",
    "img.show()"
   ]
  },
  {
   "cell_type": "markdown",
   "metadata": {},
   "source": [
    "Now you have all of the tools necessary to write a function that takes two images and creates a new image identifying the differences between the two pictures. Think of how you might do this, and code it up!"
   ]
  },
  {
   "cell_type": "code",
   "execution_count": null,
   "metadata": {
    "collapsed": true
   },
   "outputs": [],
   "source": []
  }
 ],
 "metadata": {
  "kernelspec": {
   "display_name": "Python 2",
   "language": "python",
   "name": "python2"
  },
  "language_info": {
   "codemirror_mode": {
    "name": "ipython",
    "version": 2
   },
   "file_extension": ".py",
   "mimetype": "text/x-python",
   "name": "python",
   "nbconvert_exporter": "python",
   "pygments_lexer": "ipython2",
   "version": "2.7.11"
  }
 },
 "nbformat": 4,
 "nbformat_minor": 0
}
