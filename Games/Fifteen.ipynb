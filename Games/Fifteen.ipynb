{
 "cells": [
  {
   "cell_type": "markdown",
   "metadata": {},
   "source": [
    "# Fifteen game"
   ]
  },
  {
   "cell_type": "code",
   "execution_count": 1,
   "metadata": {
    "collapsed": false
   },
   "outputs": [],
   "source": [
    "import random\n",
    "from IPython.display import clear_output\n",
    "from time import sleep\n",
    "zero_pos = 15\n",
    "\n",
    "def move_up(board):\n",
    "    global zero_pos\n",
    "    if zero_pos in [0,1,2,3]:\n",
    "        return board\n",
    "    else:\n",
    "        board[zero_pos] = board[zero_pos-4]\n",
    "        board[zero_pos - 4] = 0\n",
    "        zero_pos -= 4\n",
    "        return board\n",
    "\n",
    "def move_down(board):\n",
    "    global zero_pos\n",
    "    if zero_pos in [12,13,14,15]:\n",
    "        return board\n",
    "    else:\n",
    "        board[zero_pos] = board[zero_pos+4]\n",
    "        board[zero_pos + 4] = 0\n",
    "        zero_pos += 4\n",
    "        return board\n",
    "        \n",
    "def move_right(board):\n",
    "    global zero_pos\n",
    "    if zero_pos in [3,7,11,15]:\n",
    "        return board\n",
    "    else:\n",
    "        board[zero_pos] = board[zero_pos+1]\n",
    "        board[zero_pos + 1] = 0\n",
    "        zero_pos += 1\n",
    "        return board\n",
    "        \n",
    "def move_left(board):\n",
    "    global zero_pos\n",
    "    if zero_pos in [0,4,8,12]:\n",
    "        return board\n",
    "    else:\n",
    "        board[zero_pos] = board[zero_pos-1]\n",
    "        board[zero_pos - 1] = 0\n",
    "        zero_pos -= 1\n",
    "        return board\n",
    "        \n",
    "def scramble():\n",
    "    global zero_pos\n",
    "    board = [1,2,3,4,5,6,7,8,9,10,11,12,13,14,15,0]\n",
    "    zero_pos = 15\n",
    "    for i in range(1000):\n",
    "        a = random.randint(0,3)\n",
    "        if a == 0:\n",
    "            board = move_up(board)\n",
    "        elif a == 1:\n",
    "            board = move_down(board)\n",
    "        elif a == 2:\n",
    "            board = move_right(board)\n",
    "        else:\n",
    "            board = move_left(board)\n",
    "    return board\n",
    "            \n",
    "def check_win(board):\n",
    "    return board == [1,2,3,4,5,6,7,8,9,10,11,12,13,14,15,0]\n",
    "\n",
    "def print_board(board):\n",
    "    string = \"\"\n",
    "    for i in range(4):\n",
    "        for j in range(4):\n",
    "            num = board[4*i+j]\n",
    "            if num <= 9:\n",
    "                string = string + \" \" + str(num) + \" \"\n",
    "            else:\n",
    "                string = string + str(num) + \" \"\n",
    "        string = string + \"\\n\"\n",
    "    print string\n",
    "            \n",
    "    \n",
    "def fifteen():\n",
    "    print(\"Welcome to Fifteen game!\")\n",
    "    print(\"Controls are: u = up, d = down, r = right, l = left, q = quit\")\n",
    "    wincheck = True\n",
    "    while wincheck:\n",
    "        board = scramble()\n",
    "        wincheck = check_win(board)\n",
    "    print_board(board)\n",
    "    user_input = 'a'\n",
    "    while user_input != 'q':\n",
    "        user_input = raw_input(\"Input your move here: \")\n",
    "        clear_output()\n",
    "        sleep(0.2)\n",
    "        if user_input == 'u':\n",
    "            board = move_up(board)\n",
    "            print_board(board)\n",
    "        elif user_input == 'd':\n",
    "            board = move_down(board)\n",
    "            print_board(board)\n",
    "        elif user_input == 'r':\n",
    "            board = move_right(board)\n",
    "            print_board(board)\n",
    "        elif user_input == 'l':\n",
    "            board = move_left(board)\n",
    "            print_board(board)\n",
    "        elif user_input == 'q':\n",
    "            continue\n",
    "        else:\n",
    "            print(\"Sorry, I didn't understand that.\")\n",
    "        if check_win(board):\n",
    "            print(\"Congratulations! You won!\")\n",
    "            break"
   ]
  },
  {
   "cell_type": "code",
   "execution_count": null,
   "metadata": {
    "collapsed": false
   },
   "outputs": [
    {
     "name": "stdout",
     "output_type": "stream",
     "text": [
      " 1  3 14  9 \n",
      " 6 12  8  2 \n",
      "11 10  5  7 \n",
      "15 13  4  0 \n",
      "\n"
     ]
    }
   ],
   "source": [
    "fifteen()"
   ]
  },
  {
   "cell_type": "raw",
   "metadata": {
    "collapsed": true
   },
   "source": []
  }
 ],
 "metadata": {
  "kernelspec": {
   "display_name": "Python 2",
   "language": "python",
   "name": "python2"
  },
  "language_info": {
   "codemirror_mode": {
    "name": "ipython",
    "version": 2
   },
   "file_extension": ".py",
   "mimetype": "text/x-python",
   "name": "python",
   "nbconvert_exporter": "python",
   "pygments_lexer": "ipython2",
   "version": "2.7.11"
  }
 },
 "nbformat": 4,
 "nbformat_minor": 0
}
