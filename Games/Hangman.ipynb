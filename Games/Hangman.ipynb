{
 "cells": [
  {
   "cell_type": "markdown",
   "metadata": {},
   "source": [
    "# Hangman "
   ]
  },
  {
   "cell_type": "code",
   "execution_count": 1,
   "metadata": {
    "collapsed": false
   },
   "outputs": [],
   "source": [
    "# Function to draw the game 'board'\n",
    "def draw_game(good, wrong, word, num_guesses):\n",
    "    '''\n",
    "        Function to draw the game board in ascii art. Inputs are:\n",
    "           good - letters correctly guessed\n",
    "           bad  - letters incorrectly guessed\n",
    "           word - the word to be guessed\n",
    "           num_guesses - number of guesses allowed in game before game over\n",
    "    '''\n",
    "    \n",
    "    # Create the wrong letters string\n",
    "    guessed = \"\"\n",
    "    for i in wrong:\n",
    "        guessed += str(i) + \",\"\n",
    "    print \"Wrong letters: \" + guessed[:-1]\n",
    "    print \"\"\n",
    "    print \"You have {} more guesses\".format(num_guesses - len(wrong))\n",
    "    print \"\\n\"\n",
    "    \n",
    "    # Write out spaces for each letter, padded approriately\n",
    "    empty = \"\"\n",
    "    for i in word:\n",
    "        if i in good:\n",
    "            empty += \"{:^3} \".format(i)\n",
    "        else:\n",
    "            empty += \"{:3} \".format(\" \")\n",
    "    print \"\"\n",
    "    print empty\n",
    "    print \"___ \"*len(word)"
   ]
  },
  {
   "cell_type": "code",
   "execution_count": 2,
   "metadata": {
    "collapsed": true
   },
   "outputs": [],
   "source": [
    "def win_or_lose(good, wrong, word, num_guesses):\n",
    "    '''\n",
    "        Function to determine if you've won or lost. Inputs are:\n",
    "           good - letters correctly guessed\n",
    "           bad  - letters incorrectly guessed\n",
    "           word - the word to be guessed\n",
    "           num_guesses - number of guesses allowed in game before game over\n",
    "           \n",
    "        Return value meanings:\n",
    "           1 = game won\n",
    "           0 = game continues\n",
    "          -1 = game lost\n",
    "    '''\n",
    "    \n",
    "    # Check if game has been won\n",
    "    outcome = 0\n",
    "    if len(good) == len(set(word)):\n",
    "        outcome = 1\n",
    "        \n",
    "    # Check if game has been lost\n",
    "    if len(wrong) == num_guesses:\n",
    "        outcome = -1\n",
    "        \n",
    "    # Return\n",
    "    return outcome"
   ]
  },
  {
   "cell_type": "code",
   "execution_count": 3,
   "metadata": {
    "collapsed": false
   },
   "outputs": [],
   "source": [
    "import string\n",
    "\n",
    "def validate_guess(guess, bad, good):\n",
    "    '''\n",
    "        Function checks if input from user is valid. \n",
    "        Inputs is the guess from ueser. Output will be guessed\n",
    "        letter from user if valid, -1 otherwise.\n",
    "    '''    \n",
    "    # Check to make sure length of guess == 1\n",
    "    if len(guess) != 1:\n",
    "        print \"You entered more than 1 character. That's cheating!\"\n",
    "        return -1\n",
    "    \n",
    "    \n",
    "    # Check to make sure input is legit\n",
    "    try:\n",
    "        guess = str(guess).lower()\n",
    "    except ValueError:\n",
    "        print \"You entered a non-letter. I can't work with that.\"\n",
    "        return -1\n",
    "    \n",
    "    # Make sure guess is a letter\n",
    "    if guess not in string.lowercase:\n",
    "        print \"You entered a non-letter. I can't work with that.\"\n",
    "        return -1\n",
    "        \n",
    "    # Make sure guess hasn't already been done\n",
    "    if guess in bad or guess in good:\n",
    "        print \"You've already guessed {}!\".format(guess)\n",
    "        return -1\n",
    "        \n",
    "    # Return lowercase letter of guess\n",
    "    return guess"
   ]
  },
  {
   "cell_type": "code",
   "execution_count": 4,
   "metadata": {
    "collapsed": false
   },
   "outputs": [],
   "source": [
    "def validate_word(the_word):\n",
    "    '''\n",
    "        Function checks if input word from user is valid. \n",
    "        Inputs is the the word from ueser. Output will be\n",
    "        the word from user if valid, -1 otherwise.\n",
    "    '''\n",
    "\n",
    "    # Check to make sure length of guess => 1\n",
    "    if len(the_word) < 3:\n",
    "        print \"You entered a word with fewer than 3 characters. \\nPlease choose a longer word.\"\n",
    "        return -1\n",
    "      \n",
    "    # Check to make sure input is legit\n",
    "    try:\n",
    "        the_word = str(the_word).lower()\n",
    "    except ValueError:\n",
    "        print \"You entered a non-letter. I can't work with that.\"\n",
    "        return -1\n",
    "    \n",
    "    # Make sure letters of the word are all lowercase letters\n",
    "    for i in the_word:\n",
    "        if i not in string.lowercase:\n",
    "            print \"You entered a non-letter. I can't work with that.\"\n",
    "            return -1\n",
    "        \n",
    "    # Return lowercase letter of guess\n",
    "    return the_word"
   ]
  },
  {
   "cell_type": "code",
   "execution_count": 5,
   "metadata": {
    "collapsed": true
   },
   "outputs": [],
   "source": [
    "def check_guess(good, wrong, word, guess):\n",
    "    '''\n",
    "        Function to check if the guessed character is in the word. \n",
    "        Function will append the guessed character to the proper list.\n",
    "        Inputs are:\n",
    "           good  - list of correctly guessed letters\n",
    "           wrong - list of incorrectly guessed letters\n",
    "           word  - the word to be guessed\n",
    "           guess - the guessed character\n",
    "    '''\n",
    "    \n",
    "    # We know guess is valid, so check if its in the word\n",
    "    if guess in word: \n",
    "        # Let user know they got it right\n",
    "        print \"\\n{} is in the word!\\n\".format(guess)\n",
    "        \n",
    "        # It is, so add to good\n",
    "        good.append(guess)\n",
    "    \n",
    "    else:\n",
    "        # Let user know they got it right\n",
    "        print \"\\n{} is not in the word!\\n\".format(guess)\n",
    "        \n",
    "        # Or its not, so add to wrong\n",
    "        wrong.append(guess)\n",
    "        "
   ]
  },
  {
   "cell_type": "code",
   "execution_count": 6,
   "metadata": {
    "collapsed": false
   },
   "outputs": [],
   "source": [
    "from IPython.display import clear_output # Just to clear output after entering the word\n",
    "\n",
    "def hangman():\n",
    "    '''\n",
    "        Function to play the game of hangman.\n",
    "    '''\n",
    "    \n",
    "    # Print out rules\n",
    "        # Welcome the user\n",
    "    print \" \"*4 + \"Welcome to Hangman!\" \n",
    "    print \"\"\n",
    "    the_word = raw_input(\"Please have a friend enter the word to be guessed: \")\n",
    "    clear_output()\n",
    "    print \"\"\n",
    " \n",
    "    # Check for valid word\n",
    "    the_word = validate_word(the_word)\n",
    "    while the_word == -1:   \n",
    "        the_word = raw_input(\"You entered an invalid word, please enter another: \")\n",
    "        the_word = validate_word(the_word)\n",
    "        \n",
    "    # Tell the user how to quit\n",
    "    print \"\\nAlright, we have the word! Lets play the game!\\n\"\n",
    "    print \"Please enter 'quit' to quit the game.\\n\"\n",
    "    \n",
    "    # Variable for game status\n",
    "    # -1 => game over, lose\n",
    "    #  0 => game continues\n",
    "    #  1 => game over, win\n",
    "    status = 0 \n",
    "    \n",
    "    # Max number of wrong guesses\n",
    "    max_guesses = 7\n",
    "    \n",
    "    # List of guesses, good and bad\n",
    "    good_guesses = []\n",
    "    bad_guesses = []\n",
    "    \n",
    "    \n",
    "    # While loop for each turn\n",
    "    while status == 0:\n",
    "        \n",
    "        # Draw game status\n",
    "        draw_game(good_guesses, bad_guesses, the_word, max_guesses)\n",
    "        \n",
    "        # Get guess\n",
    "        guess = raw_input(\"\\nPlease enter your guess: \")\n",
    "        \n",
    "        # Check for quit\n",
    "        if guess == 'quit':\n",
    "            status = -2\n",
    "            break\n",
    "        \n",
    "        #  Validate guess\n",
    "        valid_guess = validate_guess(guess,bad_guesses,good_guesses)\n",
    "        while valid_guess == -1:\n",
    "            guess = raw_input(\"You entered an invalid guess, please choose another: \")\n",
    "            valid_guess = validate_guess(guess,bad_guesses,good_guesses)\n",
    "        \n",
    "        # Check if guess is in word\n",
    "        check_guess(good_guesses, bad_guesses, the_word, guess)\n",
    "        \n",
    "        # Check for win or lose\n",
    "        status = win_or_lose(good_guesses, bad_guesses, the_word, max_guesses)\n",
    "        \n",
    "    # Game ended, check for win or lose.\n",
    "    if status == 1:\n",
    "        draw_game(good_guesses, bad_guesses, the_word, max_guesses)\n",
    "        print \"\\nCongratulations, you guessed \\'{}\\' correctly!\".format(the_word)\n",
    "    elif status == -1:\n",
    "        print \"\\nSorry, but you ran out of guesses.\\nThe word was \\'{}\\'.\".format(the_word)\n",
    "    else:\n",
    "        print \"\\nSorry you had to go, maybe next time.\\n\""
   ]
  },
  {
   "cell_type": "code",
   "execution_count": null,
   "metadata": {
    "collapsed": false
   },
   "outputs": [
    {
     "name": "stdout",
     "output_type": "stream",
     "text": [
      "\n",
      "You entered a non-letter. I can't work with that.\n"
     ]
    }
   ],
   "source": [
    "hangman()"
   ]
  },
  {
   "cell_type": "code",
   "execution_count": null,
   "metadata": {
    "collapsed": true
   },
   "outputs": [],
   "source": []
  }
 ],
 "metadata": {
  "kernelspec": {
   "display_name": "Python 2",
   "language": "python",
   "name": "python2"
  },
  "language_info": {
   "codemirror_mode": {
    "name": "ipython",
    "version": 2
   },
   "file_extension": ".py",
   "mimetype": "text/x-python",
   "name": "python",
   "nbconvert_exporter": "python",
   "pygments_lexer": "ipython2",
   "version": "2.7.11"
  }
 },
 "nbformat": 4,
 "nbformat_minor": 0
}
