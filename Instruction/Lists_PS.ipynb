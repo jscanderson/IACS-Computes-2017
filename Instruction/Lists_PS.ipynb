{
 "cells": [
  {
   "cell_type": "markdown",
   "metadata": {},
   "source": [
    "# Lists"
   ]
  },
  {
   "cell_type": "markdown",
   "metadata": {},
   "source": [
    "*content from the book \"Python Crash Course\" by Eric Matthes\n"
   ]
  },
  {
   "cell_type": "markdown",
   "metadata": {},
   "source": [
    "In this section you will learn what lists are and how to start working with the elements in the list. Lists allow you to store sets of information in one place, whether you have a few items or millions of items.\n",
    "\n",
    "**What is a list?**\n",
    "\n",
    "A list is a collection of items in a particular order. \n",
    "In Python, square brackets ([]) indicate a list, and individual elements are separated by comma. Here's an example of a list that contains a few car brands"
   ]
  },
  {
   "cell_type": "code",
   "execution_count": 1,
   "metadata": {
    "collapsed": true
   },
   "outputs": [],
   "source": [
    "cars = ['Toyota','Honda','Audi','BMW']"
   ]
  },
  {
   "cell_type": "code",
   "execution_count": 2,
   "metadata": {},
   "outputs": [
    {
     "name": "stdout",
     "output_type": "stream",
     "text": [
      "['Toyota', 'Honda', 'Audi', 'BMW']\n"
     ]
    }
   ],
   "source": [
    "#If you ask Python to print a list, it will return its representation of the list, including the square bracket\n",
    "print(cars)"
   ]
  },
  {
   "cell_type": "code",
   "execution_count": 20,
   "metadata": {},
   "outputs": [
    {
     "name": "stdout",
     "output_type": "stream",
     "text": [
      "[89, 77, 100, 95, 88]\n"
     ]
    }
   ],
   "source": [
    "#You can put any kind of varriable in a list.\n",
    "scores = [89,77,100,95,88]  # list containing the scores of five students \n",
    "print(scores)"
   ]
  },
  {
   "cell_type": "markdown",
   "metadata": {},
   "source": [
    "**Accessing Elements in a List**  <br>\n",
    "Lists are ordered. So you can access any element in a list by telling Python the position, or *index*, of the item desired.  To access an element, write the name of the list followed by the index of the item enclosed in square brackets.  **Index positions start at 0, not 1. **   The first item in a list has an index of 0, the second item has an index of 1, and so on. For example, let's pull out the first car brand in the list cars:"
   ]
  },
  {
   "cell_type": "code",
   "execution_count": 4,
   "metadata": {},
   "outputs": [
    {
     "name": "stdout",
     "output_type": "stream",
     "text": [
      "Toyota\n"
     ]
    }
   ],
   "source": [
    "print(cars[0])  #print the first item. Note that Python returns just the element without square brackets or quotation marks "
   ]
  },
  {
   "cell_type": "code",
   "execution_count": 5,
   "metadata": {},
   "outputs": [
    {
     "name": "stdout",
     "output_type": "stream",
     "text": [
      "Honda\n"
     ]
    }
   ],
   "source": [
    "print(cars[1])  #print the second item"
   ]
  },
  {
   "cell_type": "code",
   "execution_count": 6,
   "metadata": {},
   "outputs": [
    {
     "name": "stdout",
     "output_type": "stream",
     "text": [
      "95\n"
     ]
    }
   ],
   "source": [
    "print(scores[3])  #print the fourth item in the list scores"
   ]
  },
  {
   "cell_type": "markdown",
   "metadata": {},
   "source": [
    "By asking for the item at index -1, Python returns the last item."
   ]
  },
  {
   "cell_type": "code",
   "execution_count": 21,
   "metadata": {},
   "outputs": [
    {
     "name": "stdout",
     "output_type": "stream",
     "text": [
      "88\n"
     ]
    }
   ],
   "source": [
    "print(scores[-1])"
   ]
  },
  {
   "cell_type": "markdown",
   "metadata": {},
   "source": [
    "The index -2 return the second item from the end of the list."
   ]
  },
  {
   "cell_type": "code",
   "execution_count": 22,
   "metadata": {},
   "outputs": [
    {
     "name": "stdout",
     "output_type": "stream",
     "text": [
      "95\n"
     ]
    }
   ],
   "source": [
    "print(scores[-2])"
   ]
  },
  {
   "cell_type": "markdown",
   "metadata": {
    "collapsed": true
   },
   "source": [
    "You can use individual values from a list as you would any other variable. For example, you can use concatenation to create a message from a list. "
   ]
  },
  {
   "cell_type": "code",
   "execution_count": 9,
   "metadata": {},
   "outputs": [
    {
     "name": "stdout",
     "output_type": "stream",
     "text": [
      "My first car was a Toyota.\n"
     ]
    }
   ],
   "source": [
    "message = \"My first car was a \" + cars[0] + \".\"\n",
    "print(message)"
   ]
  },
  {
   "cell_type": "markdown",
   "metadata": {},
   "source": [
    "# Changing, Adding and Removing Elements"
   ]
  },
  {
   "cell_type": "markdown",
   "metadata": {},
   "source": [
    "**Modifying Element in a List**  : the syntax is similar to the syntax for accessing an element in a list. Use the name of the list followed by the index of the element you want to change, and then give the new value you want to change."
   ]
  },
  {
   "cell_type": "code",
   "execution_count": 10,
   "metadata": {},
   "outputs": [
    {
     "name": "stdout",
     "output_type": "stream",
     "text": [
      "[89, 82, 100, 95, 88]\n"
     ]
    }
   ],
   "source": [
    "scores = [89,77,100,95,88]\n",
    "scores[1] = 82   #change the 2nd score from 77 to 82\n",
    "print(scores)"
   ]
  },
  {
   "cell_type": "markdown",
   "metadata": {},
   "source": [
    "**Adding Elements to a List**\n",
    "<br>\n",
    "(I). Appending an element to a list:  We can add the new element to the end of the list using the append() method. "
   ]
  },
  {
   "cell_type": "code",
   "execution_count": 11,
   "metadata": {},
   "outputs": [
    {
     "name": "stdout",
     "output_type": "stream",
     "text": [
      "[89, 82, 100, 95, 88, 99]\n"
     ]
    }
   ],
   "source": [
    "scores.append(99)\n",
    "print(scores)"
   ]
  },
  {
   "cell_type": "markdown",
   "metadata": {},
   "source": [
    "The append() method makes it easy to build lists dynamically. For example, you can start with an empty list, and then add elements to the list.  This is very useful because sometimes we don't know the data we want to store in a program until we run the program. "
   ]
  },
  {
   "cell_type": "code",
   "execution_count": 14,
   "metadata": {},
   "outputs": [
    {
     "name": "stdout",
     "output_type": "stream",
     "text": [
      "[0, 2, 4, 6, 8, 10]\n"
     ]
    }
   ],
   "source": [
    "#Create a list of even numbers from 0 to 10\n",
    "even_numbers = []\n",
    "i = 0\n",
    "while i <= 10:\n",
    "    even_numbers.append(i)\n",
    "    i = i+2\n",
    "    \n",
    "print(even_numbers)"
   ]
  },
  {
   "cell_type": "markdown",
   "metadata": {},
   "source": [
    "(II) Inserting an element into a list: We can add a new element at any position on the list by using the insert() method.  We need to specify the index of the new element and the value of the new element."
   ]
  },
  {
   "cell_type": "code",
   "execution_count": 18,
   "metadata": {},
   "outputs": [
    {
     "name": "stdout",
     "output_type": "stream",
     "text": [
      "['Ford', 'Toyota', 'Honda', 'Audi', 'BMW']\n"
     ]
    }
   ],
   "source": [
    "cars = ['Toyota','Honda','Audi','BMW']\n",
    "cars.insert(0,'Ford') #opens a space at position 0 and stores the value 'Ford\" at that location and shifts every other \n",
    "#one position to the right\n",
    "print(cars)"
   ]
  },
  {
   "cell_type": "markdown",
   "metadata": {},
   "source": [
    "**Removing Elements from a List**  \n",
    "<br>\n",
    "I. If you know the position of the element you want to remove, you can use the del statement"
   ]
  },
  {
   "cell_type": "code",
   "execution_count": 23,
   "metadata": {},
   "outputs": [
    {
     "name": "stdout",
     "output_type": "stream",
     "text": [
      "[77, 100, 95, 88]\n"
     ]
    }
   ],
   "source": [
    "scores = [89,77,100,95,88]\n",
    "del scores[0]\n",
    "print(scores)"
   ]
  },
  {
   "cell_type": "markdown",
   "metadata": {},
   "source": [
    "II. If you know only the value of the element you want to remove, you can use the remove() method"
   ]
  },
  {
   "cell_type": "code",
   "execution_count": 25,
   "metadata": {},
   "outputs": [
    {
     "name": "stdout",
     "output_type": "stream",
     "text": [
      "[77, 100, 95, 88]\n"
     ]
    }
   ],
   "source": [
    "scores = [89,77,100,95,88]\n",
    "scores.remove(89)\n",
    "print(scores)"
   ]
  },
  {
   "cell_type": "markdown",
   "metadata": {},
   "source": [
    "Note the remove() method removes only the first occurence of the value you specify. If the element you want to remove appear more than once, you will need to use a loop. "
   ]
  },
  {
   "cell_type": "markdown",
   "metadata": {},
   "source": [
    "# Organizing a List"
   ]
  },
  {
   "cell_type": "markdown",
   "metadata": {},
   "source": [
    "Sometimes lists are created in an unpredictable order, because you can't always control the order in which your users provide their data. A lot of times you want to present your data in a particular order. Python provides a number of ways to organize your lists depending on the situations. "
   ]
  },
  {
   "cell_type": "markdown",
   "metadata": {},
   "source": [
    "**I. Sorting a list permamently with the sort() method **"
   ]
  },
  {
   "cell_type": "code",
   "execution_count": 31,
   "metadata": {},
   "outputs": [
    {
     "name": "stdout",
     "output_type": "stream",
     "text": [
      "[77, 88, 89, 95, 100]\n"
     ]
    }
   ],
   "source": [
    "scores = [89,77,100,95,88] \n",
    "scores.sort()   #change the order of the list permanently\n",
    "print(scores)"
   ]
  },
  {
   "cell_type": "markdown",
   "metadata": {},
   "source": [
    "You can also sort this list in reverse order by passing the argument reverse=True"
   ]
  },
  {
   "cell_type": "code",
   "execution_count": 33,
   "metadata": {},
   "outputs": [
    {
     "name": "stdout",
     "output_type": "stream",
     "text": [
      "[100, 95, 89, 88, 77]\n"
     ]
    }
   ],
   "source": [
    "scores = [89,77,100,95,88] \n",
    "scores.sort(reverse=True)   #change the order of the list permanently\n",
    "print(scores)"
   ]
  },
  {
   "cell_type": "code",
   "execution_count": 36,
   "metadata": {},
   "outputs": [
    {
     "name": "stdout",
     "output_type": "stream",
     "text": [
      "['audi', 'bmw', 'honda', 'toyota']\n"
     ]
    }
   ],
   "source": [
    "#can also sort a list in alphabetical order\n",
    "cars = ['toyota','honda','audi','bmw']\n",
    "cars.sort()\n",
    "print(cars)"
   ]
  },
  {
   "cell_type": "markdown",
   "metadata": {},
   "source": [
    "**II. Sorting a list temporarily with the sorted() function **.  The sorted() function doesn't affect the actual order of the lthe list"
   ]
  },
  {
   "cell_type": "code",
   "execution_count": 42,
   "metadata": {},
   "outputs": [
    {
     "name": "stdout",
     "output_type": "stream",
     "text": [
      "The original list is:\n",
      "[89, 77, 100, 95, 88]\n",
      "Here is the sorted list: \n",
      "[77, 88, 89, 95, 100]\n",
      "Here is the original list again:\n",
      "[89, 77, 100, 95, 88]\n"
     ]
    }
   ],
   "source": [
    "scores = [89,77,100,95,88]\n",
    "print('The original list is:')\n",
    "print(scores)\n",
    "print('Here is the sorted list: ')\n",
    "print(sorted(scores))\n",
    "print('Here is the original list again:')\n",
    "print(scores)   #the list is still stored in the original order"
   ]
  },
  {
   "cell_type": "markdown",
   "metadata": {},
   "source": [
    "**III. Printing a list in reverse order**:  use the reverse() method"
   ]
  },
  {
   "cell_type": "code",
   "execution_count": 44,
   "metadata": {},
   "outputs": [
    {
     "name": "stdout",
     "output_type": "stream",
     "text": [
      "['toyota', 'honda', 'audi', 'bmw']\n",
      "['bmw', 'audi', 'honda', 'toyota']\n"
     ]
    }
   ],
   "source": [
    "cars = ['toyota','honda','audi','bmw']\n",
    "print(cars)\n",
    "\n",
    "cars.reverse()\n",
    "print(cars)"
   ]
  },
  {
   "cell_type": "markdown",
   "metadata": {},
   "source": [
    "**IV. Finding the length of a list **:  use the len() function"
   ]
  },
  {
   "cell_type": "code",
   "execution_count": 46,
   "metadata": {},
   "outputs": [
    {
     "name": "stdout",
     "output_type": "stream",
     "text": [
      "4\n"
     ]
    }
   ],
   "source": [
    "cars = ['toyota','honda','audi','bmw']\n",
    "print(len(cars))"
   ]
  },
  {
   "cell_type": "markdown",
   "metadata": {},
   "source": [
    "This is useful if you want to use a while loop to perform the same action for a bunch of items in a list.\n",
    "Say we decided to add a curve of 5 points to the score of every student. We can do so like this:"
   ]
  },
  {
   "cell_type": "code",
   "execution_count": 50,
   "metadata": {},
   "outputs": [
    {
     "name": "stdout",
     "output_type": "stream",
     "text": [
      "[99, 87, 110, 105, 98]\n"
     ]
    }
   ],
   "source": [
    "print(scores) #For reference, let's see what scores is right now"
   ]
  },
  {
   "cell_type": "code",
   "execution_count": 51,
   "metadata": {},
   "outputs": [
    {
     "name": "stdout",
     "output_type": "stream",
     "text": [
      "[104, 92, 115, 110, 103]\n"
     ]
    }
   ],
   "source": [
    "i = 0\n",
    "while i < len(scores):\n",
    "    scores[i] = scores[i] + 5  #add 5 to the ith element of scores\n",
    "    i = i + 1 #don't forget to increment i\n",
    "    \n",
    "print(scores)    "
   ]
  },
  {
   "cell_type": "markdown",
   "metadata": {},
   "source": [
    "Do practice problems"
   ]
  },
  {
   "cell_type": "code",
   "execution_count": null,
   "metadata": {
    "collapsed": true
   },
   "outputs": [],
   "source": []
  }
 ],
 "metadata": {
  "kernelspec": {
   "display_name": "Python 3",
   "language": "python",
   "name": "python3"
  },
  "language_info": {
   "codemirror_mode": {
    "name": "ipython",
    "version": 3
   },
   "file_extension": ".py",
   "mimetype": "text/x-python",
   "name": "python",
   "nbconvert_exporter": "python",
   "pygments_lexer": "ipython3",
   "version": "3.6.1"
  }
 },
 "nbformat": 4,
 "nbformat_minor": 2
}
