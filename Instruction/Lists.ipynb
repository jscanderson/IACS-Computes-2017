{
 "cells": [
  {
   "cell_type": "markdown",
   "metadata": {},
   "source": [
    "# Lists"
   ]
  },
  {
   "cell_type": "markdown",
   "metadata": {},
   "source": [
    "We've learned how to assign names to variables and store things in them like numbers or strings. But sometimes, it's advantageous to use the same name to refer to a bunch of numbers or strings. For example, let's say you want to calculate with a bunch of student test scores. Here's one way you could store those as variables:"
   ]
  },
  {
   "cell_type": "code",
   "execution_count": 1,
   "metadata": {
    "collapsed": true
   },
   "outputs": [],
   "source": [
    "score1 = 89\n",
    "score2 = 77\n",
    "score3 = 100\n",
    "score4 = 95\n",
    "score5 = 88"
   ]
  },
  {
   "cell_type": "markdown",
   "metadata": {},
   "source": [
    "This is only 5 test scores, and it took a lot of work to store them into variables. Can you imagine what it would be like with a class of 30 students? And then what if you wanted to calculate the average of these scores? It would take longer to do that than simply not using variables at all. Fortunately there is a way around this that affords us a lot of utility. We can use a single list to store multiple numbers under the same variable name like this:"
   ]
  },
  {
   "cell_type": "code",
   "execution_count": 2,
   "metadata": {
    "collapsed": true
   },
   "outputs": [],
   "source": [
    "scores = [89,77,100,95,88]"
   ]
  },
  {
   "cell_type": "markdown",
   "metadata": {},
   "source": [
    "Now, when we want to look at the scores, we can print all of them at once!"
   ]
  },
  {
   "cell_type": "code",
   "execution_count": 3,
   "metadata": {
    "collapsed": false
   },
   "outputs": [
    {
     "name": "stdout",
     "output_type": "stream",
     "text": [
      "[89, 77, 100, 95, 88]\n"
     ]
    }
   ],
   "source": [
    "print(scores)"
   ]
  },
  {
   "cell_type": "markdown",
   "metadata": {},
   "source": [
    "You can put any kind of variable in a list, such as strings:"
   ]
  },
  {
   "cell_type": "code",
   "execution_count": 4,
   "metadata": {
    "collapsed": false
   },
   "outputs": [
    {
     "name": "stdout",
     "output_type": "stream",
     "text": [
      "['Billy', 'Matthew', 'Shannon', 'Kristen', 'Taylor']\n"
     ]
    }
   ],
   "source": [
    "names = [\"Billy\",\"Matthew\",\"Shannon\",\"Kristen\",\"Taylor\"]\n",
    "print(names)"
   ]
  },
  {
   "cell_type": "code",
   "execution_count": 5,
   "metadata": {
    "collapsed": false
   },
   "outputs": [
    {
     "name": "stdout",
     "output_type": "stream",
     "text": [
      "[True, False, False, True, False]\n"
     ]
    }
   ],
   "source": [
    "key = [True, False, False, True ,False]\n",
    "print(key)"
   ]
  },
  {
   "cell_type": "markdown",
   "metadata": {},
   "source": [
    "An important aspect of lists is that they are *ordered*. This means that the list [1,2,3] is different from the list [2,1,3]. This can work to our advantage, because each element of a list is uniquely identified by it's position in the list, which leads to our next talking point:"
   ]
  },
  {
   "cell_type": "markdown",
   "metadata": {},
   "source": [
    "\n",
    "Lists wouldn't be very useful if we couldn't access the individual components. To do this, we use the square brackets [ ]"
   ]
  },
  {
   "cell_type": "code",
   "execution_count": 6,
   "metadata": {
    "collapsed": false
   },
   "outputs": [
    {
     "name": "stdout",
     "output_type": "stream",
     "text": [
      "89\n",
      "77\n",
      "100\n",
      "95\n",
      "88\n"
     ]
    }
   ],
   "source": [
    "print(scores[0])\n",
    "print(scores[1])\n",
    "print(scores[2])\n",
    "print(scores[3])\n",
    "print(scores[4])"
   ]
  },
  {
   "cell_type": "markdown",
   "metadata": {},
   "source": [
    "Once again, note that python starts counting at 0! The number used to access an element of a list (i.e. the number inside the square brackets) is called an index. So the first element of the list is indexed as the 0th element. What happens if we try to access scores with the index 5?"
   ]
  },
  {
   "cell_type": "code",
   "execution_count": 7,
   "metadata": {
    "collapsed": false
   },
   "outputs": [
    {
     "ename": "IndexError",
     "evalue": "list index out of range",
     "output_type": "error",
     "traceback": [
      "\u001b[0;31m---------------------------------------------------------------------------\u001b[0m",
      "\u001b[0;31mIndexError\u001b[0m                                Traceback (most recent call last)",
      "\u001b[0;32m<ipython-input-7-372fbe573445>\u001b[0m in \u001b[0;36m<module>\u001b[0;34m()\u001b[0m\n\u001b[0;32m----> 1\u001b[0;31m \u001b[0mprint\u001b[0m\u001b[0;34m(\u001b[0m\u001b[0mscores\u001b[0m\u001b[0;34m[\u001b[0m\u001b[0;36m5\u001b[0m\u001b[0;34m]\u001b[0m\u001b[0;34m)\u001b[0m\u001b[0;34m\u001b[0m\u001b[0m\n\u001b[0m",
      "\u001b[0;31mIndexError\u001b[0m: list index out of range"
     ]
    }
   ],
   "source": [
    "print(scores[5])"
   ]
  },
  {
   "cell_type": "markdown",
   "metadata": {},
   "source": [
    "We get an error. This is because we're trying to access an element of a list when that element doesn't exist."
   ]
  },
  {
   "cell_type": "markdown",
   "metadata": {},
   "source": [
    "While we can't access scores[5], we *can* access scores[-1]. When python encounters a negative index, it starts counting from the *end* of the list and returns the value it finds. So the last element in the list can be accessed with an index of -1."
   ]
  },
  {
   "cell_type": "code",
   "execution_count": 8,
   "metadata": {
    "collapsed": false
   },
   "outputs": [
    {
     "data": {
      "text/plain": [
       "88"
      ]
     },
     "execution_count": 8,
     "metadata": {},
     "output_type": "execute_result"
    }
   ],
   "source": [
    "scores[-1]"
   ]
  },
  {
   "cell_type": "markdown",
   "metadata": {},
   "source": [
    "Note that this only works up until you reach the beginning of the list, so the most negative index that won't return an error is -(length of list). In our example, scores[-5] would return 89, the first entry of the list. Trying scores[-6] would give an error."
   ]
  },
  {
   "cell_type": "markdown",
   "metadata": {},
   "source": [
    "When we access an element of a list, it behaves just like the type that is stored in the list. For example, we can add two elements of a list (when that addition makes sense)."
   ]
  },
  {
   "cell_type": "code",
   "execution_count": 9,
   "metadata": {
    "collapsed": false
   },
   "outputs": [
    {
     "name": "stdout",
     "output_type": "stream",
     "text": [
      "166\n"
     ]
    }
   ],
   "source": [
    "print(scores[0]+scores[1])"
   ]
  },
  {
   "cell_type": "code",
   "execution_count": 10,
   "metadata": {
    "collapsed": false
   },
   "outputs": [
    {
     "name": "stdout",
     "output_type": "stream",
     "text": [
      "Billy Matthew\n"
     ]
    }
   ],
   "source": [
    "print(names[0],names[1])"
   ]
  },
  {
   "cell_type": "markdown",
   "metadata": {},
   "source": [
    "And we can make changes to a single element of a list (i.e. we can assign new things to a position in a list). Let's say we made an error and need to change the third student's score to 79. We can do that like this:"
   ]
  },
  {
   "cell_type": "code",
   "execution_count": 11,
   "metadata": {
    "collapsed": false
   },
   "outputs": [
    {
     "name": "stdout",
     "output_type": "stream",
     "text": [
      "[89, 77, 79, 95, 88]\n"
     ]
    }
   ],
   "source": [
    "scores[2] = 79 #An index of 2 will give us the 3rd element of the list\n",
    "print(scores)"
   ]
  },
  {
   "cell_type": "markdown",
   "metadata": {},
   "source": [
    "Though it's less commmon, the elements of a list don't even have to be the same type! It's possible for us to do something like this:"
   ]
  },
  {
   "cell_type": "code",
   "execution_count": 12,
   "metadata": {
    "collapsed": false
   },
   "outputs": [
    {
     "name": "stdout",
     "output_type": "stream",
     "text": [
      "['h', 67, True, 9, 'masonry', False, True]\n"
     ]
    }
   ],
   "source": [
    "randomlist = [\"h\",67,True,9,\"masonry\",False,True]\n",
    "print(randomlist)"
   ]
  },
  {
   "cell_type": "markdown",
   "metadata": {
    "collapsed": true
   },
   "source": [
    "## Some functions we can call on lists"
   ]
  },
  {
   "cell_type": "markdown",
   "metadata": {},
   "source": [
    "There are some useful built-in functions we can call on lists to help us manipulate them. A function in Python is already-written code with a specific purpose. It can be used by invoking the name of the function in your code, and parentheses are used to give the function input.\n",
    "\n",
    "The len function (which stands for length) tells us how many items are in a list."
   ]
  },
  {
   "cell_type": "code",
   "execution_count": 13,
   "metadata": {
    "collapsed": false
   },
   "outputs": [
    {
     "data": {
      "text/plain": [
       "5"
      ]
     },
     "execution_count": 13,
     "metadata": {},
     "output_type": "execute_result"
    }
   ],
   "source": [
    "len(scores)"
   ]
  },
  {
   "cell_type": "markdown",
   "metadata": {},
   "source": [
    "This is useful if you want to use a while loop to perform the same action for a bunch of items in a list.\n",
    "\n",
    "Say we decided to add a curve of 5 points to the score of every student. We can do so like this:"
   ]
  },
  {
   "cell_type": "code",
   "execution_count": 14,
   "metadata": {
    "collapsed": false
   },
   "outputs": [
    {
     "name": "stdout",
     "output_type": "stream",
     "text": [
      "[89, 77, 79, 95, 88]\n"
     ]
    }
   ],
   "source": [
    "print(scores) #For reference, let's see what scores is right now"
   ]
  },
  {
   "cell_type": "code",
   "execution_count": 15,
   "metadata": {
    "collapsed": true
   },
   "outputs": [],
   "source": [
    "i = 0\n",
    "while i < len(scores):\n",
    "    scores[i] = scores[i] + 5  #add 5 to the ith element of scores\n",
    "    i = i + 1 #don't forget to increment i"
   ]
  },
  {
   "cell_type": "code",
   "execution_count": 16,
   "metadata": {
    "collapsed": false
   },
   "outputs": [
    {
     "name": "stdout",
     "output_type": "stream",
     "text": [
      "[94, 82, 84, 100, 93]\n"
     ]
    }
   ],
   "source": [
    "print(scores)"
   ]
  },
  {
   "cell_type": "markdown",
   "metadata": {},
   "source": [
    "We can use the append function to add another student's score to the list."
   ]
  },
  {
   "cell_type": "code",
   "execution_count": 17,
   "metadata": {
    "collapsed": false
   },
   "outputs": [
    {
     "name": "stdout",
     "output_type": "stream",
     "text": [
      "[94, 82, 84, 100, 93]\n",
      "[94, 82, 84, 100, 93, 85]\n"
     ]
    }
   ],
   "source": [
    "print(scores) #again, print beforehand for reference\n",
    "scores.append(85) #This is a special function that uses a period to act on something. Note the syntax.\n",
    "print(scores)"
   ]
  },
  {
   "cell_type": "markdown",
   "metadata": {},
   "source": [
    "The append function is very useful for building up a list from scratch (e.g. inside a loop). One very useful technique is starting an empty list and appending to it later."
   ]
  },
  {
   "cell_type": "code",
   "execution_count": 18,
   "metadata": {
    "collapsed": true
   },
   "outputs": [],
   "source": [
    "mylist = []"
   ]
  },
  {
   "cell_type": "markdown",
   "metadata": {},
   "source": [
    "The code below will now put the first 8 even numbers into mylist."
   ]
  },
  {
   "cell_type": "code",
   "execution_count": 19,
   "metadata": {
    "collapsed": false
   },
   "outputs": [
    {
     "name": "stdout",
     "output_type": "stream",
     "text": [
      "[0, 2, 4, 6, 8, 10, 12, 14]\n"
     ]
    }
   ],
   "source": [
    "i = 0\n",
    "while i < 8:\n",
    "    mylist.append(2*i)  #i runs from 0 to 7, so 2*i for each i will give us the first 8 evens\n",
    "    i = i + 1\n",
    "print(mylist)"
   ]
  },
  {
   "cell_type": "markdown",
   "metadata": {},
   "source": [
    "The del keyword removes the element of the list at the index specified. For example, this code deletes the last element of scores."
   ]
  },
  {
   "cell_type": "code",
   "execution_count": 20,
   "metadata": {
    "collapsed": false
   },
   "outputs": [
    {
     "name": "stdout",
     "output_type": "stream",
     "text": [
      "[94, 82, 84, 100, 93, 85]\n",
      "[94, 82, 84, 100, 93]\n"
     ]
    }
   ],
   "source": [
    "print(scores)\n",
    "del scores[-1]\n",
    "print(scores)"
   ]
  },
  {
   "cell_type": "markdown",
   "metadata": {},
   "source": [
    "A note of caution: be careful using the del keyword in loops, as it's easy to lose track of how long your list is. This will understandably cause many errors."
   ]
  },
  {
   "cell_type": "markdown",
   "metadata": {},
   "source": [
    "## Worked Examples "
   ]
  },
  {
   "cell_type": "markdown",
   "metadata": {},
   "source": [
    "Given the list below, what is the average of the first, third, and fifth entries?"
   ]
  },
  {
   "cell_type": "code",
   "execution_count": null,
   "metadata": {
    "collapsed": false
   },
   "outputs": [],
   "source": [
    "# The list holding the entries we want to look at\n",
    "the_list = [98, 43, 56, 38, 99, 17, 22]\n",
    "\n",
    "# Remember, Python starts indexing at 0! So to look\n",
    "# at the first entry, we need index 0, to look at the\n",
    "# the third entry, we need index 2, and the fifth entry \n",
    "# would be index 4. We want the average, so we need to\n",
    "# add the entries together and divide by the number\n",
    "# of entries. So lets add the entries together.\n",
    "the_average = the_list[0] + the_list[2] + the_list[4]\n",
    "\n",
    "# We have the sum, now we need to divide by the number\n",
    "# of entries. Also: remember that integer division is \n",
    "# different from floating point division, and be sure to\n",
    "# use the correct type. (Hint: we want floating point \n",
    "# division here since we don't expect the average to\n",
    "# be an integer)\n",
    "the_average = the_average / 3.0\n",
    "\n",
    "# We've calculated the average. Now we need to display \n",
    "# it\n",
    "print the_average"
   ]
  },
  {
   "cell_type": "markdown",
   "metadata": {},
   "source": [
    "Here's the above code without comments:"
   ]
  },
  {
   "cell_type": "code",
   "execution_count": null,
   "metadata": {
    "collapsed": false
   },
   "outputs": [],
   "source": [
    "the_list = [98, 43, 56, 38, 99, 17, 22]\n",
    "\n",
    "the_average = the_list[0] + the_list[2] + the_list[4]\n",
    "\n",
    "the_average = the_average / 3.0\n",
    "\n",
    "print the_average"
   ]
  },
  {
   "cell_type": "markdown",
   "metadata": {
    "collapsed": true
   },
   "source": [
    "## Practice Problems"
   ]
  },
  {
   "cell_type": "markdown",
   "metadata": {},
   "source": [
    "Write a cell that creates a list that contains 5 seperate entries with value 1. (That is, the list has length 5 and every entry has value 1.)"
   ]
  },
  {
   "cell_type": "code",
   "execution_count": null,
   "metadata": {
    "collapsed": true
   },
   "outputs": [],
   "source": []
  },
  {
   "cell_type": "markdown",
   "metadata": {},
   "source": [
    "Write a cell that creates a list containing the first 17 odd numbers."
   ]
  },
  {
   "cell_type": "code",
   "execution_count": null,
   "metadata": {
    "collapsed": true
   },
   "outputs": [],
   "source": []
  },
  {
   "cell_type": "markdown",
   "metadata": {},
   "source": [
    "Write a cell that creates a list of all multiples of 5 less than 100."
   ]
  },
  {
   "cell_type": "code",
   "execution_count": null,
   "metadata": {
    "collapsed": true
   },
   "outputs": [],
   "source": []
  },
  {
   "cell_type": "markdown",
   "metadata": {},
   "source": [
    "Write a cell that sums all the entries of a list."
   ]
  },
  {
   "cell_type": "code",
   "execution_count": null,
   "metadata": {
    "collapsed": true
   },
   "outputs": [],
   "source": []
  },
  {
   "cell_type": "markdown",
   "metadata": {},
   "source": [
    "Write a cell that calculates the average of a list of numbers."
   ]
  },
  {
   "cell_type": "code",
   "execution_count": null,
   "metadata": {
    "collapsed": true
   },
   "outputs": [],
   "source": []
  },
  {
   "cell_type": "markdown",
   "metadata": {},
   "source": [
    "Write a cell that copies all numbers from the given list below that are not multiples of 2 and puts them in a new list. (hint: This can be done using a loop with a conditional)."
   ]
  },
  {
   "cell_type": "code",
   "execution_count": null,
   "metadata": {
    "collapsed": true
   },
   "outputs": [],
   "source": [
    "first_list = [ 1, 4, 9, 16, 25, 36, 49, 64, 81, 100]\n",
    "\n"
   ]
  },
  {
   "cell_type": "markdown",
   "metadata": {},
   "source": [
    "## Advanced Problems"
   ]
  },
  {
   "cell_type": "markdown",
   "metadata": {},
   "source": [
    "*Standard Deviation*: Write a cell that calculates the standard deviation of a list of numbers. The formula for the standard deviation is  \n",
    "  \n",
    "$$ \\sigma = \\sqrt{\\frac{1}{N-1} \\sum_{i = 1}^N(x_i - \\bar{x})^2}$$  \n",
    "  \n",
    "where $N$ is the number of elements in the list, $x_i$ is a particular element of the list, and $\\bar{x}$ is the average of the list of numbers. (hint: you will need to calculate the average first).\n",
    "\n",
    "Test your code on the given list. The answer is approximately 31.23."
   ]
  },
  {
   "cell_type": "code",
   "execution_count": null,
   "metadata": {
    "collapsed": true
   },
   "outputs": [],
   "source": [
    "test_list = [7, 39, 2, 56, 98, 74, 34, 17, 56, 88, 66, 0, 56, 34]\n",
    "\n"
   ]
  },
  {
   "cell_type": "markdown",
   "metadata": {},
   "source": [
    "*Median*: Write a cell that calculates the median of a list of numbers. The answer for test_list is 47.5."
   ]
  },
  {
   "cell_type": "code",
   "execution_count": null,
   "metadata": {
    "collapsed": true
   },
   "outputs": [],
   "source": []
  },
  {
   "cell_type": "markdown",
   "metadata": {},
   "source": [
    "*Mode*: Write a cell that calculates the mode of a list of numbers. The answer for test_list is 56."
   ]
  },
  {
   "cell_type": "code",
   "execution_count": null,
   "metadata": {
    "collapsed": true
   },
   "outputs": [],
   "source": []
  }
 ],
 "metadata": {
  "kernelspec": {
   "display_name": "Python 3",
   "language": "python",
   "name": "python3"
  },
  "language_info": {
   "codemirror_mode": {
    "name": "ipython",
    "version": 3
   },
   "file_extension": ".py",
   "mimetype": "text/x-python",
   "name": "python",
   "nbconvert_exporter": "python",
   "pygments_lexer": "ipython3",
   "version": "3.6.0"
  }
 },
 "nbformat": 4,
 "nbformat_minor": 0
}
