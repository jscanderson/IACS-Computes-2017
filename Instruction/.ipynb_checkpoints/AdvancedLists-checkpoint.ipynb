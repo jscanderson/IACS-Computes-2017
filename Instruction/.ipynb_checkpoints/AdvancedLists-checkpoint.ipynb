{
 "cells": [
  {
   "cell_type": "markdown",
   "metadata": {},
   "source": [
    "# Advanced Lists"
   ]
  },
  {
   "cell_type": "markdown",
   "metadata": {},
   "source": [
    "Having a built-in list type is one of the many strengths of Python. In this notebook we'll talk about some of the more advanced features with lists."
   ]
  },
  {
   "cell_type": "markdown",
   "metadata": {},
   "source": [
    "## List Comprehension"
   ]
  },
  {
   "cell_type": "markdown",
   "metadata": {},
   "source": [
    "We have seen different ways of creating lists in Python. What you have seen up until now is universal across every common programming language (with perhaps some imported libraries). List comprehension is a faster way of creating lists that is supported in Python and is slowly making its way to other languages."
   ]
  },
  {
   "cell_type": "markdown",
   "metadata": {},
   "source": [
    "Though you don't need to be familiar with mathematical set notation to understand list comprehension, those who are familiar will benefit from the comparison. For this reason, we've included a little bit below. The list we'll be making can be written in set notation as the following:  \n",
    "$$ S = \\{ 2n \\; \\mbox{|} \\; n \\in \\{0,1,2,...,20\\} \\} $$"
   ]
  },
  {
   "cell_type": "markdown",
   "metadata": {},
   "source": [
    "This is read as \"2n such n is in the set of integers from 0 to 20\". Ultimately this is the set of even numbers from 0 to 40. How would we make this list in Python using the tools we already have?"
   ]
  },
  {
   "cell_type": "code",
   "execution_count": 1,
   "metadata": {
    "collapsed": false
   },
   "outputs": [
    {
     "name": "stdout",
     "output_type": "stream",
     "text": [
      "[0, 2, 4, 6, 8, 10, 12, 14, 16, 18, 20, 22, 24, 26, 28, 30, 32, 34, 36, 38, 40]\n"
     ]
    }
   ],
   "source": [
    "the_list = []\n",
    "\n",
    "#There are many ways to do this, but we've chosen one below.\n",
    "for i in range(41):        #Loop from 0 to 40\n",
    "    if i % 2 == 0:         #if i is even,...\n",
    "        the_list.append(i) #...append it to our list\n",
    "        \n",
    "print(the_list)"
   ]
  },
  {
   "cell_type": "markdown",
   "metadata": {},
   "source": [
    "List comprehension provides a more succinct way to do this. What took us 4 lines of code above can actually be done in a single line. Below we create the same list using list comprehension:"
   ]
  },
  {
   "cell_type": "code",
   "execution_count": 2,
   "metadata": {
    "collapsed": false
   },
   "outputs": [
    {
     "name": "stdout",
     "output_type": "stream",
     "text": [
      "[0, 2, 4, 6, 8, 10, 12, 14, 16, 18, 20, 22, 24, 26, 28, 30, 32, 34, 36, 38, 40]\n"
     ]
    }
   ],
   "source": [
    "the_new_list = [2*x for x in range(0,21)] #compare this line to the set notation written above\n",
    "print(the_new_list)"
   ]
  },
  {
   "cell_type": "markdown",
   "metadata": {},
   "source": [
    "Essentially, with the right syntax, Python can understand set notation.\n",
    "  \n",
    "What else can we do easily now? The above can easily be extended to multiples of any number."
   ]
  },
  {
   "cell_type": "code",
   "execution_count": 3,
   "metadata": {
    "collapsed": false
   },
   "outputs": [
    {
     "name": "stdout",
     "output_type": "stream",
     "text": [
      "[0, 3, 6, 9, 12, 15, 18, 21, 24, 27, 30, 33, 36, 39, 42, 45, 48, 51, 54, 57, 60]\n"
     ]
    }
   ],
   "source": [
    "print([3*x for x in range(0,21)])"
   ]
  },
  {
   "cell_type": "markdown",
   "metadata": {},
   "source": [
    "We can use this to remove elements from a list as well by adding an if statement at the end. Here we will print the odd members of range(0,21). First we tell Python to make a list of all integers from 0 to 20, but then say to only include numbers that satisfy the condition of being odd."
   ]
  },
  {
   "cell_type": "code",
   "execution_count": 4,
   "metadata": {
    "collapsed": false
   },
   "outputs": [
    {
     "name": "stdout",
     "output_type": "stream",
     "text": [
      "[1, 3, 5, 7, 9, 11, 13, 15, 17, 19]\n"
     ]
    }
   ],
   "source": [
    "print([x for x in range(0,21) if x % 2 != 0])\n",
    "       #make list             #but only if odd"
   ]
  },
  {
   "cell_type": "markdown",
   "metadata": {},
   "source": [
    "We can do some fairly intricate things by combining these two basic commands of \"for x in\" and \"if.\" For example:"
   ]
  },
  {
   "cell_type": "code",
   "execution_count": 5,
   "metadata": {
    "collapsed": false
   },
   "outputs": [
    {
     "name": "stdout",
     "output_type": "stream",
     "text": [
      "[0, 143, 286, 429, 572, 715, 858]\n"
     ]
    }
   ],
   "source": [
    "print([x for x in range(0,1001) if x % 11 == 0 and x % 13 == 0 ])"
   ]
  },
  {
   "cell_type": "markdown",
   "metadata": {},
   "source": [
    "What did this last set do? We actually printed all the numbers less than 1001 that are multiples of both 11 and 13."
   ]
  },
  {
   "cell_type": "markdown",
   "metadata": {},
   "source": [
    "Here's another more intricate example that uses list comprehension:"
   ]
  },
  {
   "cell_type": "code",
   "execution_count": 6,
   "metadata": {
    "collapsed": false
   },
   "outputs": [
    {
     "name": "stdout",
     "output_type": "stream",
     "text": [
      "[2, 3, 4, 5, 6, 7, 3, 4, 5, 6, 7, 8, 4, 5, 6, 7, 8, 9, 5, 6, 7, 8, 9, 10, 6, 7, 8, 9, 10, 11, 7, 8, 9, 10, 11, 12]\n"
     ]
    }
   ],
   "source": [
    "print([x+y for x in range(1,7) for y in range(1,7)])"
   ]
  },
  {
   "cell_type": "markdown",
   "metadata": {},
   "source": [
    "The above used two variables, x and y, and printed every possible sum x+y resulting from choosing x and y to be values between 1 and 6. Another way to interpret this: It's all the possible dice rolls when rolling 2 dice, with each end value occuring once for each possible way of rolling that number (e.g. the number 7 appears 6 times because there are 6 ways to roll a 7 with 2 dice)."
   ]
  },
  {
   "cell_type": "markdown",
   "metadata": {},
   "source": [
    "Overall, list comprehension is a technique that allows you to quickly make lists on the fly, using fewer variables and fewer lines of code. If the structure isn't intuitive for you now, that's OK. Everything we did with list comprehension you can do with regular loops. However for those who code often, being practiced in list comprehension can save a significant amount of time."
   ]
  },
  {
   "cell_type": "markdown",
   "metadata": {},
   "source": [
    "## Multidimensional Lists"
   ]
  },
  {
   "cell_type": "markdown",
   "metadata": {},
   "source": [
    "Sometimes, instead of storing things in a single list, we'd rather store them in a grid-like fashion. This is almost always the preferred way of handling matrices, which appear very frequently in computing. While the computer doesn't really care how we store our variables, this often helps a lot with human comprehension of certain problems. The way to do this in Python is to use multidimensional lists, which are actually simply lists of lists:"
   ]
  },
  {
   "cell_type": "markdown",
   "metadata": {},
   "source": [
    "Say, for example, that we were looking at a small section of forest. We can think of the land as a grid, and save the (x,y) coordinates of all the trees in a multidimensional list:"
   ]
  },
  {
   "cell_type": "code",
   "execution_count": 7,
   "metadata": {
    "collapsed": false
   },
   "outputs": [
    {
     "name": "stdout",
     "output_type": "stream",
     "text": [
      "[[1, 2], [3, 3], [-1, 0], [-2, 1], [-1, -2], [1, -1]]\n"
     ]
    }
   ],
   "source": [
    "locations = [[1,2],[3,3],[-1,0],[-2,1],[-1,-2],[1,-1]]\n",
    "print(locations)"
   ]
  },
  {
   "cell_type": "markdown",
   "metadata": {},
   "source": [
    "This, in essence is a list of length 6, where each member of the list is itself a list of length 2. We can use a single index to access one of these inner lists like this:"
   ]
  },
  {
   "cell_type": "code",
   "execution_count": 8,
   "metadata": {
    "collapsed": false
   },
   "outputs": [
    {
     "data": {
      "text/plain": [
       "[-1, 0]"
      ]
     },
     "execution_count": 8,
     "metadata": {},
     "output_type": "execute_result"
    }
   ],
   "source": [
    "locations[2]"
   ]
  },
  {
   "cell_type": "markdown",
   "metadata": {},
   "source": [
    "Or we can use two indices to access a single number in the list:"
   ]
  },
  {
   "cell_type": "code",
   "execution_count": 9,
   "metadata": {
    "collapsed": false
   },
   "outputs": [
    {
     "data": {
      "text/plain": [
       "-1"
      ]
     },
     "execution_count": 9,
     "metadata": {},
     "output_type": "execute_result"
    }
   ],
   "source": [
    "locations[2][0]"
   ]
  },
  {
   "cell_type": "markdown",
   "metadata": {},
   "source": [
    "Ultimately, Python doesn't care how long a list is, or what any element in the list is. If you have a list of lists, each \"interior\" list doesn't need to be the same length. This is often a useful trick to take advantage of. However, if you're trying to model a matrix of values, you will need to be careful writing your code to make sure each \"interior\" list is the same length, as that is how matrices really are."
   ]
  },
  {
   "cell_type": "markdown",
   "metadata": {},
   "source": [
    "Depending on the order in which you're approaching these notebooks, you may or may not have been introduced to the numpy library. Either way, a brief introduction to numpy arrays will bee given here."
   ]
  },
  {
   "cell_type": "markdown",
   "metadata": {},
   "source": [
    "Numpy stands for \"numerical Python.\" Among other things, it introduces another data type called a numpy array. This array functions more like a matrix than a simple multidimensional list. It will enforce equality of dimensions, there are ways to multiply them (the way matrices multiply), and using a numpy array will also be faster than using a multidimensional list due to the way they are stored. Below is a simple example for how you can use numpy arrays to work with matrices."
   ]
  },
  {
   "cell_type": "code",
   "execution_count": 10,
   "metadata": {
    "collapsed": true
   },
   "outputs": [],
   "source": [
    "import numpy"
   ]
  },
  {
   "cell_type": "code",
   "execution_count": 11,
   "metadata": {
    "collapsed": false
   },
   "outputs": [
    {
     "name": "stdout",
     "output_type": "stream",
     "text": [
      "A is:\n",
      " [[1 2]\n",
      " [2 3]]\n",
      "B is:\n",
      " [[4 5]\n",
      " [0 2]]\n",
      "C is:\n",
      " [[ 4  9]\n",
      " [ 8 16]]\n"
     ]
    }
   ],
   "source": [
    "A = numpy.array([[1,2],[2,3]]) #a 2x2 matrix containing the values 1,2,2,3\n",
    "B = numpy.array([[4,5],[0,2]]) #a 2x2 matrix containing the values 4,5,0,2\n",
    "\n",
    "print(\"A is:\\n\", A)\n",
    "print(\"B is:\\n\", B)\n",
    "\n",
    "C = numpy.dot(A,B) #use numpy.dot to multiply two matrices\n",
    "\n",
    "print(\"C is:\\n\", C)"
   ]
  },
  {
   "cell_type": "markdown",
   "metadata": {},
   "source": [
    "Why bother with matrices? Matrices appear almost everywhere in computing. Any data that is given to you in a table (perhaps from a geological survey or spectroscopic study) can easily managed using matrices. Matrices appear in scientific computing approximating differential equations. Any image that you open on your computer can be thought of as a matrix where each pixel gives one entry in the matrix (for a black and white picture, each entry is simply a number indicating what shade between black and white each pixel should be). In general, you'll find matrices popping up in almost any application you code in, so becoming familiar with them is a necessary barrier that everyone must eventually cross."
   ]
  },
  {
   "cell_type": "markdown",
   "metadata": {},
   "source": [
    "## Practice Problems"
   ]
  },
  {
   "cell_type": "markdown",
   "metadata": {},
   "source": [
    "From Wikipedia (https://en.wikipedia.org/wiki/Pascal%27s_triangle):\n",
    "\n",
    "\"In mathematics, Pascal's triangle is a triangular array of the binomial coefficients. In the Western world, it is named after French mathematician Blaise Pascal, although other mathematicians studied it centuries before him in India, Persia (Iran), China, Germany, and Italy.\"\n",
    "\n",
    "\"The rows of Pascal's triangle (sequence A007318 in OEIS) are conventionally enumerated starting with row n = 0 at the top (the 0th row). The entries in each row are numbered from the left beginning with k = 0 and are usually staggered relative to the numbers in the adjacent rows. Having the indices of both rows and columns start at zero makes it possible to state that the binomial coefficient {\\displaystyle {\\tbinom {n}{k}}}  appears in the nth row and kth column of Pascal's triangle. A simple construction of the triangle proceeds in the following manner: In row 0, the topmost row, the entry is {\\displaystyle {\\tbinom {0}{0}}=1}  (the entry is in the zeroth row and zeroth column). Then, to construct the elements of the following rows, add the number above and to the left with the number above and to the right of a given position to find the new value to place in that position. If either the number to the right or left is not present, substitute a zero in its place. For example, the initial number in the first (or any other) row is 1 (the sum of 0 and 1), whereas the numbers 1 and 3 in the third row are added to produce the number 4 in the fourth row.\"\n",
    "\n",
    "Create a multidimensional list that, when printed, displays Pascal's triangle to the nth level."
   ]
  },
  {
   "cell_type": "code",
   "execution_count": null,
   "metadata": {
    "collapsed": true
   },
   "outputs": [],
   "source": []
  },
  {
   "cell_type": "markdown",
   "metadata": {},
   "source": [
    "The following problem comes from projecteuler.net, and can be efficiently solved using some list comprehension:\n",
    "\n",
    "If we list all the natural numbers below 10 that are multiples of 3 or 5, we 3,5,6, and 9. The sum of these multiples is 23. Find the sum of all the multiples of 3 or 5 below 1000."
   ]
  },
  {
   "cell_type": "code",
   "execution_count": null,
   "metadata": {
    "collapsed": true
   },
   "outputs": [],
   "source": []
  },
  {
   "cell_type": "markdown",
   "metadata": {},
   "source": [
    "## Advanced Problems"
   ]
  },
  {
   "cell_type": "markdown",
   "metadata": {},
   "source": [
    "The following problem comes from projecteuler.net. There's no *need* for list comprehension in this problem, but know that there *is* a way to do this problem in a single line using list comprehension.\n",
    "\n",
    "A palindromic number reads the same both ways. The largest palindrome made from the product of two 2-digit numbers is 9009 = 91 x 99. Find the largest palindrome made from the product of two 3-digit numbers."
   ]
  },
  {
   "cell_type": "code",
   "execution_count": null,
   "metadata": {
    "collapsed": true
   },
   "outputs": [],
   "source": []
  }
 ],
 "metadata": {
  "kernelspec": {
   "display_name": "Python 3",
   "language": "python",
   "name": "python3"
  },
  "language_info": {
   "codemirror_mode": {
    "name": "ipython",
    "version": 3
   },
   "file_extension": ".py",
   "mimetype": "text/x-python",
   "name": "python",
   "nbconvert_exporter": "python",
   "pygments_lexer": "ipython3",
   "version": "3.6.0"
  }
 },
 "nbformat": 4,
 "nbformat_minor": 2
}
