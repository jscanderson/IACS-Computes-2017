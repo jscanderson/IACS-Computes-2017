{
 "cells": [
  {
   "cell_type": "markdown",
   "metadata": {
    "collapsed": true
   },
   "source": [
    "# Input / Output "
   ]
  },
  {
   "cell_type": "markdown",
   "metadata": {},
   "source": [
    " One thing we haven't touched on is how to have our programs interact with anything outside our programs. Programs can easily read and write to files and take input from the user. We'll focus on input/output here.  "
   ]
  },
  {
   "cell_type": "markdown",
   "metadata": {},
   "source": [
    "### Interact with User"
   ]
  },
  {
   "cell_type": "markdown",
   "metadata": {},
   "source": [
    "A very simple way to demonstrate how to interact with the user is to take input from them using the input() function. (Run the cell below)."
   ]
  },
  {
   "cell_type": "code",
   "execution_count": 1,
   "metadata": {
    "collapsed": false
   },
   "outputs": [
    {
     "name": "stdout",
     "output_type": "stream",
     "text": [
      "What is your name?bryan\n"
     ]
    },
    {
     "data": {
      "text/plain": [
       "'bryan'"
      ]
     },
     "execution_count": 1,
     "metadata": {},
     "output_type": "execute_result"
    }
   ],
   "source": [
    "input(\"What is your name?\")"
   ]
  },
  {
   "cell_type": "markdown",
   "metadata": {},
   "source": [
    "You'll notice a few things from this line. First, python prints out what is inside the string that we passed to the input() function. If we had passed nothing, we'd have gotten nothing but a prompt. That would look like this:"
   ]
  },
  {
   "cell_type": "code",
   "execution_count": 2,
   "metadata": {
    "collapsed": false
   },
   "outputs": [
    {
     "name": "stdout",
     "output_type": "stream",
     "text": [
      "huh?\n"
     ]
    },
    {
     "data": {
      "text/plain": [
       "'huh?'"
      ]
     },
     "execution_count": 2,
     "metadata": {},
     "output_type": "execute_result"
    }
   ],
   "source": [
    "input()"
   ]
  },
  {
   "cell_type": "markdown",
   "metadata": {},
   "source": [
    "Its not very informative when a program puts up an empty box and then idles, waiting for an uninformed user to do something. Its good practice to always provide a prompting string to input(). The second thing you may notice is python outputs our input. What type is our output? Lets test."
   ]
  },
  {
   "cell_type": "code",
   "execution_count": 3,
   "metadata": {
    "collapsed": false
   },
   "outputs": [
    {
     "name": "stdout",
     "output_type": "stream",
     "text": [
      "Enter something:5\n"
     ]
    },
    {
     "data": {
      "text/plain": [
       "str"
      ]
     },
     "execution_count": 3,
     "metadata": {},
     "output_type": "execute_result"
    }
   ],
   "source": [
    "type(input(\"Enter something:\")) #use the type function to determine the type of our input"
   ]
  },
  {
   "cell_type": "markdown",
   "metadata": {},
   "source": [
    "So here I entered a number (the number 5) but python interpreted it as a string. Thats because everything entered into input() gets stored as a string. It is up to the programmer to cast the input into the correct data type.  \n",
    "  \n",
    "We can save the input into a variable quite easily. This works exactly how you think it will."
   ]
  },
  {
   "cell_type": "code",
   "execution_count": 4,
   "metadata": {
    "collapsed": false
   },
   "outputs": [
    {
     "name": "stdout",
     "output_type": "stream",
     "text": [
      "Enter your name:bryan\n"
     ]
    }
   ],
   "source": [
    "my_name = input(\"Enter your name:\")"
   ]
  },
  {
   "cell_type": "markdown",
   "metadata": {},
   "source": [
    "You'll notice no output was given here, as it was instead stored inside the variable \"my_name\". Lets see what is stored in \"my_name\"."
   ]
  },
  {
   "cell_type": "code",
   "execution_count": 5,
   "metadata": {
    "collapsed": false
   },
   "outputs": [
    {
     "name": "stdout",
     "output_type": "stream",
     "text": [
      "bryan\n"
     ]
    }
   ],
   "source": [
    "print(my_name)"
   ]
  },
  {
   "cell_type": "markdown",
   "metadata": {},
   "source": [
    "Lets try and get a number from the user now."
   ]
  },
  {
   "cell_type": "code",
   "execution_count": 6,
   "metadata": {
    "collapsed": false
   },
   "outputs": [
    {
     "name": "stdout",
     "output_type": "stream",
     "text": [
      "Enter an integer:5\n",
      "<class 'str'>\n",
      "You entered  5\n",
      "<class 'int'>\n",
      "You entered  5\n"
     ]
    }
   ],
   "source": [
    "my_int = input(\"Enter an integer:\")  #read input from the user\n",
    "\n",
    "print(type(my_int))                       #print the type of the input from the user\n",
    "print(\"You entered \" , my_int)            #print the input from the user\n",
    "\n",
    "my_int = int(my_int)                     #change the input to an integer (rather than a string)\n",
    "\n",
    "print(type(my_int))                       #again print the type of my_int (should be an integer)\n",
    "print(\"You entered \" , my_int)            #again print my_int"
   ]
  },
  {
   "cell_type": "markdown",
   "metadata": {},
   "source": [
    "So notice here that we took something that was a string and converted it to an integer. We could do it in one line by doing the following:"
   ]
  },
  {
   "cell_type": "code",
   "execution_count": 7,
   "metadata": {
    "collapsed": false
   },
   "outputs": [
    {
     "name": "stdout",
     "output_type": "stream",
     "text": [
      "Please enter an integer:5\n",
      "<class 'int'>\n",
      "You entered  5\n"
     ]
    }
   ],
   "source": [
    "my_int = int(input(\"Please enter an integer:\"))\n",
    "print(type(my_int))\n",
    "print(\"You entered \" , my_int)"
   ]
  },
  {
   "cell_type": "markdown",
   "metadata": {},
   "source": [
    "### Read and Write to Files "
   ]
  },
  {
   "cell_type": "markdown",
   "metadata": {},
   "source": [
    "Python can also interact with files already saved on your hard drive or create a new file and write output to the new file. Both commands will require us to open and close a file. That is done as shown here:"
   ]
  },
  {
   "cell_type": "code",
   "execution_count": 8,
   "metadata": {
    "collapsed": false
   },
   "outputs": [],
   "source": [
    "output_file = open('hello.txt','w')"
   ]
  },
  {
   "cell_type": "markdown",
   "metadata": {},
   "source": [
    "What did we just do? We have opened the file hello.txt in write mode (that is what the 'w' means). We could also have opened in read only mode ('r') or appending mode ('a').  \n",
    "  \n",
    "In write mode, the file we name (here its hello.txt) is created if it doesn't exist. If it does exist, it is deleted and started from a blank file. Everything written to this file will start at the beginning and follow from there.\n",
    "  \n",
    "In append mode, the file named is created if it doesn't exist or opened if it does exist, and everything written to the file is added at the end (appended, if you will). Anything already written in the file will remain there. New material will simply be appended.\n",
    "  \n",
    "In read only mode, the file is simply opened if it exists or an error is thrown if it doesn't exist.\n",
    "\n",
    "The file we just opened doesn't exist. So python has now created the file for us. \n",
    "\n",
    "The variable output_file is of a new kind of data type. Let's see what Python says it is:"
   ]
  },
  {
   "cell_type": "code",
   "execution_count": 9,
   "metadata": {
    "collapsed": false
   },
   "outputs": [
    {
     "data": {
      "text/plain": [
       "_io.TextIOWrapper"
      ]
     },
     "execution_count": 9,
     "metadata": {},
     "output_type": "execute_result"
    }
   ],
   "source": [
    "type(output_file)"
   ]
  },
  {
   "cell_type": "markdown",
   "metadata": {},
   "source": [
    "Think of output_file as the \"public representative\" of the actual file we're interested in, which is hello.txt. Anything we want to do with hello.txt, we must do through output_file. Note that output_file is just a variable name. We could have named it anything we wanted.\n",
    "\n",
    "Now let's write something to our file with the write function."
   ]
  },
  {
   "cell_type": "code",
   "execution_count": 10,
   "metadata": {
    "collapsed": false
   },
   "outputs": [
    {
     "data": {
      "text/plain": [
       "71"
      ]
     },
     "execution_count": 10,
     "metadata": {},
     "output_type": "execute_result"
    }
   ],
   "source": [
    "output_file.write(\"Hello, this is a line of text. Its rather boring, but its all I have...\")"
   ]
  },
  {
   "cell_type": "markdown",
   "metadata": {},
   "source": [
    "This, oddly, printed the number 71 to the screen. This is simply the length of the string that we gave to write(). However, write() did more than just tell us the length of the string. Let's close our file now that it contains something so we can open it up and look at its contents. We do this just like you'd imagine: using the close() function."
   ]
  },
  {
   "cell_type": "code",
   "execution_count": 11,
   "metadata": {
    "collapsed": true
   },
   "outputs": [],
   "source": [
    "output_file.close()"
   ]
  },
  {
   "cell_type": "markdown",
   "metadata": {},
   "source": [
    "Now, in order to read what's in our file, lets open it up in read mode."
   ]
  },
  {
   "cell_type": "code",
   "execution_count": 12,
   "metadata": {
    "collapsed": true
   },
   "outputs": [],
   "source": [
    "input_file = open('hello.txt','r') #the 'r' means read mode"
   ]
  },
  {
   "cell_type": "markdown",
   "metadata": {},
   "source": [
    "Ok, lets read a single line out of our file. We do this with the readline() command."
   ]
  },
  {
   "cell_type": "code",
   "execution_count": 13,
   "metadata": {
    "collapsed": false
   },
   "outputs": [
    {
     "name": "stdout",
     "output_type": "stream",
     "text": [
      "Hello, this is a line of text. Its rather boring, but its all I have...\n"
     ]
    }
   ],
   "source": [
    "#read the next line in our file (which is the first line, since we haven't read any)\n",
    "#and store it in a variable\n",
    "the_line = input_file.readline() \n",
    "\n",
    "print(the_line)"
   ]
  },
  {
   "cell_type": "markdown",
   "metadata": {},
   "source": [
    "Yay, the string we added is in our file. Can we read any more? We didn't add anything else, but lets try."
   ]
  },
  {
   "cell_type": "code",
   "execution_count": 14,
   "metadata": {
    "collapsed": false
   },
   "outputs": [
    {
     "name": "stdout",
     "output_type": "stream",
     "text": [
      "\n"
     ]
    }
   ],
   "source": [
    "the_second_line = input_file.readline() #read the next line of our file, which is the second line, since we already read the first\n",
    "print(the_second_line)"
   ]
  },
  {
   "cell_type": "markdown",
   "metadata": {},
   "source": [
    "No errors, but nothing seems to have happened. Thats because the_second_line didn't contain anything (which we expected since we knew our file only had one line.)  \n",
    "  \n",
    "Lets close the file that is read only right now, open it in append, and then add another line."
   ]
  },
  {
   "cell_type": "code",
   "execution_count": 15,
   "metadata": {
    "collapsed": true
   },
   "outputs": [],
   "source": [
    "input_file.close()                         #close the file\n",
    "\n",
    "the_file = open('hello.txt', 'a')          #reopen the file in append mode so we can add another line\n",
    "\n",
    "#write two more lines to the file\n",
    "the_file.write('This is a second line.')\n",
    "the_file.write('This is the third line.')\n",
    "\n",
    "#now close the file\n",
    "the_file.close()"
   ]
  },
  {
   "cell_type": "markdown",
   "metadata": {},
   "source": [
    "Now lets open this file and read it line by line. We can do this quite easily using this next loop structure."
   ]
  },
  {
   "cell_type": "code",
   "execution_count": 16,
   "metadata": {
    "collapsed": false
   },
   "outputs": [
    {
     "name": "stdout",
     "output_type": "stream",
     "text": [
      "Hello, this is a line of text. Its rather boring, but its all I have...This is a second line.This is the third line.\n"
     ]
    }
   ],
   "source": [
    "the_big_file = open('hello.txt','r') #open the file\n",
    "\n",
    "for line in the_big_file:  #this for loop will go line-by-line until the end of the file, storing each line in the variable \"line\"\n",
    "    print(line)\n",
    "    \n",
    "the_big_file.close() #always remember to close your file"
   ]
  },
  {
   "cell_type": "markdown",
   "metadata": {},
   "source": [
    "So you'll notice that all the lines we printed were put on one single line. Why? Because we didn't use the newline special character. We saw the newline character (\\n) briefly in the strings module. Now let's use it to add some new lines to our file."
   ]
  },
  {
   "cell_type": "code",
   "execution_count": 17,
   "metadata": {
    "collapsed": true
   },
   "outputs": [],
   "source": [
    "the_file2 = open('hello.txt', 'a')\n",
    "\n",
    "the_file2.write('\\nThis is a real new line.')        #the \\n adds a new line or \"return\" to our file\n",
    "the_file2.write('\\nThis is another real new line.')\n",
    "\n",
    "the_file2.close()"
   ]
  },
  {
   "cell_type": "markdown",
   "metadata": {},
   "source": [
    "Now lets print each line of our new file. This is the same code as before."
   ]
  },
  {
   "cell_type": "code",
   "execution_count": 18,
   "metadata": {
    "collapsed": false
   },
   "outputs": [
    {
     "name": "stdout",
     "output_type": "stream",
     "text": [
      "Hello, this is a line of text. Its rather boring, but its all I have...This is a second line.This is the third line.\n",
      "\n",
      "This is a real new line.\n",
      "\n",
      "This is another real new line.\n"
     ]
    }
   ],
   "source": [
    "the_big_file = open('hello.txt','r')\n",
    "\n",
    "for line in the_big_file:\n",
    "    print(line)\n",
    "    \n",
    "the_big_file.close()"
   ]
  },
  {
   "cell_type": "markdown",
   "metadata": {},
   "source": [
    "Ok, yay. That did what we thought it would do. So that's a way to read line by line. What if we wanted to read the entire file at once? We can use the readlines() function to do that"
   ]
  },
  {
   "cell_type": "code",
   "execution_count": 19,
   "metadata": {
    "collapsed": false
   },
   "outputs": [
    {
     "name": "stdout",
     "output_type": "stream",
     "text": [
      "['Hello, this is a line of text. Its rather boring, but its all I have...This is a second line.This is the third line.\\n', 'This is a real new line.\\n', 'This is another real new line.']\n"
     ]
    }
   ],
   "source": [
    "the_whole_file = open('hello.txt', 'r')\n",
    "\n",
    "everything = the_whole_file.readlines()\n",
    "\n",
    "print(everything)\n",
    "\n",
    "the_whole_file.close()"
   ]
  },
  {
   "cell_type": "markdown",
   "metadata": {},
   "source": [
    "The readlines() function stores all of the lines in a file as strings inside a list. So here we got the whole file, stored in a list of length 3 (the number of non-empty lines in the file). You'll notice we have the special characters \"\\n\" explicitly written out here. If you don't believe me, check it."
   ]
  },
  {
   "cell_type": "code",
   "execution_count": 20,
   "metadata": {
    "collapsed": false
   },
   "outputs": [
    {
     "name": "stdout",
     "output_type": "stream",
     "text": [
      "3\n",
      "Hello, this is a line of text. Its rather boring, but its all I have...This is a second line.This is the third line.\n",
      "\n",
      "This is a real new line.\n",
      "\n",
      "This is another real new line.\n"
     ]
    }
   ],
   "source": [
    "print(len(everything))\n",
    "print(everything[0])\n",
    "print(everything[1])\n",
    "print(everything[2])"
   ]
  },
  {
   "cell_type": "markdown",
   "metadata": {
    "collapsed": true
   },
   "source": [
    "## Practice Problems"
   ]
  },
  {
   "cell_type": "markdown",
   "metadata": {},
   "source": [
    "Write a function that takes two strings as inputs. Have the first string be appended to a file, where the file's name is the second string. Check that your function works by either opening the file manually, or by opening the file in a new cell and printing the content."
   ]
  },
  {
   "cell_type": "code",
   "execution_count": null,
   "metadata": {
    "collapsed": true
   },
   "outputs": [],
   "source": []
  },
  {
   "cell_type": "markdown",
   "metadata": {},
   "source": [
    "Write a function with no inputs that prompts the user to enter a random integer between zero and one-hundred. Name your function \"get_number\" and have it return the number entered. (Make sure to cast the number entered as an integer.)"
   ]
  },
  {
   "cell_type": "code",
   "execution_count": null,
   "metadata": {
    "collapsed": true
   },
   "outputs": [],
   "source": []
  },
  {
   "cell_type": "markdown",
   "metadata": {},
   "source": [
    "Write a function that takes as input a number. Have the function prompt the user for another number and store it in a variable. Then determine if the user's number is greater than, equal to, or less than the input number. Tell the user which case their guess falls into by printing to the screen. Have your function return True if its equal and False otherwise."
   ]
  },
  {
   "cell_type": "code",
   "execution_count": null,
   "metadata": {
    "collapsed": true
   },
   "outputs": [],
   "source": []
  },
  {
   "cell_type": "markdown",
   "metadata": {},
   "source": [
    "## Advanced Problem "
   ]
  },
  {
   "cell_type": "markdown",
   "metadata": {},
   "source": [
    "*Guessing Game*: Write a guessing game function that has generates a random integer between 1 and 100 (we will provide the code for this), and then has the user continue to guess until the user guesses the correct number. Each time the user is wrong, the function should tell the user if they were too high or too low."
   ]
  },
  {
   "cell_type": "code",
   "execution_count": null,
   "metadata": {
    "collapsed": true
   },
   "outputs": [],
   "source": [
    "# We need this function to generate a random number\n",
    "from random import randint\n",
    "\n",
    "def your_function_name_goes_here( ):\n",
    "    \n",
    "    # This creates a random integer between 1 and 100\n",
    "    # and stores it in the variable named \"the_number\"\n",
    "    the_number = randint(1,100)\n",
    "    \n",
    "    # Your code goes here\n",
    "    "
   ]
  }
 ],
 "metadata": {
  "kernelspec": {
   "display_name": "Python 3",
   "language": "python",
   "name": "python3"
  },
  "language_info": {
   "codemirror_mode": {
    "name": "ipython",
    "version": 3
   },
   "file_extension": ".py",
   "mimetype": "text/x-python",
   "name": "python",
   "nbconvert_exporter": "python",
   "pygments_lexer": "ipython3",
   "version": "3.6.0"
  }
 },
 "nbformat": 4,
 "nbformat_minor": 0
}
