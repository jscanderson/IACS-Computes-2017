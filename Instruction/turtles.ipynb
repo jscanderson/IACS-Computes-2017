{
 "cells": [
  {
   "cell_type": "markdown",
   "metadata": {},
   "source": [
    "# Turtles"
   ]
  },
  {
   "cell_type": "markdown",
   "metadata": {},
   "source": [
    "Lets do something fun and visual. We are going to need to use a library for this. A library is basically code someone else has written. In order to use a library we must *import* the code. (A more in depth explanation will come later.) In python, importing is easy. Its simply:"
   ]
  },
  {
   "cell_type": "code",
   "execution_count": 1,
   "metadata": {},
   "outputs": [],
   "source": [
    "import turtle"
   ]
  },
  {
   "cell_type": "markdown",
   "metadata": {},
   "source": [
    "Nothing happened. That was actually expected, since importing a library doesn't execute any code (it just makes it available for use). As long as there was no error message after an import, we know we are good to go!"
   ]
  },
  {
   "cell_type": "markdown",
   "metadata": {},
   "source": [
    "Lets start by creating a window to draw in."
   ]
  },
  {
   "cell_type": "code",
   "execution_count": 2,
   "metadata": {
    "collapsed": true
   },
   "outputs": [],
   "source": [
    "# First we need to create a screen for our turtle to walk around in.\n",
    "# Remember, these are comments. This is simply the programmer talking\n",
    "# to anyone who will use his/her code in the future. Python knows this,\n",
    "# and won't treat this like actual code. \n",
    "\n",
    "window = turtle.Screen()"
   ]
  },
  {
   "cell_type": "markdown",
   "metadata": {},
   "source": [
    "Next we need to create the thing we will be drawing with, called a Turtle. Note the capital and lower case turtles here (they are important!)"
   ]
  },
  {
   "cell_type": "code",
   "execution_count": 3,
   "metadata": {},
   "outputs": [],
   "source": [
    "ned = turtle.Turtle() #ned is just a variable name. You can name your turtle whatever you want"
   ]
  },
  {
   "cell_type": "markdown",
   "metadata": {},
   "source": [
    "Hopefully after running the above you see a little arrow appear in the middle of the window you created. That's your turtle. We'll just refer to ours by name, ned.\n",
    "  \n",
    "Lets get ned to start walking by telling him to go forward."
   ]
  },
  {
   "cell_type": "code",
   "execution_count": null,
   "metadata": {
    "collapsed": true
   },
   "outputs": [],
   "source": [
    "ned.forward(50)  #commands given to ned will often be given in a form like this"
   ]
  },
  {
   "cell_type": "markdown",
   "metadata": {},
   "source": [
    "This command told ned (our turtle) to move forward 50 pixels worth of distance. Cool. Let's tell ned to take a left."
   ]
  },
  {
   "cell_type": "code",
   "execution_count": null,
   "metadata": {
    "collapsed": true
   },
   "outputs": [],
   "source": [
    "ned.left(90) #This command makes ned turn to the left"
   ]
  },
  {
   "cell_type": "code",
   "execution_count": null,
   "metadata": {
    "collapsed": true
   },
   "outputs": [],
   "source": [
    "ned.forward(50) #This tells ned to walk forward again"
   ]
  },
  {
   "cell_type": "markdown",
   "metadata": {},
   "source": [
    "Yay, that wasn't too bad. What if I wanted to send ned back to where he started? We just need to send ned home."
   ]
  },
  {
   "cell_type": "code",
   "execution_count": null,
   "metadata": {
    "collapsed": true
   },
   "outputs": [],
   "source": [
    "ned.home()"
   ]
  },
  {
   "cell_type": "markdown",
   "metadata": {},
   "source": [
    "Because of the default settings of turtles, the path that ned takes is drawn and left on the screen. What if I want to erase all ned's hard work? I use ned.clear()."
   ]
  },
  {
   "cell_type": "code",
   "execution_count": null,
   "metadata": {
    "collapsed": true
   },
   "outputs": [],
   "source": [
    "ned.clear()"
   ]
  },
  {
   "cell_type": "markdown",
   "metadata": {},
   "source": [
    "Now let's use ned to draw some regular polygons."
   ]
  },
  {
   "cell_type": "code",
   "execution_count": null,
   "metadata": {
    "collapsed": true
   },
   "outputs": [],
   "source": [
    "# Let's draw a square\n",
    "side_length = 100 #pixels\n",
    "angle = 90 #degrees\n",
    "\n",
    "ned.forward(side_length)\n",
    "\n",
    "ned.left(angle)\n",
    "ned.forward(side_length)\n",
    "\n",
    "ned.left(angle)\n",
    "ned.forward(side_length)\n",
    "\n",
    "ned.left(angle)\n",
    "ned.forward(side_length)"
   ]
  },
  {
   "cell_type": "code",
   "execution_count": null,
   "metadata": {
    "collapsed": true
   },
   "outputs": [],
   "source": [
    "ned.home()  #start back at the middle\n",
    "ned.clear() #clear the square we just drew\n",
    "\n",
    "side_length = 100 #pixels\n",
    "angle = 120 #degrees. Note that this is the *exterior* angle of the polygon\n",
    "\n",
    "# An equilateral triangle\n",
    "ned.forward(side_length)\n",
    "ned.left(angle)\n",
    "ned.forward(side_length)\n",
    "ned.left(angle)\n",
    "ned.forward(side_length)"
   ]
  },
  {
   "cell_type": "markdown",
   "metadata": {},
   "source": [
    "So that was kind of neat. But it was repetitive. What do we know of that helps us get rid of repitition? Loops! Lets rewrite the above using a while loop."
   ]
  },
  {
   "cell_type": "code",
   "execution_count": null,
   "metadata": {},
   "outputs": [],
   "source": [
    "ned.home()\n",
    "ned.clear()\n",
    "\n",
    "side_length = 100\n",
    "angle = 90\n",
    "\n",
    "# A square\n",
    "i = 0\n",
    "while i < 4: #4 sides in a square\n",
    "    ned.forward(side_length)\n",
    "    ned.left(angle)\n",
    "    i = i + 1"
   ]
  },
  {
   "cell_type": "code",
   "execution_count": null,
   "metadata": {},
   "outputs": [],
   "source": [
    "ned.home()\n",
    "ned.clear()\n",
    "\n",
    "side_length = 100\n",
    "angle = 120\n",
    "\n",
    "# An equilateral triangle\n",
    "i = 0\n",
    "while i < 3: #3 sides in a triangle\n",
    "    ned.forward(side_length)\n",
    "    ned.left(angle)\n",
    "    i = i + 1"
   ]
  },
  {
   "cell_type": "markdown",
   "metadata": {},
   "source": [
    "So what if we wanted to do this more generally? We could create a variable for the number of sides to draw a generic n-gon. From the number of sides, we can calculate the angle we are going to turn. Let's do that now."
   ]
  },
  {
   "cell_type": "code",
   "execution_count": null,
   "metadata": {},
   "outputs": [],
   "source": [
    "#clean up our window\n",
    "ned.home()\n",
    "ned.clear()\n",
    "\n",
    "# The number of sides\n",
    "n = 9\n",
    "\n",
    "# The length of a side in our shape\n",
    "side_length = 50\n",
    "\n",
    "# The angle between sides\n",
    "angle = 360/n\n",
    "\n",
    "# Our loop\n",
    "i = 0\n",
    "while i < n:\n",
    "    ned.forward(side_length)\n",
    "    ned.left(angle)\n",
    "    i = i + 1"
   ]
  },
  {
   "cell_type": "markdown",
   "metadata": {},
   "source": [
    "We can't make the combination of n and length too big or we go outside our window size. Theoretically we can resize our window using the window.screensize(x,y) command. Here (x,y) would be integers representing the new window size in pixels. However, on my Mac atleast this  function call does not work and simply freezes the window. So I will not be using it. If you try it and it does freeze your drawing window, simply save your notebook and then close and halt it (from the File menu). Then just reopen it and execute all necessary cells to get back here."
   ]
  },
  {
   "cell_type": "markdown",
   "metadata": {},
   "source": [
    "A fun little exercise is to draw these n-sided polygons multiple times. Well, we can do that if we use a loop inside a loop!"
   ]
  },
  {
   "cell_type": "code",
   "execution_count": null,
   "metadata": {},
   "outputs": [],
   "source": [
    "# Clean up previous shapes\n",
    "ned.home()\n",
    "ned.clear()\n",
    "\n",
    "# The number of sides\n",
    "n = 9\n",
    "\n",
    "# The number of times to draw the polygon\n",
    "m = 8\n",
    "\n",
    "# The length of a side in our shape\n",
    "side_length = 50\n",
    "\n",
    "# The angle between sides\n",
    "angle = 360.0/n\n",
    "\n",
    "# The angle between shapes\n",
    "angle2 = 360.0/m\n",
    "\n",
    "# Our loop\n",
    "i = 0\n",
    "while i < m:\n",
    "    \n",
    "    j = 0\n",
    "    \n",
    "    while j < n:\n",
    "        ned.forward(side_length)\n",
    "        ned.left(angle)\n",
    "        j = j + 1\n",
    "        \n",
    "    ned.left(angle2)\n",
    "    i = i + 1\n",
    "    \n",
    "    \n",
    "# Little trick to hide the drawing icon\n",
    "ned.hideturtle()"
   ]
  },
  {
   "cell_type": "markdown",
   "metadata": {},
   "source": [
    "At the end of the above code cell, we used hideturtle to hide the drawing icon. To get your turtle back, you can use:"
   ]
  },
  {
   "cell_type": "code",
   "execution_count": null,
   "metadata": {
    "collapsed": true
   },
   "outputs": [],
   "source": [
    "ned.showturtle()"
   ]
  },
  {
   "cell_type": "markdown",
   "metadata": {
    "collapsed": true
   },
   "source": [
    "So all of these drawings are starting ned in the middle of the screen. What if we wanted to start somewhere else? There are many ways to do this, but here's one: "
   ]
  },
  {
   "cell_type": "code",
   "execution_count": null,
   "metadata": {},
   "outputs": [],
   "source": [
    "ned.setposition(100,100)"
   ]
  },
  {
   "cell_type": "markdown",
   "metadata": {},
   "source": [
    "That is almost what we want, but we still drew a line. How do we not draw a line? We use the penup() function."
   ]
  },
  {
   "cell_type": "code",
   "execution_count": null,
   "metadata": {
    "collapsed": true
   },
   "outputs": [],
   "source": [
    "ned.penup()"
   ]
  },
  {
   "cell_type": "code",
   "execution_count": null,
   "metadata": {
    "collapsed": true
   },
   "outputs": [],
   "source": [
    "ned.setposition(-50,-50)"
   ]
  },
  {
   "cell_type": "markdown",
   "metadata": {},
   "source": [
    "So there we go. What do we do if we want to start drawing lines again? Naturally, its simply pendown()."
   ]
  },
  {
   "cell_type": "code",
   "execution_count": null,
   "metadata": {
    "collapsed": true
   },
   "outputs": [],
   "source": [
    "ned.pendown()\n",
    "ned.home()"
   ]
  },
  {
   "cell_type": "code",
   "execution_count": null,
   "metadata": {
    "collapsed": true
   },
   "outputs": [],
   "source": [
    "ned.clear()"
   ]
  },
  {
   "cell_type": "markdown",
   "metadata": {},
   "source": [
    "So there are lots of what are called \"member functions\" or \"methods\" associated with window. All of these were written by someone else and are part of the turtle library. We can use all this code after just the single line of \"import turtle\". Impressive, isn't it?"
   ]
  },
  {
   "cell_type": "markdown",
   "metadata": {},
   "source": [
    "We can change the background color of our window using window.bgcolor(\"color_name\"). For example:"
   ]
  },
  {
   "cell_type": "code",
   "execution_count": null,
   "metadata": {},
   "outputs": [],
   "source": [
    "window.bgcolor(\"blue\")"
   ]
  },
  {
   "cell_type": "code",
   "execution_count": null,
   "metadata": {
    "collapsed": true
   },
   "outputs": [],
   "source": [
    "window.bgcolor(\"purple\")"
   ]
  },
  {
   "cell_type": "code",
   "execution_count": null,
   "metadata": {
    "collapsed": true
   },
   "outputs": [],
   "source": [
    "window.bgcolor(\"white\")"
   ]
  },
  {
   "cell_type": "markdown",
   "metadata": {},
   "source": [
    "We can also change the color and thickness of the lines drawn by our turtles. For example:"
   ]
  },
  {
   "cell_type": "code",
   "execution_count": null,
   "metadata": {
    "collapsed": true
   },
   "outputs": [],
   "source": [
    "ned.forward(50)  # Draw using old size\n",
    "ned.pensize(2)   # Make a new size\n",
    "ned.forward(50)  # Draw using new size\n",
    "ned.pensize(3.5) # Another new size\n",
    "ned.forward(50)  # Drawing with the newer size"
   ]
  },
  {
   "cell_type": "markdown",
   "metadata": {},
   "source": [
    "You can also change the color of the line drawn. "
   ]
  },
  {
   "cell_type": "code",
   "execution_count": null,
   "metadata": {
    "collapsed": true
   },
   "outputs": [],
   "source": [
    "# Clean up old stuff\n",
    "ned.home()\n",
    "ned.clear()\n",
    "\n",
    "# You can use common color names, \n",
    "# represented as strings\n",
    "ned.pencolor(\"red\")\n",
    "ned.forward(50)"
   ]
  },
  {
   "cell_type": "code",
   "execution_count": null,
   "metadata": {
    "collapsed": true
   },
   "outputs": [],
   "source": [
    "# Clean up\n",
    "ned.home()\n",
    "ned.clear()\n",
    "\n",
    "# Or you can use  numbers, \n",
    "# representing how much\n",
    "# red, green and blue to \n",
    "# include\n",
    "ned.pencolor((1,0,0)) # the color red\n",
    "ned.forward(50)\n",
    "\n",
    "ned.pencolor((0,1,0)) # the color green\n",
    "ned.forward(50)\n",
    "\n",
    "ned.pencolor((0,0,1)) # the color blue\n",
    "ned.forward(50)"
   ]
  },
  {
   "cell_type": "markdown",
   "metadata": {},
   "source": [
    "Any float between 0 and 1 is acceptable for these values. You can use these to get all sorts of colors. For example, I can draw a circle where the colors get progressively more \"red\"."
   ]
  },
  {
   "cell_type": "code",
   "execution_count": null,
   "metadata": {
    "collapsed": true
   },
   "outputs": [],
   "source": [
    "#clean up our window\n",
    "ned.home()\n",
    "ned.clear()\n",
    "\n",
    "# The number of sides\n",
    "n = 30\n",
    "\n",
    "# The length of a side in our shape\n",
    "side_length = 15\n",
    "\n",
    "# The angle between sides\n",
    "angle = 360/n\n",
    "\n",
    "# Our loop\n",
    "i = 0\n",
    "while i < n:\n",
    "    ned.pencolor((i/30,0,0))\n",
    "    ned.forward(side_length)\n",
    "    ned.left(angle)\n",
    "    i = i + 1"
   ]
  },
  {
   "cell_type": "markdown",
   "metadata": {},
   "source": [
    "And of course, you can combine all of these things to make some really fun images."
   ]
  },
  {
   "cell_type": "code",
   "execution_count": null,
   "metadata": {
    "collapsed": true
   },
   "outputs": [],
   "source": [
    "#clean up our window\n",
    "ned.home()\n",
    "ned.clear()\n",
    "\n",
    "# The number of sides\n",
    "n = 30\n",
    "\n",
    "# The length of a side in our shape\n",
    "side_length = 15\n",
    "\n",
    "# The angle between sides\n",
    "angle = 360/n\n",
    "\n",
    "# Our loop\n",
    "i = 0\n",
    "while i < n:\n",
    "    ned.pencolor((0,i/30,0))\n",
    "    ned.pensize(i/3)\n",
    "    ned.forward(side_length)\n",
    "    ned.left(angle)\n",
    "    i = i + 1"
   ]
  },
  {
   "cell_type": "markdown",
   "metadata": {},
   "source": [
    "There are a few other things I wanted to highlight. First, there are shapes that can be automatically drawn."
   ]
  },
  {
   "cell_type": "code",
   "execution_count": null,
   "metadata": {
    "collapsed": true
   },
   "outputs": [],
   "source": [
    "# Clean up\n",
    "ned.home()\n",
    "ned.clear()\n",
    "\n",
    "# Reset everything\n",
    "ned.pensize(1)\n",
    "ned.pencolor(\"black\")\n",
    "\n",
    "# Draw some circles\n",
    "ned.circle(10)\n",
    "ned.circle(40)\n",
    "ned.circle(80)"
   ]
  },
  {
   "cell_type": "code",
   "execution_count": null,
   "metadata": {},
   "outputs": [],
   "source": [
    "# Clean up\n",
    "ned.home()\n",
    "ned.clear()\n",
    "\n",
    "# Because I know this makes it look a little more mysterious\n",
    "ned.hideturtle()\n",
    "\n",
    "# Draw some dots\n",
    "ned.dot()\n",
    "ned.dot(10, \"red\")\n",
    "ned.penup()\n",
    "ned.goto((100,100))\n",
    "ned.dot(80,(0,0,1))\n",
    "ned.goto((-238, 85))\n",
    "ned.dot(100, (0.5,0.23,0.75))\n",
    "ned.goto((130,-67))\n",
    "ned.dot(17, (0.09,.94,0.11))"
   ]
  },
  {
   "cell_type": "markdown",
   "metadata": {
    "collapsed": true
   },
   "source": [
    "So lets take some time and draw things! If you come up with something you're willing to share, we are more than happy to cede the floor to you!"
   ]
  },
  {
   "cell_type": "code",
   "execution_count": 4,
   "metadata": {},
   "outputs": [],
   "source": [
    "# My cool image\n",
    "# The number of repititons\n",
    "n = 30\n",
    "\n",
    "# The height of my shape\n",
    "length = 100\n",
    "\n",
    "# The angle between sides\n",
    "angle = 360.0/n\n",
    "\n",
    "# Our loop counter\n",
    "i = 0\n",
    "\n",
    "# Clean up previous shapes\n",
    "ned.showturtle()\n",
    "ned.shape('arrow')\n",
    "ned.home()\n",
    "ned.pendown()\n",
    "ned.clear()\n",
    "\n",
    "# Window color should be blue\n",
    "window.bgcolor((0,0.75,1))\n",
    "\n",
    "# My loop\n",
    "while i < n:\n",
    "    # Draw my shape once\n",
    "    ned.pencolor((1,.5,0))\n",
    "    ned.forward(length/2)\n",
    "    ned.pencolor((1,1,0))\n",
    "    ned.forward(length/2)\n",
    "    ned.right(90)\n",
    "    \n",
    "    # Draw an approximate semi circle (half of a 20 sided figure)\n",
    "    j = 0\n",
    "    while j <= 10: \n",
    "        ned.forward(length/12)\n",
    "        ned.right(360.0/20)\n",
    "        j = j + 1\n",
    "        \n",
    "    # Now to reset color angle for next semi-circle\n",
    "    ned.left(360.0/20)\n",
    "    ned.pencolor((1,0.5,0))\n",
    "        \n",
    "    # Draw the next semi circle\n",
    "    j = 0\n",
    "    while j <= 10: \n",
    "        ned.backward(length/12)\n",
    "        ned.right(360.0/20)\n",
    "        j = j + 1\n",
    "    \n",
    "    # Now to reset to midpoint for next iteration\n",
    "    ned.home()\n",
    "    i = i + 1\n",
    "    ned.left(angle*i)\n",
    "    \n",
    "ned.hideturtle()"
   ]
  },
  {
   "cell_type": "code",
   "execution_count": 22,
   "metadata": {},
   "outputs": [],
   "source": [
    "# Stars\n",
    "\n",
    "# Needed for random locations\n",
    "import random\n",
    "\n",
    "# General good habit\n",
    "ned.home()\n",
    "ned.clear()\n",
    "\n",
    "# General things \n",
    "window.bgcolor('black')\n",
    "ned.showturtle()\n",
    "ned.pensize(3)\n",
    "\n",
    "# Draw the stars\n",
    "for i in range(20):\n",
    "    ned.pencolor('yellow')\n",
    "    ned.fillcolor('yellow')\n",
    "    ned.penup()\n",
    "    ned.goto((random.uniform(-1,1)*window.window_width()*.9/2, \n",
    "              random.uniform(-1,1)*window.window_height()*.9/2))\n",
    "    ned.pendown()\n",
    "    ned.left(random.uniform(-1,1)*90)\n",
    "    ned.begin_fill()\n",
    "    for i in range(5):\n",
    "        ned.forward(20)\n",
    "        ned.left(144)\n",
    "        ned.forward(20)\n",
    "        ned.right(360/5)\n",
    "    ned.end_fill()\n",
    "    \n",
    "# Crescent moon\n",
    "ned.penup()\n",
    "ned.goto((random.uniform(-1,1)*window.window_width()*.9/2, \n",
    "          random.uniform(-1,1)*window.window_height()*.9/2))\n",
    "ned.pendown()\n",
    "ned.pencolor((.9,0.9,1.0)) # blue-ish tint\n",
    "ned.fillcolor((.9,0.9,1.0))\n",
    "ned.begin_fill()\n",
    "for i in range(20):\n",
    "    ned.forward(10)\n",
    "    ned.left(9)\n",
    "ned.left(150)\n",
    "for i in range(12):\n",
    "    ned.forward(14)\n",
    "    ned.right(12)\n",
    "ned.end_fill()\n",
    "\n",
    "ned.hideturtle()"
   ]
  },
  {
   "cell_type": "code",
   "execution_count": 78,
   "metadata": {},
   "outputs": [
    {
     "data": {
      "text/plain": [
       "''"
      ]
     },
     "execution_count": 78,
     "metadata": {},
     "output_type": "execute_result"
    }
   ],
   "source": [
    "# Stars and stripes\n",
    "\n",
    "\n",
    "# General good habit\n",
    "ned.home()\n",
    "ned.clear()\n",
    "\n",
    "# General things \n",
    "window.bgcolor('blue')\n",
    "ned.showturtle()\n",
    "ned.pensize(3)\n",
    "ned.speed(0)\n",
    "\n",
    "# Spacing\n",
    "vertical_spacing = 94\n",
    "horizontal_spacing = 86\n",
    "\n",
    "# Star width\n",
    "star_size = 14\n",
    "\n",
    "# Distance from boundary\n",
    "cushion = 20\n",
    "\n",
    "# Offset for even rows\n",
    "v_offset = vertical_spacing/2\n",
    "h_offset = horizontal_spacing/2\n",
    "\n",
    "# Draw the stars\n",
    "# Odd rows\n",
    "for j in range(5):\n",
    "    for i in range(6):\n",
    "        ned.pencolor('white')\n",
    "        ned.fillcolor('white')\n",
    "        ned.penup()\n",
    "        ned.goto((-window.window_width()/2+cushion + horizontal_spacing*i, \n",
    "                  window.window_height()/2-cushion - vertical_spacing*j))\n",
    "        ned.pendown()\n",
    "        ned.seth(180)\n",
    "        ned.begin_fill()\n",
    "        for i in range(5):\n",
    "            ned.forward(star_size)\n",
    "            ned.left(144)\n",
    "            ned.forward(star_size)\n",
    "            ned.right(72)\n",
    "        ned.end_fill()\n",
    "\n",
    "# Even rows\n",
    "for j in range(4):\n",
    "    for i in range(5):\n",
    "        ned.pencolor('white')\n",
    "        ned.fillcolor('white')\n",
    "        ned.penup()\n",
    "        ned.goto((-window.window_width()/2 + cushion + h_offset + horizontal_spacing*i, \n",
    "                  window.window_height()/2 - cushion - v_offset - vertical_spacing*j))\n",
    "        ned.pendown()\n",
    "        ned.seth(180)\n",
    "        ned.begin_fill()\n",
    "        for i in range(5):\n",
    "            ned.forward(star_size)\n",
    "            ned.left(144)\n",
    "            ned.forward(star_size)\n",
    "            ned.right(72)\n",
    "        ned.end_fill()\n",
    "\n",
    "# Stripes\n",
    "stripe_height = window.window_height()/13\n",
    "\n",
    "# Draw 7 short stripes\n",
    "for i in range(7):\n",
    "    ned.penup()\n",
    "    ned.goto((0, window.window_height()/2 - i * stripe_height))\n",
    "    ned.seth(270)\n",
    "    if i % 2 == 0: \n",
    "        ned.fillcolor(\"red\")\n",
    "    else:\n",
    "        ned.fillcolor(\"white\")\n",
    "    ned.begin_fill()\n",
    "    ned.forward(stripe_height)\n",
    "    ned.goto((window.window_width()/2, window.window_height()/2-(i+1)*stripe_height))\n",
    "    ned.goto((window.window_width()/2, window.window_height()/2-i*stripe_height))\n",
    "    ned.goto((0, window.window_height()/2 - i * stripe_height))\n",
    "    ned.end_fill()\n",
    "    \n",
    "# Draw the 6 long stripes\n",
    "for i in range(6):\n",
    "    ned.penup()\n",
    "    ned.goto((-window.window_width()/2, window.window_height()/2 - 7 * stripe_height-i*stripe_height))\n",
    "    ned.seth(270)\n",
    "    if i % 2 == 0: \n",
    "        ned.fillcolor(\"white\")\n",
    "    else:\n",
    "        ned.fillcolor(\"red\")\n",
    "    ned.begin_fill()\n",
    "    ned.forward(stripe_height)\n",
    "    ned.goto((window.window_width()/2, window.window_height()/2 - 7 * stripe_height-(i+1)*stripe_height))\n",
    "    ned.goto((window.window_width()/2, window.window_height()/2 - 7 * stripe_height-i*stripe_height))\n",
    "    ned.goto((-window.window_width()/2,window.window_height()/2 - 7 * stripe_height-i*stripe_height))\n",
    "    ned.end_fill()\n",
    "    \n",
    "ned.hideturtle()"
   ]
  },
  {
   "cell_type": "markdown",
   "metadata": {
    "collapsed": true
   },
   "source": [
    "## Additional Commands We Didn't Have Time For, But Are Cool and Fun To Know "
   ]
  },
  {
   "cell_type": "markdown",
   "metadata": {},
   "source": [
    "These are some commands you can also use to change the window you are drawing your turtles in. I feel the effect of these commands are obvious, but if not try them and see what happens!"
   ]
  },
  {
   "cell_type": "code",
   "execution_count": null,
   "metadata": {},
   "outputs": [],
   "source": [
    "# Just to clean everything again\n",
    "window.clear()\n",
    "ned.home()\n",
    "ned.clear()\n",
    "ned.showturtle()"
   ]
  },
  {
   "cell_type": "code",
   "execution_count": null,
   "metadata": {
    "collapsed": true
   },
   "outputs": [],
   "source": [
    "window.title(\"My First Turtles Window\")"
   ]
  },
  {
   "cell_type": "code",
   "execution_count": null,
   "metadata": {
    "collapsed": true
   },
   "outputs": [],
   "source": [
    "window.bgcolor(\"light blue\")"
   ]
  },
  {
   "cell_type": "code",
   "execution_count": null,
   "metadata": {
    "collapsed": true
   },
   "outputs": [],
   "source": [
    "window.clear()"
   ]
  },
  {
   "cell_type": "code",
   "execution_count": null,
   "metadata": {},
   "outputs": [],
   "source": [
    "window.window_width()"
   ]
  },
  {
   "cell_type": "code",
   "execution_count": null,
   "metadata": {},
   "outputs": [],
   "source": [
    "window.window_height()"
   ]
  },
  {
   "cell_type": "code",
   "execution_count": null,
   "metadata": {
    "collapsed": true
   },
   "outputs": [],
   "source": [
    "ned.shape('turtle')"
   ]
  },
  {
   "cell_type": "code",
   "execution_count": null,
   "metadata": {
    "collapsed": true
   },
   "outputs": [],
   "source": [
    "ned.pencolor(\"blue\")\n",
    "ned.pensize(10)"
   ]
  },
  {
   "cell_type": "code",
   "execution_count": null,
   "metadata": {
    "collapsed": true
   },
   "outputs": [],
   "source": [
    "ned.color(\"red\")\n",
    "ned.shapesize(10)"
   ]
  },
  {
   "cell_type": "code",
   "execution_count": null,
   "metadata": {
    "collapsed": true
   },
   "outputs": [],
   "source": [
    "ned.circle(20)"
   ]
  },
  {
   "cell_type": "markdown",
   "metadata": {},
   "source": [
    "We can also color the pen using floating point numbers between zero and one to assign colors. These are the RGB (red,green,blue) values."
   ]
  },
  {
   "cell_type": "code",
   "execution_count": null,
   "metadata": {
    "collapsed": true
   },
   "outputs": [],
   "source": [
    "ned.pensize(1)\n",
    "ned.pencolor((0,0,1))"
   ]
  },
  {
   "cell_type": "markdown",
   "metadata": {},
   "source": [
    "This will draw a regular shape using built in commands."
   ]
  },
  {
   "cell_type": "code",
   "execution_count": null,
   "metadata": {
    "collapsed": true
   },
   "outputs": [],
   "source": [
    "ned.home()\n",
    "ned.clear()\n",
    "ned.dot(50,(1,0,1))\n",
    "ned.penup()\n",
    "ned.forward(50)"
   ]
  },
  {
   "cell_type": "markdown",
   "metadata": {},
   "source": [
    "Always clean up after yourself and close things properly."
   ]
  },
  {
   "cell_type": "code",
   "execution_count": null,
   "metadata": {
    "collapsed": true
   },
   "outputs": [],
   "source": [
    "window.bye()"
   ]
  },
  {
   "cell_type": "code",
   "execution_count": null,
   "metadata": {
    "collapsed": true
   },
   "outputs": [],
   "source": []
  }
 ],
 "metadata": {
  "kernelspec": {
   "display_name": "Python 3",
   "language": "python",
   "name": "python3"
  },
  "language_info": {
   "codemirror_mode": {
    "name": "ipython",
    "version": 3
   },
   "file_extension": ".py",
   "mimetype": "text/x-python",
   "name": "python",
   "nbconvert_exporter": "python",
   "pygments_lexer": "ipython3",
   "version": "3.6.1"
  }
 },
 "nbformat": 4,
 "nbformat_minor": 1
}
