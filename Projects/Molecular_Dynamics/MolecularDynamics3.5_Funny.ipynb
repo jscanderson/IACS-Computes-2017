{
 "cells": [
  {
   "cell_type": "markdown",
   "metadata": {},
   "source": [
    "# Molecular Dynamics 4 "
   ]
  },
  {
   "cell_type": "markdown",
   "metadata": {},
   "source": [
    "Ok, now that we have multiple atoms, lets have them interact with each other.  \n",
    "  \n",
    "So lets restart all of our previous turtle things to get window set up."
   ]
  },
  {
   "cell_type": "code",
   "execution_count": 1,
   "metadata": {
    "collapsed": true
   },
   "outputs": [],
   "source": [
    "import turtle\n",
    "import random\n",
    "import math"
   ]
  },
  {
   "cell_type": "markdown",
   "metadata": {},
   "source": [
    "When using random numbers, it is important to start a seed to insure that you actually are getting random numbers."
   ]
  },
  {
   "cell_type": "code",
   "execution_count": 2,
   "metadata": {
    "collapsed": true
   },
   "outputs": [],
   "source": [
    "random.seed()"
   ]
  },
  {
   "cell_type": "markdown",
   "metadata": {},
   "source": [
    "Now lets get our back drop set up."
   ]
  },
  {
   "cell_type": "code",
   "execution_count": 3,
   "metadata": {
    "collapsed": false
   },
   "outputs": [],
   "source": [
    "window = turtle.Screen()\n",
    "window.title('Molecular Dynamics 4')\n",
    "window.clear()"
   ]
  },
  {
   "cell_type": "markdown",
   "metadata": {},
   "source": [
    "Lets see how big our window is, which will tell us where the boundaries are."
   ]
  },
  {
   "cell_type": "code",
   "execution_count": 4,
   "metadata": {
    "collapsed": false
   },
   "outputs": [],
   "source": [
    "# We will want to store these numbers in a variable\n",
    "height = window.window_height()\n",
    "width = window.window_width()"
   ]
  },
  {
   "cell_type": "markdown",
   "metadata": {},
   "source": [
    "Lets check and see what we have here."
   ]
  },
  {
   "cell_type": "code",
   "execution_count": 5,
   "metadata": {
    "collapsed": false
   },
   "outputs": [
    {
     "name": "stdout",
     "output_type": "stream",
     "text": [
      "810\n",
      "960\n"
     ]
    }
   ],
   "source": [
    "print height\n",
    "print width"
   ]
  },
  {
   "cell_type": "markdown",
   "metadata": {},
   "source": [
    "Now we have our window, lets make a turtles to draw our atoms. We are going to make a list of atoms and then populate it."
   ]
  },
  {
   "cell_type": "code",
   "execution_count": 6,
   "metadata": {
    "collapsed": false
   },
   "outputs": [],
   "source": [
    "# Number of atoms we want\n",
    "num_atoms = 5\n",
    "\n",
    "# This initializes an empty list\n",
    "atoms = []\n",
    "\n",
    "# Now use a loop to initialize a new atom\n",
    "# and do it num_atoms times.\n",
    "for i in range(num_atoms):\n",
    "    atoms.append(turtle.Turtle())"
   ]
  },
  {
   "cell_type": "markdown",
   "metadata": {},
   "source": [
    "We should now have two atoms stored in atom_list. We can check various aspects of this new list using print."
   ]
  },
  {
   "cell_type": "code",
   "execution_count": 7,
   "metadata": {
    "collapsed": false
   },
   "outputs": [
    {
     "name": "stdout",
     "output_type": "stream",
     "text": [
      "5\n"
     ]
    }
   ],
   "source": [
    "print len(atoms)"
   ]
  },
  {
   "cell_type": "code",
   "execution_count": 8,
   "metadata": {
    "collapsed": false
   },
   "outputs": [
    {
     "name": "stdout",
     "output_type": "stream",
     "text": [
      "[<turtle.Turtle object at 0x10c7eb110>, <turtle.Turtle object at 0x10706bfd0>, <turtle.Turtle object at 0x10c7eb210>, <turtle.Turtle object at 0x10c7eb2d0>, <turtle.Turtle object at 0x10c7eb390>]\n"
     ]
    }
   ],
   "source": [
    "print atoms"
   ]
  },
  {
   "cell_type": "markdown",
   "metadata": {},
   "source": [
    "Everything looks good. Now lets draw our atoms as spheres with a fixed radius and random color and place them at random locations."
   ]
  },
  {
   "cell_type": "code",
   "execution_count": 9,
   "metadata": {
    "collapsed": false
   },
   "outputs": [],
   "source": [
    "# Variables to hold things we want to be constant\n",
    "atom_radius = 20\n",
    "\n",
    "# Scaling factor here is so we don't get our \n",
    "# initial positions stuck on the edge.\n",
    "scaling_factor = 0.8\n",
    "\n",
    "# We need to loop over each atom.\n",
    "for i in range(num_atoms):\n",
    "   \n",
    "    # Draw the atom in the proper shape\n",
    "    atoms[i].shape('circle')\n",
    "    atoms[i].shapesize(atom_radius/10.0)\n",
    "    atoms[i].color((random.random(),random.random(),random.random()))\n",
    "    atoms[i].penup()\n",
    "    atoms[i].goto(random.uniform(-1,1)*width/2.0 * scaling_factor, random.uniform(-1,1)*height/2.0 * scaling_factor)\n",
    "  \n",
    "    # Turtles can be very slow. This is a semi-fix to tell\n",
    "    # turtles not to update the screen with every change,\n",
    "    # but rather wait till a set of updates are done and \n",
    "    # then update the screen.\n",
    "    atoms[i].tracer(0,0)\n",
    "    turtle.update()"
   ]
  },
  {
   "cell_type": "markdown",
   "metadata": {},
   "source": [
    "Alright, now lets make a vector with random velocities for each atom. Our velocity vector will have one line per atom, and each line will have a pair of floating point numbers that represent (velocity_x, velocity_y)."
   ]
  },
  {
   "cell_type": "code",
   "execution_count": 10,
   "metadata": {
    "collapsed": true
   },
   "outputs": [],
   "source": [
    "# Max velocity we want\n",
    "max_velocity = 20.0\n",
    "\n",
    "# Initailize an empty list\n",
    "vel = []\n",
    "\n",
    "# Now loop over the number of atoms\n",
    "for i in range(num_atoms):\n",
    "    vel.append([random.uniform(-1,1)*max_velocity, random.uniform(-1,1)*max_velocity])"
   ]
  },
  {
   "cell_type": "markdown",
   "metadata": {},
   "source": [
    "Lets check to make sure this worked."
   ]
  },
  {
   "cell_type": "code",
   "execution_count": 11,
   "metadata": {
    "collapsed": false
   },
   "outputs": [
    {
     "name": "stdout",
     "output_type": "stream",
     "text": [
      "5\n"
     ]
    }
   ],
   "source": [
    "print len(vel)"
   ]
  },
  {
   "cell_type": "code",
   "execution_count": 12,
   "metadata": {
    "collapsed": false
   },
   "outputs": [
    {
     "name": "stdout",
     "output_type": "stream",
     "text": [
      "[[-7.749428634892288, -18.561081226501077], [-10.388630516661177, -16.713525356238726], [-3.3035690249581817, 1.5519834405426414], [14.672282376134387, -10.775313665178516], [8.45345707475946, 16.402035238931376]]\n"
     ]
    }
   ],
   "source": [
    "print vel"
   ]
  },
  {
   "cell_type": "markdown",
   "metadata": {},
   "source": [
    "Now how would we access only 1 element? We use square brackets []!"
   ]
  },
  {
   "cell_type": "code",
   "execution_count": 13,
   "metadata": {
    "collapsed": false
   },
   "outputs": [
    {
     "name": "stdout",
     "output_type": "stream",
     "text": [
      "[-7.749428634892288, -18.561081226501077]\n"
     ]
    }
   ],
   "source": [
    "print vel[0]"
   ]
  },
  {
   "cell_type": "markdown",
   "metadata": {},
   "source": [
    "Now how would we access the x_velocity component here? We'd use another set of square brackets!"
   ]
  },
  {
   "cell_type": "code",
   "execution_count": 14,
   "metadata": {
    "collapsed": false,
    "scrolled": true
   },
   "outputs": [
    {
     "name": "stdout",
     "output_type": "stream",
     "text": [
      "-7.74942863489\n"
     ]
    }
   ],
   "source": [
    "print vel[0][0]"
   ]
  },
  {
   "cell_type": "markdown",
   "metadata": {},
   "source": [
    "Now we need to write a function that will handle the interaction of any two atoms.  \n",
    "  \n",
    "First we will need, at some point, to calculate distances between two atoms, so lets write a function that handles that."
   ]
  },
  {
   "cell_type": "code",
   "execution_count": 15,
   "metadata": {
    "collapsed": true
   },
   "outputs": [],
   "source": [
    "# Lets name our function\n",
    "def distance(atom1, atom2):\n",
    "    \n",
    "    # Inputs are the atoms, which contain\n",
    "    # (x,y) coordinate pairs.\n",
    "    # Distance is sqrt((x1-x2)^2 + (y1-y2)^2)\n",
    "    \n",
    "    # Lets get the coordinates of atom1\n",
    "    (x1,y1) = atom1.pos()\n",
    "    \n",
    "    # Lets get the coordinates of atom2\n",
    "    (x2,y2) = atom2.pos()\n",
    "\n",
    "    # Lets calculate the distance\n",
    "    d = math.sqrt((x1-x2)**2 + (y1-y2)**2)\n",
    "    \n",
    "    # And lets return our distance\n",
    "    return d\n",
    "    "
   ]
  },
  {
   "cell_type": "markdown",
   "metadata": {},
   "source": [
    "Now lets write a function to determine if our atoms will collide, and will handle what to do when they collide."
   ]
  },
  {
   "cell_type": "code",
   "execution_count": 16,
   "metadata": {
    "collapsed": true
   },
   "outputs": [],
   "source": [
    "# Lets name our function\n",
    "def bounce_check(a_list, v_list):\n",
    "  \n",
    "    # This will help us not double count\n",
    "    i = 1\n",
    "\n",
    "    # We need to check for every atom\n",
    "    for atom1 in a_list:\n",
    "        \n",
    "        # This will help us not double count\n",
    "        j = i\n",
    "        \n",
    "        # And compute the distance to every other atom\n",
    "        for atom2 in a_list[i:]:\n",
    "            \n",
    "            # We will need the distance, so store it\n",
    "            d = distance(atom1,atom2)\n",
    "            \n",
    "            # Check if a bounce should occur\n",
    "            if d < 2.0*atom_radius:\n",
    "                print \"BOUNCE FOUND: Atom %d hit Atom %d\" % (i-1,j)\n",
    "                # We need positions of atoms\n",
    "                (x1,y1) = atom1.pos()\n",
    "                (x2,y2) = atom2.pos()\n",
    "                \n",
    "                # A bounce should occur: fix x_velocity\n",
    "                # First, calculate v1.r\n",
    "                v1R = v_list[i-1][0]*(x1-x2) + v_list[i-1][1]*(y1-y2)\n",
    "                v2R = v_list[j][0]*(x1-x2) + v_list[j][1]*(y1-y2)\n",
    "                \n",
    "                # Update new velocities\n",
    "                v_list[i-1][0] = v_list[i-1][0] - 2.0*v1R/d**2 * (x1-x2)\n",
    "                v_list[i-1][1] = v_list[i-1][1] - 2.0*v1R/d**2 * (y1-y2)\n",
    "                v_list[j][0] = v_list[j][0] - 2.0*v2R/d**2 * (x1-x2)\n",
    "                v_list[j][1] = v_list[j][1] - 2.0*v2R/d**2 * (y1-y2)\n",
    "\n",
    "            # Update second counter\n",
    "            j = j + 1\n",
    "            \n",
    "        # Update counter\n",
    "        i = i + 1"
   ]
  },
  {
   "cell_type": "code",
   "execution_count": 17,
   "metadata": {
    "collapsed": true
   },
   "outputs": [],
   "source": [
    "# Lets name our function\n",
    "def forces_check(atom_list, v_list, dt):\n",
    "\n",
    "    # Our spring constant\n",
    "    k = 0.05\n",
    "\n",
    "    # This will help us not double count\n",
    "    i = 1\n",
    "\n",
    "    # We need to check for every atom\n",
    "    for atom1 in atom_list:\n",
    "        \n",
    "        # This will help us not double count\n",
    "        j = i\n",
    "        \n",
    "        # And compute the distance to every other atom\n",
    "        for atom2 in atom_list[i:]:\n",
    "            \n",
    "            # We will need the distance, so store it\n",
    "            d = distance(atom1,atom2)\n",
    "            \n",
    "            # Check if a bounce should occur\n",
    "            if d < 2.0*atom_radius:\n",
    "                print \"BOUNCE FOUND: Atom %d hit Atom %d\" % (i-1,j)\n",
    "                # We need positions of atoms\n",
    "                (x1,y1) = atom1.pos()\n",
    "                (x2,y2) = atom2.pos()\n",
    "                \n",
    "                # A bounce should occur\n",
    "                # Update new velocities\n",
    "                v_list[i-1][0] = v_list[i-1][0] + dt/2.0*k*d*(x1-x2)\n",
    "                v_list[i-1][1] = v_list[i-1][1] + dt/2.0*k*d*(y1-y2)\n",
    "                v_list[j][0] = v_list[j][0] + dt/2.0*k*d*(x2-x1)\n",
    "                v_list[j][1] = v_list[j][1] + dt/2.0*k*d*(y2-y1)\n",
    "\n",
    "            # Update second counter\n",
    "            j = j + 1\n",
    "            \n",
    "        # Update counter\n",
    "        i = i + 1"
   ]
  },
  {
   "cell_type": "code",
   "execution_count": 18,
   "metadata": {
    "collapsed": true
   },
   "outputs": [],
   "source": [
    "def forces(coords):\n",
    "    ''' Compute the forces, the potential energy '''\n",
    "    \n",
    "    epsilon = 20.0   # LJ parameter\n",
    "    sigma = 20.0    # LJ parameter\n",
    "    \n",
    "    f = [(0.0,0.0)]*len(coords)\n",
    "    pe = 0.0\n",
    "    \n",
    "    # V(ri-rj) = epsilon*((sigma/r)^12 - 2*(sigma/r)^6)\n",
    "    # dV/dxi = -12*epsilon*((sigma/r)^14 - (sigma/r)^8)*(xi-xj)/sigma**2\n",
    "    # F[i][x] = -dV/dxi\n",
    "    \n",
    "    fac = epsilon*12.0/sigma**2\n",
    "    \n",
    "    for i in range(len(coords)):\n",
    "        \n",
    "        for j in range(i+1,len(coords)):\n",
    "            xi,yi = coords[i].pos()\n",
    "            xj,yj = coords[j].pos()\n",
    "            dx,dy = (xi-xj),(yi-yj)\n",
    "            rsq = (dx**2+dy**2)/sigma**2\n",
    "        \n",
    "            # Error if true: print to help debug why\n",
    "            if rsq == 0.0:\n",
    "                print \"%.8f %.8f %.8f %.8f %d %d\" % (xi,yi,xj,yj,i,j)\n",
    "            \n",
    "            if rsq < 15:\n",
    "                vij = epsilon*(1.0/rsq**6 - 2.0/rsq**3)\n",
    "                df = fac*(1.0/rsq**7 - 1.0/rsq**4)\n",
    "                dfx,dfy = df*dx,df*dy\n",
    "                fxi,fyi = f[i]\n",
    "                fxj,fyj = f[j]\n",
    "                f[i] = fxi+dfx,fyi+dfy\n",
    "                f[j] = fxj-dfx,fyj-dfy\n",
    "                pe += vij\n",
    "\n",
    "    return f, pe"
   ]
  },
  {
   "cell_type": "markdown",
   "metadata": {},
   "source": [
    "Now to start moving our atoms."
   ]
  },
  {
   "cell_type": "code",
   "execution_count": 19,
   "metadata": {
    "collapsed": false
   },
   "outputs": [
    {
     "name": "stdout",
     "output_type": "stream",
     "text": [
      " \n",
      "   time         ke            pe             e      \n",
      " -------    -----------   ------------  ------------\n",
      "    0.00   249955320845993540649576562688.00000   268444448475951.62500  249955320845993822124553273344.00000  \n"
     ]
    }
   ],
   "source": [
    "# The amount of time each iteration moves us forward\n",
    "dt = 0.5\n",
    "\n",
    "# Max number of steps we want to take\n",
    "max_steps = 1\n",
    "\n",
    "# Print headers for output\n",
    "print \" \"\n",
    "print \"   time         ke            pe             e      \"\n",
    "print \" -------    -----------   ------------  ------------\"  \n",
    "\n",
    "for step in range(max_steps):\n",
    "\n",
    "    # Calculate forces\n",
    "    f, pe = forces(atoms)\n",
    "    \n",
    "    # For each atom\n",
    "    for j in range(num_atoms):\n",
    "    \n",
    "        # Get the current position, velocity, and force of the atom\n",
    "        vx,vy = vel[j]    \n",
    "        Fx,Fy = f[j]  \n",
    "        vx += Fx*dt*0.5\n",
    "        vy += Fy*dt*0.5\n",
    "        x,y = atoms[i].pos()\n",
    "    \n",
    "        # Check if moving left or right will put our atom beyond the wall\n",
    "        if abs(x + dt * vel[j][0]) >= width/2.0 - atom_radius:\n",
    "        \n",
    "            # We have moved too far right or left, so flip the x_vel\n",
    "            vel[j][0] = -vel[j][0]           \n",
    "    \n",
    "        # Check if moving up or down will put our atom beyond the wall\n",
    "        if abs(y + dt * vel[j][1]) >= height/2.0 - atom_radius:\n",
    "        \n",
    "            # We have moved too far up or down, so flip the y_vel\n",
    "            vel[j][1] = -vel[j][1]\n",
    "        \n",
    "        # We won't move out of the box, so update the new position\n",
    "        atoms[j].goto(x + dt*vel[j][0], y + dt*vel[j][1])\n",
    "        \n",
    "        \n",
    "    # make the forces at time t+dt\n",
    "    f, potential_energy = forces(atoms)\n",
    "            \n",
    "    # finish update of v to time t+dt\n",
    "    kinetic_energy = 0.0\n",
    "    for i in range(num_atoms):\n",
    "        vx,vy = vel[i]\n",
    "        Fx,Fy = f[i]\n",
    "        vx += Fx*dt*0.5\n",
    "        vy += Fy*dt*0.5\n",
    "        vel[i] = [vx, vy]\n",
    "        kinetic_energy += 0.5*(vx*vx+vy*vy)\n",
    "        \n",
    "        \n",
    "    # Tell turtles we are done updating and to redraw\n",
    "    turtle.update()\n",
    "    \n",
    "    # Output energies to make sure its working\n",
    "    energy = kinetic_energy + potential_energy\n",
    "    print \"%8.2f   %12.5f   %12.5f  %12.5f  \" % (step*dt, kinetic_energy, potential_energy, energy) \n",
    "    "
   ]
  },
  {
   "cell_type": "markdown",
   "metadata": {},
   "source": [
    "It works!"
   ]
  },
  {
   "cell_type": "markdown",
   "metadata": {
    "collapsed": true
   },
   "source": [
    "Always clean up."
   ]
  },
  {
   "cell_type": "code",
   "execution_count": 20,
   "metadata": {
    "collapsed": true
   },
   "outputs": [],
   "source": [
    "window.bye()"
   ]
  },
  {
   "cell_type": "code",
   "execution_count": null,
   "metadata": {
    "collapsed": true
   },
   "outputs": [],
   "source": []
  }
 ],
 "metadata": {
  "kernelspec": {
   "display_name": "Python 2",
   "language": "python",
   "name": "python2"
  },
  "language_info": {
   "codemirror_mode": {
    "name": "ipython",
    "version": 2
   },
   "file_extension": ".py",
   "mimetype": "text/x-python",
   "name": "python",
   "nbconvert_exporter": "python",
   "pygments_lexer": "ipython2",
   "version": "2.7.11"
  }
 },
 "nbformat": 4,
 "nbformat_minor": 0
}
