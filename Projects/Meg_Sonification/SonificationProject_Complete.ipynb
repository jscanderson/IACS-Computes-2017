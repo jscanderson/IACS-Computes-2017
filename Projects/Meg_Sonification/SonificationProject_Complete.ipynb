{
 "cells": [
  {
   "cell_type": "markdown",
   "metadata": {},
   "source": [
    "# Sonficiation Project"
   ]
  },
  {
   "cell_type": "markdown",
   "metadata": {},
   "source": [
    "This worksheet should get you started on the sonification project!"
   ]
  },
  {
   "cell_type": "markdown",
   "metadata": {},
   "source": [
    "## Packing a sound file"
   ]
  },
  {
   "cell_type": "markdown",
   "metadata": {},
   "source": [
    "This section will teach you how to make simple sound files with code. First, let's import the necessary function, which is called pack, from the struct library."
   ]
  },
  {
   "cell_type": "code",
   "execution_count": 1,
   "metadata": {
    "collapsed": true
   },
   "outputs": [],
   "source": [
    "from struct import pack\n",
    "import math"
   ]
  },
  {
   "cell_type": "markdown",
   "metadata": {},
   "source": [
    "Don't worry too much about what goes into or comes out of the pack function. It essentially allows us to reformat data as we please. Let's use it to make a sound file (we'll be using the .au extension for our sound files) consisting of a single note, which we'll input as a frequency (in cycles/second, or Hertz = Hz)."
   ]
  },
  {
   "cell_type": "code",
   "execution_count": 2,
   "metadata": {
    "collapsed": true
   },
   "outputs": [],
   "source": [
    "def make_single_freq(name='test.au', freq=440, dur=1000, vol=0.5):\n",
    "    \"\"\"\n",
    "    creates an AU format file of a sine wave\n",
    "    of frequency freq (Hz)\n",
    "    for duration dur (milliseconds)\n",
    "    at volume vol (max is 1.0)\n",
    "    \"\"\"\n",
    "\n",
    "    #Open the file to write to\n",
    "    fout = open(name,'wb') #w means write, b means binary mode\n",
    "    \n",
    "    #The following line is necessary, but don't worry too much about it. \n",
    "    #It creates a \"header\" for the sound file\n",
    "    fout.write('.snd'+ pack('>5L',24,8*dur,2,8000,1)) \n",
    "    #size, encoding=2, sampling rate = 8000, channel = 1 (above)\n",
    "    \n",
    "    \n",
    "    factor = 2*math.pi*freq/8000 #how you put frequency inside a sine wave\n",
    "    \n",
    "    \n",
    "    #now use a loop to write the data to the sound file\n",
    "    for t in range(8*dur): \n",
    "        #8*dur is the number of \"segments\" of time in the duration given. \n",
    "        #We write the sound to the file in these \"segments\". \n",
    "        #Think of \"segment\" as a unit of time\n",
    "        \n",
    "        \n",
    "        #sine wave calculations\n",
    "        sin_segment = math.sin(t*factor)\n",
    "        fout.write(pack('b',int(vol*127*sin_segment))) #the 127 will be explained later\n",
    "    \n",
    "    #Always clean up\n",
    "    fout.close\n",
    "        "
   ]
  },
  {
   "cell_type": "code",
   "execution_count": 3,
   "metadata": {
    "collapsed": false
   },
   "outputs": [],
   "source": [
    "make_single_freq()"
   ]
  },
  {
   "cell_type": "markdown",
   "metadata": {},
   "source": [
    "Next, let's make a similar function that instead of a single frequency, takes in a list of frequencies, and writes the sound file containing those frequencies, for the duration given.\n",
    "\n",
    "Hints:  \n",
    "1)Divide the duration by the number of frequencies to find out how long each frequency should be sounded.  \n",
    "2)Don't forget to add the header line.  \n",
    "3)The pack function expects an integer less than 128. This may cause some trouble. Think about how you might get around that.\n"
   ]
  },
  {
   "cell_type": "code",
   "execution_count": 4,
   "metadata": {
    "collapsed": false
   },
   "outputs": [],
   "source": [
    "def make_multiple_freq(name, freq_list, dur, vol):\n",
    "    #Open the file and append header line.\n",
    "    fout = open(name,'wb')\n",
    "    fout.write('.snd'+ pack('>5L',24,8*dur,2,8000,1))\n",
    "    \n",
    "    #calculate how many segments each frequency should last\n",
    "    seg_per_freq = math.floor(8*dur/len(freq_list))\n",
    "    \n",
    "    #since we rounded down, there are some segments not accounted for. How many?\n",
    "    extra = 8*dur - seg_per_freq*len(freq_list)\n",
    "    \n",
    "    #calculate the frequency factor just like in the last function\n",
    "    freq_factors = []\n",
    "    for freq in freq_list:\n",
    "        freq_factors.append(2*math.pi*freq/8000)\n",
    "    \n",
    "    break_length=2\n",
    "    \n",
    "    #write a loop that makes a \"stream\" (a list) of numbers (sine segments) to append to the sound file\n",
    "    t=1\n",
    "    stream = []\n",
    "    for factor in freq_factors:\n",
    "        i=0\n",
    "        while i<seg_per_freq-break_length:\n",
    "            sin_segment = math.sin(t*factor)\n",
    "            stream.append(sin_segment)\n",
    "            i = i+1\n",
    "            t=t+1\n",
    "        j=0\n",
    "        while j<break_length:\n",
    "            stream.append(0.0)\n",
    "            j = j+1\n",
    "            \n",
    "            \n",
    "    #now write the extra segments to the stream, handle this however you want\n",
    "    i=0\n",
    "    while i < extra:\n",
    "        stream.append(0.0)\n",
    "        i = i+1\n",
    "    \n",
    "    #now scale everything in stream to be between -1 and 1.\n",
    "    max_value = max(abs(min(stream)),abs(max(stream)))\n",
    "    for k in range(len(stream)):\n",
    "        stream[k] = stream[k]/max_value\n",
    "        \n",
    "    #finally, write everything in the stream to the file\n",
    "    for k in stream:\n",
    "        fout.write(pack('b',int(vol*127*k)))\n",
    "    \n",
    "    #Always clean up\n",
    "    fout.close()"
   ]
  },
  {
   "cell_type": "code",
   "execution_count": 5,
   "metadata": {
    "collapsed": false
   },
   "outputs": [],
   "source": [
    "scale=[329.63,293.66,261.63,293.66,329.63,329.63,329.63,293.66,293.66,293.66,329.63,392.0,392.0,329.63,293.66,261.63,293.66,329.63,329.63,329.63,329.63,293.66,293.66,329.63,293.66,261.63]\n",
    "\n",
    "make_multiple_freq('test.au',scale,len(scale)*500,0.5)"
   ]
  },
  {
   "cell_type": "markdown",
   "metadata": {},
   "source": [
    "Once you have your multiple-frequency function working, try it out by making a sound file that has these frequencies in this order:\n",
    "\n",
    "261.63, 293.66, 329.63, 349.23, 392.00, 440.00, 493.88, 523.25"
   ]
  },
  {
   "cell_type": "markdown",
   "metadata": {},
   "source": [
    "As you saw during the presentations (probably yesterday if you're reading this), this code can be used to write 2-dimensional data. The key to doing this is our ability to write multiple frequencies to a sound file at the same time!\n",
    "\n",
    "The sound that we hear is a wave. This wave can be modeled with the sin(a\\*t) function, where a depends on the frequency of the wave that we want to hear. You've seen this in the functions we wrote above. If we take sine functions with a bunch of different values for a (corresponding to different frequencies), and add them together, it's like we're hitting a bunch of different notes at the same time. This expands our capabilities when generating these sound files.\n",
    "\n",
    "First we need to decide on a range of frequencies that we want to use. You can experiment with this, but let's use the range of 1000 Hz to 3000 Hz.\n",
    "\n",
    "Now imagine we have a 2-D array (list) of data (also called a matrix). A small example might look like this:\n",
    "\n",
    "$$\n",
    "\\begin{bmatrix}\n",
    "1& 2& 8&\\\\\n",
    "4& 1& 2&\\\\\n",
    "1& 3& 4&\\\\\n",
    "\\end{bmatrix}\n",
    "$$"
   ]
  },
  {
   "cell_type": "markdown",
   "metadata": {},
   "source": [
    "Let's take a walk through time. We'll start at the top of the matrix, and that will be the beginning of our sound file. Each columnn will correspond to one frequency in the range that we chose. In this simple example, the first column will correspond to the frequency of 1000 Hz, the second column to 2000 Hz, and the 3rd column to 3000 Hz. For the first part of our sound file, the 1000 Hz frequency wave will be multiplied by a 1, the 2000 Hz wave by a 2, and the 3000 Hz wave by an 8 (making the last one the loudest). For the next piece of the sound file, we'll use the 2nd row, and for the 3rd piece, we'll use the 3rd row.\n",
    "\n",
    "Let's write a function that takes a matrix like this and writes a sound file. You may want to base this code off the multiple-frequency function from earlier (though it may need some changing to account for the sum of multiple waves). Using numpy arrays might be the way to go. Make sure your function can handle a matrix of any size.\n",
    "\n",
    "More hints:  \n",
    "1)Use numpy.linspace to divide the columns of the matrix into frequency \"bins\"\n",
    "2)You might want to find a way to control the volume. One way to do this is to scale all of the numbers in the matrix to be between 0 and 1."
   ]
  },
  {
   "cell_type": "code",
   "execution_count": 6,
   "metadata": {
    "collapsed": true
   },
   "outputs": [],
   "source": [
    "import numpy\n",
    "\n",
    "def sonify(name, matrix, dur, vol):\n",
    "    \n",
    "    #assign minimum and maximum frequencies\n",
    "    #freq_min = 200\n",
    "    freq_min = 261.63\n",
    "    freq_max = 523.25\n",
    "    #freq_min = 1000.0\n",
    "    #freq_max = 3000.0\n",
    "    \n",
    "    #Open the file and append header line.\n",
    "    fout = open(name,'wb')\n",
    "    fout.write('.snd'+ pack('>5L',24,8*dur,2,8000,1))\n",
    "    \n",
    "    #Change 2-D list to a 2-D numpy array for convenience\n",
    "    data = numpy.asarray(matrix)\n",
    "    \n",
    "    #find the maximum value in the array (use numpy.amax)\n",
    "    max_value=numpy.amax(data)\n",
    "    \n",
    "    #find the number of rows and columns of the matrix (use numpy.shape)\n",
    "    rows,cols = data.shape\n",
    "    \n",
    "    #scale the matrix so each value is between 0 and 1\n",
    "    data = (1.0/max_value)*data\n",
    "    \n",
    "    #The number of columns is the number of \"frequency bins\" we want. Use numpy.linspace to find those frequencies\n",
    "    freq_list = numpy.linspace(freq_min,freq_max,cols)\n",
    "    \n",
    "    #calculate how many segments (in time) each row should last\n",
    "    seg_per_row = math.floor(8*dur/rows)\n",
    "    \n",
    "    #since we rounded down, there are some segments not accounted for. How many?\n",
    "    extra = 8*dur - seg_per_row*rows\n",
    "    \n",
    "    #calculate the frequency factors just like in the last function\n",
    "    freq_factors = []\n",
    "    for freq in freq_list:\n",
    "        freq_factors.append(2*math.pi*freq/8000)\n",
    "    \n",
    "    break_length=2\n",
    "    \n",
    "    #write a loop (I used a triple loop) to write the stream file like last time\n",
    "    stream = []\n",
    "    t=1\n",
    "    temp = range(cols)\n",
    "    for m in range(rows):\n",
    "        i=0\n",
    "        while i<seg_per_row-break_length:\n",
    "            value=0\n",
    "            for n in temp:\n",
    "                value += data[m,n]*math.sin(t*freq_factors[n])\n",
    "            stream.append(value)\n",
    "            i = i+1\n",
    "            t = t+1\n",
    "        j=0\n",
    "        while j<break_length:\n",
    "            stream.append(0.0)\n",
    "            j = j+1\n",
    "      \n",
    "    #now append the extra segments, handle this however you want\n",
    "    i=0\n",
    "    while i < extra:\n",
    "        stream.append(0)\n",
    "        i = i+1\n",
    "        \n",
    "    #scale just like last time\n",
    "    max_value = max(abs(min(stream)),abs(max(stream)))\n",
    "    for k in range(len(stream)):\n",
    "        stream[k] = stream[k]/max_value\n",
    "        \n",
    "    #finally, write everything in the stream to the file\n",
    "    for k in stream:\n",
    "        fout.write(pack('b',int(vol*127*k)))\n",
    "    \n",
    "    #Always clean up\n",
    "    fout.close()"
   ]
  },
  {
   "cell_type": "code",
   "execution_count": 7,
   "metadata": {
    "collapsed": false
   },
   "outputs": [],
   "source": [
    "myarray = [[1,0,1,0,1,0,0,0],[0,1,0,1,0,1,0,0],[0,0,1,0,1,0,1,0]]\n",
    "\n",
    "sonify('test.au',myarray,6000,0.5)"
   ]
  },
  {
   "cell_type": "markdown",
   "metadata": {},
   "source": [
    "Now that you have that function working, let's make a slightly different modification. What we've been doing up until now is called *Amplitude Modulation*. Most applications use something called *Frequency Modulation* instead. The change necessary for this is simple. If x is your matrix element, instead of writing your sine function as x\\*sin(factor\\*t), move the x inside the sine function. So it's now sin(x\\*factor\\*t). The effect this has is that now, instead of x controlling the volume of a particular frequency, it is \"distorting\" that frequency a little.\n",
    "\n",
    "Change your function to do this."
   ]
  },
  {
   "cell_type": "code",
   "execution_count": 14,
   "metadata": {
    "collapsed": true
   },
   "outputs": [],
   "source": [
    "def sonify(name, matrix, dur, vol):\n",
    "    \n",
    "    #assign minimum and maximum frequencies\n",
    "    freq_min = 200\n",
    "    #freq_min = 261.63\n",
    "    #freq_max = 523.25\n",
    "    #freq_min = 1000.0\n",
    "    freq_max = 3000.0\n",
    "    \n",
    "    #Open the file and append header line.\n",
    "    fout = open(name,'wb')\n",
    "    fout.write('.snd'+ pack('>5L',24,8*dur,2,8000,1))\n",
    "    \n",
    "    #Change 2-D list to a 2-D numpy array for convenience\n",
    "    data = numpy.asarray(matrix)\n",
    "    \n",
    "    data = numpy.transpose(data)\n",
    "    \n",
    "    #find the maximum value in the array (use numpy.amax)\n",
    "    max_value=numpy.amax(data)\n",
    "    \n",
    "    #find the number of rows and columns of the matrix (use numpy.shape)\n",
    "    rows,cols = data.shape\n",
    "    \n",
    "    #scale the matrix so each value is between 0 and 1\n",
    "    data = (1.0/max_value)*data\n",
    "    \n",
    "    #The number of columns is the number of \"frequency bins\" we want. Use numpy.linspace to find those frequencies\n",
    "    freq_list = numpy.linspace(freq_min,freq_max,cols)\n",
    "    \n",
    "    #calculate how many segments (in time) each row should last\n",
    "    seg_per_row = math.floor(8*dur/rows)\n",
    "    \n",
    "    #since we rounded down, there are some segments not accounted for. How many?\n",
    "    extra = 8*dur - seg_per_row*rows\n",
    "    \n",
    "    #calculate the frequency factors just like in the last function\n",
    "    freq_factors = []\n",
    "    for freq in freq_list:\n",
    "        freq_factors.append(2*math.pi*freq/8000)\n",
    "    \n",
    "    break_length=2\n",
    "    \n",
    "    #write a loop (I used a triple loop) to write the stream file like last time\n",
    "    stream = []\n",
    "    t=1\n",
    "    temp = range(cols)\n",
    "    for m in range(rows):\n",
    "        i=0\n",
    "        while i<seg_per_row-break_length:\n",
    "            value=0\n",
    "            for n in temp:\n",
    "                value += math.sin(data[m,n]*t*freq_factors[n])\n",
    "            stream.append(value)\n",
    "            i = i+1\n",
    "            t = t+1\n",
    "        j=0\n",
    "        while j<break_length:\n",
    "            stream.append(0.0)\n",
    "            j = j+1\n",
    "      \n",
    "    #now append the extra segments, handle this however you want\n",
    "    i=0\n",
    "    while i < extra:\n",
    "        stream.append(0)\n",
    "        i = i+1\n",
    "        \n",
    "    #scale just like last time\n",
    "    max_value = max(abs(min(stream)),abs(max(stream)))\n",
    "    for k in range(len(stream)):\n",
    "        stream[k] = stream[k]/max_value\n",
    "        \n",
    "    #finally, write everything in the stream to the file\n",
    "    for k in stream:\n",
    "        fout.write(pack('b',int(vol*127*k)))\n",
    "    \n",
    "    #Always clean up\n",
    "    fout.close()"
   ]
  },
  {
   "cell_type": "markdown",
   "metadata": {},
   "source": [
    "We've seen before that images are simply 2D-arrays. Find an image, convert it to an array, and find out what kind of sound file it makes. Have fun with it!"
   ]
  },
  {
   "cell_type": "code",
   "execution_count": 16,
   "metadata": {
    "collapsed": false
   },
   "outputs": [],
   "source": [
    "import Image\n",
    "\n",
    "myarray = numpy.asarray(Image.open('qr.jpg').convert('L'))\n",
    "\n",
    "sonify('test.au',myarray,8000,0.8)"
   ]
  },
  {
   "cell_type": "markdown",
   "metadata": {},
   "source": [
    "Now we're ready to look at data! Can you think of any other instances where data might be stored in a 2-dimensional array? Think for a little, but if you can't come up with something, ask one of your TAs. Find some different instances of such data and sonify them."
   ]
  },
  {
   "cell_type": "code",
   "execution_count": null,
   "metadata": {
    "collapsed": true
   },
   "outputs": [],
   "source": []
  }
 ],
 "metadata": {
  "kernelspec": {
   "display_name": "Python 2",
   "language": "python",
   "name": "python2"
  },
  "language_info": {
   "codemirror_mode": {
    "name": "ipython",
    "version": 2
   },
   "file_extension": ".py",
   "mimetype": "text/x-python",
   "name": "python",
   "nbconvert_exporter": "python",
   "pygments_lexer": "ipython2",
   "version": "2.7.11"
  }
 },
 "nbformat": 4,
 "nbformat_minor": 0
}
