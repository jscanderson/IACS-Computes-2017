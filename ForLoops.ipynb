{
 "cells": [
  {
   "cell_type": "markdown",
   "metadata": {},
   "source": [
    "# For Loops"
   ]
  },
  {
   "cell_type": "markdown",
   "metadata": {},
   "source": [
    "We've already talked about one kind of loop, the while loop. These common programming structures allow us to repeat the same instructions over and over again.\n",
    "\n",
    "Now that we've talked about lists and strings, this is a good time to introduce for loops. In real coding situations, it doesn't matter whether you use a while loop or a for loop. Anything can be done using either one. However, depending on the case, it may be easier to use one over the other.\n",
    "\n",
    "Let's review the first while loop we did, which was to print the squares of a bunch of numbers:"
   ]
  },
  {
   "cell_type": "code",
   "execution_count": 2,
   "metadata": {
    "collapsed": false
   },
   "outputs": [
    {
     "name": "stdout",
     "output_type": "stream",
     "text": [
      "1\n",
      "4\n",
      "9\n",
      "16\n",
      "25\n",
      "36\n",
      "49\n",
      "64\n",
      "81\n",
      "100\n"
     ]
    }
   ],
   "source": [
    "i = 1\n",
    "while i < 11:\n",
    "    print(i**2)\n",
    "    i = i + 1"
   ]
  },
  {
   "cell_type": "markdown",
   "metadata": {},
   "source": [
    "To demonstrate a for loop, let's write one that does the same thing as this while loop. First, let's make a list of the numbers that we want to find the squares of."
   ]
  },
  {
   "cell_type": "code",
   "execution_count": 4,
   "metadata": {
    "collapsed": false
   },
   "outputs": [],
   "source": [
    "numlist = [1,2,3,4,5,6,7,8,9,10]"
   ]
  },
  {
   "cell_type": "markdown",
   "metadata": {},
   "source": [
    "Now, let's make the for loop:"
   ]
  },
  {
   "cell_type": "code",
   "execution_count": 5,
   "metadata": {
    "collapsed": false
   },
   "outputs": [
    {
     "name": "stdout",
     "output_type": "stream",
     "text": [
      "1\n",
      "4\n",
      "9\n",
      "16\n",
      "25\n",
      "36\n",
      "49\n",
      "64\n",
      "81\n",
      "100\n"
     ]
    }
   ],
   "source": [
    "for a in numlist:\n",
    "    print(a**2)"
   ]
  },
  {
   "cell_type": "markdown",
   "metadata": {},
   "source": [
    "And we get the same result! Let's take a look at the syntax. When we write \"for a in numlist:\" we're creating a new variable called a, and inside a, we store the first value inside numlist (which is 1). Then we move on to execute the indented code in the for loop. At the next iteration of the loop, the value inside a will be changed to be the next value inside numlist (in this case, 2). And this will continue until a takes on the value of the last element in numlist. Note that the variable name \"a\" is arbitrary. We could name this variable whatever we want, as long as we're consistent inside the loop. A common convention is to use a variable name that describes what is inside the list. For this loop, we could have used the variable name \"number\" since each thing inside numlist is a number.\n",
    "\n",
    "In plain English, the syntax kind of makes sense. We're telling Python, \"For each thing in numlist, do this:\"\n",
    "\n",
    "In the code above, we made the list of numbers we wanted to square before we made the loop. We didn't have to do that. We could have given the list explicitly, like this:"
   ]
  },
  {
   "cell_type": "code",
   "execution_count": 6,
   "metadata": {
    "collapsed": false
   },
   "outputs": [
    {
     "name": "stdout",
     "output_type": "stream",
     "text": [
      "1\n",
      "4\n",
      "9\n",
      "16\n",
      "25\n",
      "36\n",
      "49\n",
      "64\n",
      "81\n",
      "100\n"
     ]
    }
   ],
   "source": [
    "for number in [1,2,3,4,5,6,7,8,9,10]:\n",
    "    print(number**2)"
   ]
  },
  {
   "cell_type": "markdown",
   "metadata": {},
   "source": [
    "An alternative to the above is the handy range() function. Repeating the same action for the numbers 1 through n is so common, that Python has a built-in way of creating a list containing just those numbers. We would write the loop like this:"
   ]
  },
  {
   "cell_type": "code",
   "execution_count": 8,
   "metadata": {
    "collapsed": false
   },
   "outputs": [
    {
     "name": "stdout",
     "output_type": "stream",
     "text": [
      "1\n",
      "4\n",
      "9\n",
      "16\n",
      "25\n",
      "36\n",
      "49\n",
      "64\n",
      "81\n",
      "100\n"
     ]
    }
   ],
   "source": [
    "for number in range(1,11):\n",
    "    print(number**2)"
   ]
  },
  {
   "cell_type": "markdown",
   "metadata": {},
   "source": [
    "The range function is a very useful tool for making a quick list of integers. If I write range(n,m), the computer will give me a list of integers that starts with n and ends with m-1. If I write range(m), the computer will assume that I want to start at 0 and will give me a list of integers from 0 to m-1. Here are some examples:"
   ]
  },
  {
   "cell_type": "code",
   "execution_count": 6,
   "metadata": {
    "collapsed": false
   },
   "outputs": [
    {
     "name": "stdout",
     "output_type": "stream",
     "text": [
      "[3, 4, 5, 6, 7, 8, 9, 10, 11, 12, 13, 14, 15, 16, 17, 18, 19, 20, 21]\n"
     ]
    }
   ],
   "source": [
    "print(range(3,22))"
   ]
  },
  {
   "cell_type": "code",
   "execution_count": 7,
   "metadata": {
    "collapsed": false
   },
   "outputs": [
    {
     "name": "stdout",
     "output_type": "stream",
     "text": [
      "[0, 1, 2, 3, 4, 5, 6, 7, 8, 9, 10, 11]\n"
     ]
    }
   ],
   "source": [
    "print(range(12))"
   ]
  },
  {
   "cell_type": "markdown",
   "metadata": {},
   "source": [
    "Using the range function, you can see that printing our list of squares can be done quite easily using either while or for loops. But there are some cases when for loops are better. For example, what if we had the following list of numbers that we wanted to square:"
   ]
  },
  {
   "cell_type": "code",
   "execution_count": 8,
   "metadata": {
    "collapsed": true
   },
   "outputs": [],
   "source": [
    "numlist = [2,17,4,19,30,0,1,11,1,8]"
   ]
  },
  {
   "cell_type": "markdown",
   "metadata": {},
   "source": [
    "While it's possible to square all of these numbers with a while loop (try it on your own!), a for loop can square all of these numbers quite simply:"
   ]
  },
  {
   "cell_type": "code",
   "execution_count": 10,
   "metadata": {
    "collapsed": false
   },
   "outputs": [
    {
     "name": "stdout",
     "output_type": "stream",
     "text": [
      "4\n",
      "289\n",
      "16\n",
      "361\n",
      "900\n",
      "0\n",
      "1\n",
      "121\n",
      "1\n",
      "64\n"
     ]
    }
   ],
   "source": [
    "for number in numlist:\n",
    "    print(number**2)"
   ]
  },
  {
   "cell_type": "markdown",
   "metadata": {},
   "source": [
    "Remarkably enough, this is the same code we wrote above, when numlist contained different numbers! We didn't need to know the length or contents of numlist at all! The computer took care of it all for us."
   ]
  },
  {
   "cell_type": "markdown",
   "metadata": {},
   "source": [
    "Because Python treats strings as \"lists of characters,\" we can use the same for loop syntax to loop over the characters in a string. For example, here's a while loop that looks at a string, and prints each character in the string individually."
   ]
  },
  {
   "cell_type": "code",
   "execution_count": 11,
   "metadata": {
    "collapsed": false
   },
   "outputs": [
    {
     "name": "stdout",
     "output_type": "stream",
     "text": [
      "b\n",
      "u\n",
      "l\n",
      "l\n",
      "d\n",
      "o\n",
      "z\n",
      "e\n",
      "r\n"
     ]
    }
   ],
   "source": [
    "mystring = \"bulldozer\"\n",
    "for c in mystring:\n",
    "    print(c)"
   ]
  },
  {
   "cell_type": "markdown",
   "metadata": {},
   "source": [
    "## Worked Examples "
   ]
  },
  {
   "cell_type": "markdown",
   "metadata": {},
   "source": [
    "Write a for loop that prints out the integers from 3 to 16"
   ]
  },
  {
   "cell_type": "code",
   "execution_count": null,
   "metadata": {
    "collapsed": true
   },
   "outputs": [],
   "source": [
    "for i in range(3,17):   #i is the variable that we'll use, and the range function makes this easy\n",
    "    print i             #i is our variable, so print it\n",
    "                        #note: no need to increment i here, because the for loop\n",
    "                        #takes care of this for us"
   ]
  },
  {
   "cell_type": "markdown",
   "metadata": {},
   "source": [
    "Write a for loop that \"flips\" a list of boolean variables (changes True to False and changes False to True) by creating a new list containing the \"flipped\" booleans."
   ]
  },
  {
   "cell_type": "code",
   "execution_count": 3,
   "metadata": {
    "collapsed": false
   },
   "outputs": [
    {
     "name": "stdout",
     "output_type": "stream",
     "text": [
      "[False, False, True, False, True, True, False]\n"
     ]
    }
   ],
   "source": [
    "bool_list = [True, True, False, True, False, False, True] #example list of booleans\n",
    "\n",
    "#We need to create a new list which will be our answer. However, to create a list, we\n",
    "#need to give it an initial value that won't affect the final answer. Fortunately\n",
    "#Python allows us to create \"empty\" lists and then put things into them later.\n",
    "newlist = []\n",
    "\n",
    "for a in bool_list:        #loop over our list of booleans\n",
    "    newlist.append(not a)  #\"not a\" accomplished the \"flipping\" of the boolean, then\n",
    "                           #we appended it to our new list\n",
    "print newlist             #print our result so we can see if it's correct"
   ]
  },
  {
   "cell_type": "markdown",
   "metadata": {},
   "source": [
    "Write a for loop that loops through a string and converts every other character in the string to an underscore, starting with the second letter."
   ]
  },
  {
   "cell_type": "code",
   "execution_count": 2,
   "metadata": {
    "collapsed": false
   },
   "outputs": [
    {
     "name": "stdout",
     "output_type": "stream",
     "text": [
      "I_l_k_ _o_a_o_s_\n"
     ]
    }
   ],
   "source": [
    "mystring = \"I like potatoes.\"\n",
    "\n",
    "newstring = \"\"  #an empty string that we can add to later. This is analogous to when\n",
    "                #we initialized a number to 0, or initialized a list to []\n",
    "\n",
    "\n",
    "#Because of the nature of the problem, we need to keep track of the *index* of\n",
    "#the letter in the string that we're currently looking at. This will also come\n",
    "#in handy when we try to edit the characters of the string. The effect of this\n",
    "#style is that we are writing a for loop that behaves very much like a while\n",
    "#loop. This turns out to be quite common. It looks like this:\n",
    "for i in range(len(mystring)):\n",
    "    #len(mystring) tells us how long mystring is. The range function then\n",
    "    #creates a list of integers that we can use to index into mylist. Our\n",
    "    #variable i will automatically move through these index values.\n",
    "    \n",
    "    #We only want to make a change every other letter, so we need to check\n",
    "    #whether our index is even or odd. Because the first letter we want to\n",
    "    #change is the second letter of the string (which has index 1), we want\n",
    "    #to check that our index is odd.\n",
    "    if i % 2 == 1:\n",
    "        #if i is odd, then we need to add an underscore to our new string\n",
    "        newstring = newstring + \"_\"\n",
    "    else:\n",
    "        #otherwise, we need to simply add the next letter to our new string\n",
    "        newstring = newstring + mystring[i]\n",
    "        \n",
    "print newstring"
   ]
  },
  {
   "cell_type": "code",
   "execution_count": 3,
   "metadata": {
    "collapsed": false
   },
   "outputs": [
    {
     "name": "stdout",
     "output_type": "stream",
     "text": [
      "I_l_k_ _o_a_o_s_\n"
     ]
    }
   ],
   "source": [
    "#Here's the same solution to the above problem, without comments:\n",
    "mystring = \"I like potatoes.\"\n",
    "newstring = \"\"\n",
    "for i in range(len(mystring)):\n",
    "    if i % 2 == 1:\n",
    "        newstring = newstring + \"_\"\n",
    "    else:\n",
    "        newstring = newstring + mystring[i]\n",
    "print newstring"
   ]
  },
  {
   "cell_type": "markdown",
   "metadata": {
    "collapsed": true
   },
   "source": [
    "## Practice Problems"
   ]
  },
  {
   "cell_type": "markdown",
   "metadata": {},
   "source": [
    "Write a cell that takes a list of names (as strings), and prints \"Hello \\_\\_\\_\\_\\_\\_!\" for each name in the list."
   ]
  },
  {
   "cell_type": "code",
   "execution_count": null,
   "metadata": {
    "collapsed": true
   },
   "outputs": [],
   "source": [
    "namelist = [\"Billy\",\"Matthew\",\"Shannon\",\"Kristen\",\"Taylor\"]\n",
    "\n",
    "#Your code here\n"
   ]
  },
  {
   "cell_type": "markdown",
   "metadata": {},
   "source": [
    "Write a cell that takes creates three variables: a string of any length (named mystring, for example), and two more strings, each of length one (named a and b, for example). Have that cell create a new string that is like the first string, but with each instance of a replaced by b.\n",
    "\n",
    "For example, using \"peter piper\",\"p\", and \"g\" the cell should print \"geter giger\"."
   ]
  },
  {
   "cell_type": "code",
   "execution_count": null,
   "metadata": {
    "collapsed": true
   },
   "outputs": [],
   "source": [
    "mystring = \"peter piper\"\n",
    "a = \"p\"\n",
    "b = \"g\"\n",
    "\n",
    "#Your code here\n",
    "    "
   ]
  },
  {
   "cell_type": "markdown",
   "metadata": {},
   "source": [
    "In the practice problems for the Lists module, we wrote a cell that added together all of the numbers in a list of numbers. You probably used a while loop to do this. Write a new cell that does it with a for loop."
   ]
  },
  {
   "cell_type": "code",
   "execution_count": null,
   "metadata": {
    "collapsed": true
   },
   "outputs": [],
   "source": []
  },
  {
   "cell_type": "markdown",
   "metadata": {},
   "source": [
    "Write a cell that takes a string and prints True if the string is a palindrome and False if it is not. Use a for loop. (*hint*: use both positive and negative indices (plural of index) to look at both ends of the string)"
   ]
  },
  {
   "cell_type": "code",
   "execution_count": null,
   "metadata": {
    "collapsed": true
   },
   "outputs": [],
   "source": [
    "    "
   ]
  },
  {
   "cell_type": "markdown",
   "metadata": {},
   "source": [
    "## Advanced Problems"
   ]
  },
  {
   "cell_type": "markdown",
   "metadata": {},
   "source": [
    "*Minimum*: Write a cell that takes a list of numbers as input and returns the *index* of the smallest (most negative) number in the list. For example, given the list [4,7,-5,9,1,-2,6,4], the cell would print 3. (*hint*: If you're having trouble, try first writing a cell that finds the minimum *number* itself. For the given example, the answer would be -5. Then modify your solution to instead find the index.)"
   ]
  },
  {
   "cell_type": "code",
   "execution_count": null,
   "metadata": {
    "collapsed": true
   },
   "outputs": [],
   "source": [
    "numlist = [4,7,-5,9,1,-2,6,4]\n",
    "    "
   ]
  },
  {
   "cell_type": "markdown",
   "metadata": {},
   "source": [
    "*Sorting*: Write a cell that takes a list of numbers as input and returns a new list that contains the same numbers, but in increasing order (from least to greatest). If you did the problem above, then you can use that function in your solution to this problem. Otherwise, you can use the .index() and min() functions, as demonstrated in the example below:"
   ]
  },
  {
   "cell_type": "code",
   "execution_count": null,
   "metadata": {
    "collapsed": false
   },
   "outputs": [],
   "source": [
    "mylist = [4,7,-5,9,1,-2,6,4]\n",
    "mylist.index(min(mylist))       #min find the lowest number, and mylist.index() finds \n",
    "                                #the first index of that number"
   ]
  },
  {
   "cell_type": "code",
   "execution_count": null,
   "metadata": {
    "collapsed": true
   },
   "outputs": [],
   "source": [
    "#You can write your solution to the Sorting problem here:\n",
    "\n"
   ]
  }
 ],
 "metadata": {
  "kernelspec": {
   "display_name": "Python 3",
   "language": "python",
   "name": "python3"
  },
  "language_info": {
   "codemirror_mode": {
    "name": "ipython",
    "version": 3
   },
   "file_extension": ".py",
   "mimetype": "text/x-python",
   "name": "python",
   "nbconvert_exporter": "python",
   "pygments_lexer": "ipython3",
   "version": "3.6.0"
  }
 },
 "nbformat": 4,
 "nbformat_minor": 0
}
