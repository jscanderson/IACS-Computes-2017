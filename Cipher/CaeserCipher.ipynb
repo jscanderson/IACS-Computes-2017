{
 "cells": [
  {
   "cell_type": "markdown",
   "metadata": {},
   "source": [
    "# Caeser Cipher "
   ]
  },
  {
   "cell_type": "markdown",
   "metadata": {},
   "source": [
    "From Wikipedia (https://en.wikipedia.org/wiki/Caesar_cipher):  \n",
    "    \n",
    "    In cryptography, a Caesar cipher, also known as Caesar's cipher, the shift cipher, Caesar's code or Caesar shift, is one of the simplest and most widely known encryption techniques. It is a type of substitution cipher in which each letter in the plaintext is replaced by a letter some fixed number of positions down the alphabet. For example, with a left shift of 3, D would be replaced by A, E would become B, and so on. The method is named after Julius Caesar, who used it in his private correspondence."
   ]
  },
  {
   "cell_type": "markdown",
   "metadata": {},
   "source": [
    "We are going to program a Caeser cipher and use it to encode and decode messages. We are going to use all our knowledge of strings, for loops, lists, and functions to do this.  \n",
    "  \n",
    "We are going to write two functions. The first should encode the unencrypted text."
   ]
  },
  {
   "cell_type": "code",
   "execution_count": 1,
   "metadata": {
    "collapsed": true
   },
   "outputs": [],
   "source": [
    "def encrypt(message, offset = 20):\n",
    "    '''\n",
    "       Function to encrypt a string of text using a Caeser cipher. Can make it case sensitive.\n",
    "       \n",
    "       Inputs are:\n",
    "          message - string to contain the message to be encrypted\n",
    "          offset  - integer with the offset for the Caeser cipher\n",
    "    '''\n",
    "    \n",
    "    # Make sure user knows what language we are using\n",
    "    if offset >= 26:\n",
    "        offset = offset % 26\n",
    "    \n",
    "    # Create a plain string containing all the characters.\n",
    "    Calphabet = 'ABCDEFGHIJKLMNOPQRSTUVWXYZ'\n",
    "    Lalphabet = 'abcdefghijklmnopqrstuvwxyz'\n",
    "    \n",
    "    # Create the offset strings\n",
    "    Offset_Calphabet = Calphabet[offset:] + Calphabet[:offset]\n",
    "    Offset_Lalphabet = Lalphabet[offset:] + Lalphabet[:offset]\n",
    "    \n",
    "    # Create an empty string for the encrypted string\n",
    "    encrypted = \"\"\n",
    "    \n",
    "    # Loop over all characters in the message to be encrypted\n",
    "    for char in message:\n",
    "        \n",
    "        # Check if its in the capitalized list\n",
    "        if char in Calphabet:\n",
    "            # Figure out which letter it is in Calphabet\n",
    "            loc = Calphabet.find(char)\n",
    "            \n",
    "            # Add corresponding letter from Offset_Calphabet\n",
    "            encrypted += Offset_Calphabet[loc]\n",
    "        \n",
    "        # or check if its in the uncapitalized list\n",
    "        elif char in Lalphabet:\n",
    "            # Figure out which letter it is in Calphabet\n",
    "            loc = Lalphabet.find(char)\n",
    "            \n",
    "            # Add corresponding letter from Offset_Calphabet\n",
    "            encrypted += Offset_Lalphabet[loc]\n",
    "            \n",
    "        # or if its not in either list, just leave it as is.\n",
    "        else:\n",
    "            encrypted += char\n",
    "            \n",
    "    # Return encrypted text\n",
    "    return encrypted"
   ]
  },
  {
   "cell_type": "markdown",
   "metadata": {},
   "source": [
    "Lets write a function to undo the encryption (also known as decrypt)."
   ]
  },
  {
   "cell_type": "code",
   "execution_count": 2,
   "metadata": {
    "collapsed": true
   },
   "outputs": [],
   "source": [
    "def decrypt(message, offset = 20):\n",
    "    '''\n",
    "       Function to decrypt a string of text using a Caeser cipher. Can make it case sensitive.\n",
    "       \n",
    "       Inputs are:\n",
    "          message - string to contain the message to be encrypted\n",
    "          offset  - integer with the offset for the Caeser cipher\n",
    "    '''\n",
    "    \n",
    "    # Make sure user knows what language we are using\n",
    "    if offset >= 26:\n",
    "        offset = offset % 26\n",
    "    \n",
    "    # Create a plain string containing all the characters.\n",
    "    Calphabet = 'ABCDEFGHIJKLMNOPQRSTUVWXYZ'\n",
    "    Lalphabet = 'abcdefghijklmnopqrstuvwxyz'\n",
    "    \n",
    "    # Create the offset strings\n",
    "    Offset_Calphabet = Calphabet[offset:] + Calphabet[:offset]\n",
    "    Offset_Lalphabet = Lalphabet[offset:] + Lalphabet[:offset]\n",
    "    \n",
    "    # Create an empty string for the encrypted string\n",
    "    decrypted = \"\"\n",
    "    \n",
    "    # Loop over all characters in the message to be encrypted\n",
    "    for char in message:\n",
    "        \n",
    "        # Check if its in the capitalized list\n",
    "        if char in Offset_Calphabet:\n",
    "            # Figure out which letter it is in Calphabet\n",
    "            loc = Offset_Calphabet.find(char)\n",
    "            \n",
    "            # Add corresponding letter from Offset_Calphabet\n",
    "            decrypted += Calphabet[loc]\n",
    "        \n",
    "        # or check if its in the uncapitalized list\n",
    "        elif char in Offset_Lalphabet:\n",
    "            # Figure out which letter it is in Calphabet\n",
    "            loc = Offset_Lalphabet.find(char)\n",
    "            \n",
    "            # Add corresponding letter from Offset_Calphabet\n",
    "            decrypted += Lalphabet[loc]\n",
    "            \n",
    "        # or if its not in either list, just leave it as is.\n",
    "        else:\n",
    "            decrypted += char\n",
    "            \n",
    "    # Return encrypted text\n",
    "    return decrypted"
   ]
  },
  {
   "cell_type": "code",
   "execution_count": 3,
   "metadata": {
    "collapsed": false
   },
   "outputs": [
    {
     "name": "stdout",
     "output_type": "stream",
     "text": [
      "rcqr.\n"
     ]
    }
   ],
   "source": [
    "first = encrypt('test.', 50)\n",
    "print first"
   ]
  },
  {
   "cell_type": "code",
   "execution_count": 4,
   "metadata": {
    "collapsed": false
   },
   "outputs": [
    {
     "name": "stdout",
     "output_type": "stream",
     "text": [
      "test.\n"
     ]
    }
   ],
   "source": [
    "second = decrypt(first, 50)\n",
    "print second"
   ]
  },
  {
   "cell_type": "code",
   "execution_count": 7,
   "metadata": {
    "collapsed": false
   },
   "outputs": [
    {
     "data": {
      "text/plain": [
       "\"Nby Kocwe Vliqh Zir Dogjyx Ipyl nby Futs Xia'm Vuwe\""
      ]
     },
     "execution_count": 7,
     "metadata": {},
     "output_type": "execute_result"
    }
   ],
   "source": [
    "encrypt('The Quick Brown Fox Jumped Over the Lazy Dog\\'s Back', 20)"
   ]
  },
  {
   "cell_type": "code",
   "execution_count": 8,
   "metadata": {
    "collapsed": false
   },
   "outputs": [
    {
     "data": {
      "text/plain": [
       "\"The Quick Brown Fox Jumped Over the Lazy Dog's Back\""
      ]
     },
     "execution_count": 8,
     "metadata": {},
     "output_type": "execute_result"
    }
   ],
   "source": [
    "decrypt('Nby Kocwe Vliqh Zir Dogjyx Ipyl nby Futs Xia\\'m Vuwe',20)"
   ]
  },
  {
   "cell_type": "code",
   "execution_count": null,
   "metadata": {
    "collapsed": true
   },
   "outputs": [],
   "source": []
  }
 ],
 "metadata": {
  "kernelspec": {
   "display_name": "Python 2",
   "language": "python",
   "name": "python2"
  },
  "language_info": {
   "codemirror_mode": {
    "name": "ipython",
    "version": 2
   },
   "file_extension": ".py",
   "mimetype": "text/x-python",
   "name": "python",
   "nbconvert_exporter": "python",
   "pygments_lexer": "ipython2",
   "version": "2.7.11"
  }
 },
 "nbformat": 4,
 "nbformat_minor": 0
}
