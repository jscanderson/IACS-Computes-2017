{
 "cells": [
  {
   "cell_type": "markdown",
   "metadata": {},
   "source": [
    "# Conditionals"
   ]
  },
  {
   "cell_type": "markdown",
   "metadata": {},
   "source": [
    "## If Statements"
   ]
  },
  {
   "cell_type": "markdown",
   "metadata": {},
   "source": [
    "Up until now, we've directly told the computer what to do, and it executes those commands every time. What if we only want the computer to run code *some* of the time? This is where conditionals come in.\n",
    "\n",
    "Let's start by defining a variable a."
   ]
  },
  {
   "cell_type": "code",
   "execution_count": 1,
   "metadata": {
    "collapsed": false
   },
   "outputs": [
    {
     "name": "stdout",
     "output_type": "stream",
     "text": [
      "1\n"
     ]
    }
   ],
   "source": [
    "a=1\n",
    "print(a)"
   ]
  },
  {
   "cell_type": "markdown",
   "metadata": {},
   "source": [
    "Recall that we can use the following line of code to add 1 to the value of a, taking advantage of the way the equals sign works in Python:"
   ]
  },
  {
   "cell_type": "code",
   "execution_count": 2,
   "metadata": {
    "collapsed": false
   },
   "outputs": [
    {
     "name": "stdout",
     "output_type": "stream",
     "text": [
      "2\n"
     ]
    }
   ],
   "source": [
    "a = a + 1\n",
    "print(a)"
   ]
  },
  {
   "cell_type": "markdown",
   "metadata": {},
   "source": [
    "Now that that cell is executed, let's look at the following piece of trivial code:"
   ]
  },
  {
   "cell_type": "code",
   "execution_count": 3,
   "metadata": {
    "collapsed": false
   },
   "outputs": [
    {
     "name": "stdout",
     "output_type": "stream",
     "text": [
      "3\n"
     ]
    }
   ],
   "source": [
    "if a < 5 : a = a + 1\n",
    "print(a)"
   ]
  },
  {
   "cell_type": "markdown",
   "metadata": {},
   "source": [
    "The first time you run the above code, you should see the number 3 printed (assuming you've run the previous cells). This code does pretty much what you would expect. First, the computer checks to see if a is less than 5. If it is, then it adds 1 to a, then stores the result in a. Next, it prints a. Since a was 2, it met the condition of being less than 5, so the computer added 1 to a. Then the computer printed a (because of the way this is written, the computer will print a regardless of its value). a is now 3. If you select the cell above and hit shift+enter, it will run again. What do you think will happen? Try it out! Play with this cell until you understand what is happening. Eventually, a will equal 5, and the expression \"a < 5\" will be False, so the instruction \"a = a + 1\" will not run. "
   ]
  },
  {
   "cell_type": "markdown",
   "metadata": {},
   "source": [
    "Let's look more closely at that last piece of code. The \"if\" statement looks for a boolean (something that's either True or False). If that boolean is True, then the following code will run. If that boolean is False, then the following code will be skipped.\n",
    "\n",
    "In our code, we used a < 5. Luckily, this evaluates to a boolean! Since that boolean is True, the next line is run. If you experiment by continuing to execute the cell, eventually a will equal 5, and executing the cell will effectively do nothing. This is because a < 5 now evaluates to False."
   ]
  },
  {
   "cell_type": "markdown",
   "metadata": {},
   "source": [
    "With this knowledge, we can see why stuff like this works:"
   ]
  },
  {
   "cell_type": "code",
   "execution_count": 4,
   "metadata": {
    "collapsed": false
   },
   "outputs": [
    {
     "name": "stdout",
     "output_type": "stream",
     "text": [
      "9\n"
     ]
    }
   ],
   "source": [
    "if True : a = a*3\n",
    "print(a)"
   ]
  },
  {
   "cell_type": "markdown",
   "metadata": {},
   "source": [
    "Since the if statement expects a boolean, we could just put a boolean in there! Of course, this specific example is the same as not using an if statement at all, because this code will always run! So while you'll never see this actually used, it does demonstrate what is going on behind the scenes and some similar tricks with different keywords might be useful later."
   ]
  },
  {
   "cell_type": "markdown",
   "metadata": {},
   "source": [
    "Often, we want our if statement to apply to multiple instructions, and not just one. In this case, all lines of code that we want to fall under the \"if\" statement are indented beneath the if statement. Here's an example"
   ]
  },
  {
   "cell_type": "code",
   "execution_count": 5,
   "metadata": {
    "collapsed": false
   },
   "outputs": [
    {
     "name": "stdout",
     "output_type": "stream",
     "text": [
      "a is 10\n",
      "b is 2\n"
     ]
    }
   ],
   "source": [
    "b = 3\n",
    "if a < 10:\n",
    "    a = a + 1\n",
    "    b = b - 1\n",
    "print(\"a is\", a)\n",
    "print(\"b is\", b)"
   ]
  },
  {
   "cell_type": "markdown",
   "metadata": {},
   "source": [
    "From here on out, pay very close to indentation. Indentation is how Python detects what you want to be inside the \"if\" block, and what is outside this block. In the example above, the 3rd and 4th lines are inside the if block, so they will only run if the if statement succeeds. The print statements are outside the if block, so they will always run."
   ]
  },
  {
   "cell_type": "markdown",
   "metadata": {},
   "source": [
    "A note about programming conventions. When we introduced if statements, we used a single line of code, and then later showed you how to format it as multiple lines. In practice, the single-line version is rarely used, as the multiple-line version is usually easier to read. For example, instead of writing:"
   ]
  },
  {
   "cell_type": "code",
   "execution_count": null,
   "metadata": {
    "collapsed": true
   },
   "outputs": [],
   "source": [
    "if a < 5 : a = a + 1"
   ]
  },
  {
   "cell_type": "markdown",
   "metadata": {},
   "source": [
    "it is more common to write:"
   ]
  },
  {
   "cell_type": "code",
   "execution_count": null,
   "metadata": {
    "collapsed": true
   },
   "outputs": [],
   "source": [
    "if a < 5:\n",
    "    a = a + 1"
   ]
  },
  {
   "cell_type": "markdown",
   "metadata": {},
   "source": [
    "However, just because this is more common, it's by no means a rule. For single-command if statements, use whichever you feel comfortable with."
   ]
  },
  {
   "cell_type": "markdown",
   "metadata": {},
   "source": [
    "## The Else and Elif Keywords"
   ]
  },
  {
   "cell_type": "markdown",
   "metadata": {},
   "source": [
    "If you want the computer to execute a different piece of code should the if condition fail, you use an else statement. Here's an example:"
   ]
  },
  {
   "cell_type": "code",
   "execution_count": 6,
   "metadata": {
    "collapsed": false
   },
   "outputs": [
    {
     "name": "stdout",
     "output_type": "stream",
     "text": [
      "6\n"
     ]
    }
   ],
   "source": [
    "if a < 5:\n",
    "    a = a + 1\n",
    "else:\n",
    "    a = a - 4\n",
    "\n",
    "print(a)"
   ]
  },
  {
   "cell_type": "markdown",
   "metadata": {},
   "source": [
    "The else statement is partnered with the preceding if statement. You will never see an else statement without an if statement before it (in fact this will give you an error). In the case that the if statement fails to execute (meaning the expression next to the \"if\" evaluates to False), the else statement will run instead. Note that else statements are optional, but can be very useful.\n",
    "\n",
    "A common mistake for beginners is to write a condition next to the else keyword, like this:"
   ]
  },
  {
   "cell_type": "code",
   "execution_count": 7,
   "metadata": {
    "collapsed": false
   },
   "outputs": [
    {
     "ename": "SyntaxError",
     "evalue": "invalid syntax (<ipython-input-7-725e0e130b4d>, line 3)",
     "output_type": "error",
     "traceback": [
      "\u001b[0;36m  File \u001b[0;32m\"<ipython-input-7-725e0e130b4d>\"\u001b[0;36m, line \u001b[0;32m3\u001b[0m\n\u001b[0;31m    else a >= 5:\u001b[0m\n\u001b[0m         ^\u001b[0m\n\u001b[0;31mSyntaxError\u001b[0m\u001b[0;31m:\u001b[0m invalid syntax\n"
     ]
    }
   ],
   "source": [
    "if a < 5:\n",
    "    a = a + 1\n",
    "else a >= 5:\n",
    "    a = a -4\n",
    "\n",
    "print(a)"
   ]
  },
  {
   "cell_type": "markdown",
   "metadata": {},
   "source": [
    "However, this gives an error. This is because the else keyword doesn't require a boolean expression to run. It *automatically* runs in all the cases that the if statement fails. Sometimes this mistake is made when you're actually looking for the \"elif\" functionality, which is discussed next:"
   ]
  },
  {
   "cell_type": "markdown",
   "metadata": {},
   "source": [
    "What if we have a long list of conditions, and we want to do something different in each case? We can use the elif statement, which is short for \"else if.\" An example is below."
   ]
  },
  {
   "cell_type": "code",
   "execution_count": 8,
   "metadata": {
    "collapsed": false
   },
   "outputs": [
    {
     "name": "stdout",
     "output_type": "stream",
     "text": [
      "-4\n"
     ]
    }
   ],
   "source": [
    "if a < 5:\n",
    "    a = a + 1\n",
    "elif a == 5:\n",
    "    a = a * 2\n",
    "else:\n",
    "    a = a - 10\n",
    "\n",
    "print(a)"
   ]
  },
  {
   "cell_type": "markdown",
   "metadata": {},
   "source": [
    "Again, you will never see an elif statement that isn't paired with an if statement. Any elif statement will only run if none of the preceding statements ran (including the if statement with which it is paired and any other preceding elif statements). You can have as many elif statements as you want paired with a single if statement. The computer will check each statement from top to bottom until one of three things happens:\n",
    "\n",
    "1) a statement evaluates to true (thus running the indented code)  \n",
    "2) it hits an else statement, thus running the indented code there  \n",
    "3) It hits the bottom (in the case that there is no else statement)\n",
    "\n",
    "Note that in this if -> elif -> else construction, only one set of indented code will ever run."
   ]
  },
  {
   "cell_type": "markdown",
   "metadata": {},
   "source": [
    "Play with the above cell. Try to guess what number the computer will print before you run the cell each time. Think about how the computer goes about choosing which piece of code to run."
   ]
  },
  {
   "cell_type": "markdown",
   "metadata": {},
   "source": [
    "## Worked Examples "
   ]
  },
  {
   "cell_type": "markdown",
   "metadata": {},
   "source": [
    "1) Write a cell that checks if a number is less than 10, and if it is, print \"my_number is less than 10\"."
   ]
  },
  {
   "cell_type": "code",
   "execution_count": null,
   "metadata": {
    "collapsed": false
   },
   "outputs": [],
   "source": [
    "my_number = 5   # This is the number we are checking the value of\n",
    "\n",
    "# Now to check if my_number is less than 10. \"if\" statements always\n",
    "# end with a colon\n",
    "if my_number < 10:   \n",
    "    \n",
    "    # Here we are indented underneath the \"if\" statement. All code\n",
    "    # indented here will be executed if the \"if\" statement is true\n",
    "    print(\"my_number is less than 10\")"
   ]
  },
  {
   "cell_type": "markdown",
   "metadata": {},
   "source": [
    "In the above code, we used the pound sign (#) to write comments. This symbol allows us to write whatever we want, and Python will ignore it. This is useful because we can write notes to other programmers (and our future selves) without the computer thinking we're trying to code something (which would result in a ton of errors)."
   ]
  },
  {
   "cell_type": "markdown",
   "metadata": {},
   "source": [
    "Here's the above code without comments:"
   ]
  },
  {
   "cell_type": "code",
   "execution_count": null,
   "metadata": {
    "collapsed": false
   },
   "outputs": [],
   "source": [
    "my_number = 5  \n",
    "\n",
    "if my_number < 10:   \n",
    "    print(\"my_number is less than 10\")"
   ]
  },
  {
   "cell_type": "markdown",
   "metadata": {},
   "source": [
    "2) Write a cell that checks if a number is less than 10 or less than 20. If its less than 10, print \"my_number is less than 10\". If its less than 20 but greater than 10, print \"my_number is greater than 10 but less than 20\"."
   ]
  },
  {
   "cell_type": "code",
   "execution_count": null,
   "metadata": {
    "collapsed": false
   },
   "outputs": [],
   "source": [
    "my_number = 17    # This is the number we are checking the value of\n",
    "\n",
    "# Now to check if my_number is less than 10. \"if\" statements always\n",
    "# end with a colon\n",
    "if my_number < 10:\n",
    "    \n",
    "    # Here we are indented underneath the \"if\" statement. All code\n",
    "    # indented here will be executed if the \"if\" statement is true\n",
    "    print(\"my_number is less than 10\")\n",
    "    \n",
    "# Next we are also checking if my_number is less than 20. Note: we\n",
    "# only check if my_number is less than 20 AFTER checking if its less than 10.\n",
    "# If my_number=7, then the first \"if\" (line 4) would be true, and Python\n",
    "# would not check if this elif statement were true. If we had more \"elif\"\n",
    "# statements, they are checked sequentially from top to bottom.\n",
    "elif my_number < 20:\n",
    "    # Here we are indented underneath the \"elif\" statement. All code\n",
    "    # indented here will be executed if the \"elif\" statement is true\n",
    "    print(\"my_number is greater than 10 but less than 20\")"
   ]
  },
  {
   "cell_type": "markdown",
   "metadata": {},
   "source": [
    "Here's the above code without comments:"
   ]
  },
  {
   "cell_type": "code",
   "execution_count": null,
   "metadata": {
    "collapsed": false
   },
   "outputs": [],
   "source": [
    "my_number = 17    \n",
    "\n",
    "if my_number < 10:\n",
    "    print(\"my_number is less than 10\")\n",
    "elif my_number < 20:\n",
    "    print(\"my_number is greater than 10 but less than 20\")"
   ]
  },
  {
   "cell_type": "markdown",
   "metadata": {},
   "source": [
    "3) Write a cell that checks if a number is less than 10 or less than 20. If its less than 10, print \"my_number is less than 10\". If its less than 20 but greater than 10, print \"my_number is greater than 10 but less than 20\". If the number is neither of these, print \"my_number is greater than 20.\""
   ]
  },
  {
   "cell_type": "code",
   "execution_count": null,
   "metadata": {
    "collapsed": false
   },
   "outputs": [],
   "source": [
    "my_number = 17    # This is the number we are checking the value of\n",
    "\n",
    "# Now to check if my_number is less than 10. \"if\" statements always\n",
    "# end with a colon\n",
    "if my_number < 10:\n",
    "    \n",
    "    # Here we are indented underneath the \"if\" statement. All code\n",
    "    # indented here will be executed if the \"if\" statement is true\n",
    "    print(\"my_number is less than 10\")\n",
    "    \n",
    "# Next we are also checking if my_number is less than 20. Note: we\n",
    "# only check if my_number is less than 20 AFTER checking if its less than 10.\n",
    "# If my_number=7, then the first \"if\" (line 4) would be true, and Python\n",
    "# would not check if this elif statement were true. If we had more \"elif\"\n",
    "# statements, they are checked sequentially from top to bottom.\n",
    "elif my_number < 20:\n",
    "    # Here we are indented underneath the \"elif\" statement. All code\n",
    "    # indented here will be executed if the \"elif\" statement is true\n",
    "    print(\"my_number is greater than 10 but less than 20\")\n",
    "\n",
    "# Next we have an \"else\" statement. This captures ALL other cases.\n",
    "# If all of the above \"if\" and \"elif\" statements are false, then\n",
    "# the else is found to be true and the code indented below is \n",
    "# executed.\n",
    "else:\n",
    "    # Here we are indented underneath the \"else\" statement. All code\n",
    "    # indented here will be executed if the \"else\" statement is true\n",
    "    print(\"my_number is greater than 20\")"
   ]
  },
  {
   "cell_type": "markdown",
   "metadata": {},
   "source": [
    "Here's the above code without comments:"
   ]
  },
  {
   "cell_type": "code",
   "execution_count": null,
   "metadata": {
    "collapsed": false
   },
   "outputs": [],
   "source": [
    "my_number = 34\n",
    "\n",
    "if my_number < 10:\n",
    "    print(\"my_number is less than 10\")\n",
    "elif my_number < 20:\n",
    "    print(\"my_number is greater than 10 but less than 20\")\n",
    "else:\n",
    "    print(\"my number is greater than 20\")"
   ]
  },
  {
   "cell_type": "markdown",
   "metadata": {
    "collapsed": true
   },
   "source": [
    "## Practice Problems "
   ]
  },
  {
   "cell_type": "markdown",
   "metadata": {},
   "source": [
    "Write a cell that creates an variable containing an integer between 10 and 99. If it's less than 50, add 25 to it and print the result. Otherwise, just print the number."
   ]
  },
  {
   "cell_type": "code",
   "execution_count": null,
   "metadata": {
    "collapsed": true
   },
   "outputs": [],
   "source": []
  },
  {
   "cell_type": "markdown",
   "metadata": {},
   "source": [
    "Write a cell that creates a variable containing an integer that's either 1, 2, or 3. Write an if -> elif -> else statement that will print the word corresponding to that integer. For example, if that integer is 1, this cell should print the word \"one.\""
   ]
  },
  {
   "cell_type": "code",
   "execution_count": null,
   "metadata": {
    "collapsed": true
   },
   "outputs": [],
   "source": []
  },
  {
   "cell_type": "markdown",
   "metadata": {},
   "source": [
    "Write a cell that creates a variables and stores an integer there. Then have this cell look at the integer variable and print \"Even\" if the number is even or \"Odd\" if the number is odd. (If you want to make your program more robust, you can have it print an error message if it receives a non-integer). *Hint:* If a number is even, it will give a remainder of 0 when divided by 2. Also recall how the modulus ( % ) is used to give the remainder."
   ]
  },
  {
   "cell_type": "code",
   "execution_count": null,
   "metadata": {
    "collapsed": true
   },
   "outputs": [],
   "source": []
  },
  {
   "cell_type": "markdown",
   "metadata": {},
   "source": [
    "## Advanced Problem"
   ]
  },
  {
   "cell_type": "markdown",
   "metadata": {},
   "source": [
    "Write a cell that checks for the kind of solution a given quadratic equation will have (2 real solutions? 1 solution? no real solutions?). Print the solutions if there are any, and print an error message if there are no real solutions. If there is only one solution, print that solution only once. Try it on a handful of different quadratics to make sure each case works appropriately.\n",
    "\n",
    "*hint* You can use the discriminant $\\Delta$ to determine the number of real solutions a quadratic will have. Recalling the formula for a quadratic equation we saw earlier (in the variables notebook), the discriminant is given by:\n",
    "\n",
    "$$\n",
    "\\Delta = b^2-4ac\n",
    "$$  \n",
    "$$\n",
    "\\begin{array}{c | c }\n",
    "   \\mbox{Condition} &  \\mbox{Number of Real Solutions}\\\\\n",
    "   \\hline\n",
    "   \\Delta > 0 & \\mbox{2 Real Solutions} \\\\\n",
    "   \\Delta = 0 & \\mbox{1 Real Solution} \\\\\n",
    "   \\Delta < 0 & \\mbox{No Real Solutions}\n",
    "\\end{array}\n",
    "$$"
   ]
  },
  {
   "cell_type": "code",
   "execution_count": null,
   "metadata": {
    "collapsed": true
   },
   "outputs": [],
   "source": [
    "from math import sqrt #don't forget this, which allows you to use the square root\n"
   ]
  }
 ],
 "metadata": {
  "kernelspec": {
   "display_name": "Python 3",
   "language": "python",
   "name": "python3"
  },
  "language_info": {
   "codemirror_mode": {
    "name": "ipython",
    "version": 3
   },
   "file_extension": ".py",
   "mimetype": "text/x-python",
   "name": "python",
   "nbconvert_exporter": "python",
   "pygments_lexer": "ipython3",
   "version": "3.6.0"
  }
 },
 "nbformat": 4,
 "nbformat_minor": 0
}
