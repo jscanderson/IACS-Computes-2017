{
 "cells": [
  {
   "cell_type": "markdown",
   "metadata": {},
   "source": [
    "# Jupyter Notebook Basics"
   ]
  },
  {
   "cell_type": "markdown",
   "metadata": {},
   "source": [
    "This notebook is a guide to using the Jupyter program. Don't be bothered if the information here is overwhelming, but keep this as a reference. If you think to yourself \"How do I do \\_\\_\\_\\_\\_\\_ in Jupyter?\" Then look here first."
   ]
  },
  {
   "cell_type": "markdown",
   "metadata": {},
   "source": [
    "This box I am typing in is called a \"cell.\" There are two main types of cells we will be using. The first is called \"markdown.\" Markdown cells, when executed (described below), simply become paragraphs of text (as if in a normal text editor such as Microsoft Word.) The second type of cell we will be using is code cells. Code cells, when executed, will run the code inside the cell. The easiest way to change the type of cell you are coding in is with the dropdown menu at the top of the screen. Keep note of this: one of the most common mistakes students have when beginning to use Jupyter notebooks is typing code into a markdown cell, or regular text into a code cell. This is easily fixed by changing the cell to the correct type."
   ]
  },
  {
   "cell_type": "markdown",
   "metadata": {},
   "source": [
    "What does it mean to \"execute\" a cell? We (the user) are telling the Jupyter notebook program to do everything we have typed in the cell, be it actual Python code or simple markdown text formating. To execute a cell, simply have that cell selected (be it in edit mode or command mode) and hold Shift and hit the Enter key."
   ]
  },
  {
   "cell_type": "markdown",
   "metadata": {},
   "source": [
    "What is edit mode? That is the mode indicated by a green cell border and a prompt in the box. You can access it by selecting the cell and pressing Enter or by double clicking in the cell's text box."
   ]
  },
  {
   "cell_type": "markdown",
   "metadata": {},
   "source": [
    "What is command mode? This is a mode indicated by a blue left margin and a grey cell border. With command mode, you can edit the notebook as a whole, but you cannot type into individual cells. Most importantly: the keyboard is mapped to a set of shortcuts that let you perform notebook and cell actions efficiently. For example if you are in command mode and you press c, you will copy the current cell."
   ]
  },
  {
   "cell_type": "markdown",
   "metadata": {},
   "source": [
    "Here's a list of basic commands keyboard shortcuts accessable in command mode:\n",
    "\n",
    "1. Basic navigation: enter, shift-enter, up/k, down/j\n",
    "2. Saving the notebook: s\n",
    "3. Change Cell types: \n",
    "    - y (change to code)\n",
    "    - m (change to markdown)\n",
    "    - 1-6 (change to headline, larger number is smaller text)\n",
    "4. Cell creation: a, b\n",
    "5. Cell deletion: d (press twice)\n",
    "6. Cell editing: x, c, v, d, z\n",
    "7. Kernel operations: i, 0 (press twice)"
   ]
  },
  {
   "cell_type": "markdown",
   "metadata": {},
   "source": [
    "Commands like this can greatly increase productivity and are always worth spending the time to learn."
   ]
  },
  {
   "cell_type": "markdown",
   "metadata": {},
   "source": [
    "**Bold** and __italics__ are also easily done:\n",
    "1. Bold uses \\*\\* before and after\n",
    "2. Italics use * before and after"
   ]
  },
  {
   "cell_type": "markdown",
   "metadata": {
    "collapsed": true
   },
   "source": [
    "These notebooks use \"Latex formatting\", which allows for some cool things for those who are familiar with Latex (don't worry if you aren't). For instance, the Greek alphabet can be typed out using Latex formatting, such as $\\phi$ and $\\theta$."
   ]
  },
  {
   "cell_type": "markdown",
   "metadata": {},
   "source": [
    "We can also do cool formula formatting  \n",
    "$$x = \\frac{-b \\pm \\sqrt{b^2 - 4 a c}}{2a}$$"
   ]
  }
 ],
 "metadata": {
  "kernelspec": {
   "display_name": "Python 2",
   "language": "python",
   "name": "python2"
  },
  "language_info": {
   "codemirror_mode": {
    "name": "ipython",
    "version": 2
   },
   "file_extension": ".py",
   "mimetype": "text/x-python",
   "name": "python",
   "nbconvert_exporter": "python",
   "pygments_lexer": "ipython2",
   "version": "2.7.11"
  }
 },
 "nbformat": 4,
 "nbformat_minor": 0
}
