{
 "cells": [
  {
   "cell_type": "markdown",
   "metadata": {
    "collapsed": true
   },
   "source": [
    "# Input / Output "
   ]
  },
  {
   "cell_type": "markdown",
   "metadata": {
    "collapsed": true
   },
   "source": [
    "## Practice Problems"
   ]
  },
  {
   "cell_type": "markdown",
   "metadata": {},
   "source": [
    "Write a function that takes two strings as inputs. Have the first string be appended to a file, where the file's name is the second string. Check that your function works by either opening the file manually, or by opening the file in a new cell and printing the content."
   ]
  },
  {
   "cell_type": "code",
   "execution_count": 1,
   "metadata": {
    "collapsed": true
   },
   "outputs": [],
   "source": [
    "def write_to_file(the_string, the_file):\n",
    "    \n",
    "    # Open the file in append mode\n",
    "    my_file = open(the_file, 'w')\n",
    "    \n",
    "    # Write the_string to the_file\n",
    "    my_file.write(the_string)\n",
    "    \n",
    "    # Close the file\n",
    "    my_file.close()"
   ]
  },
  {
   "cell_type": "code",
   "execution_count": 2,
   "metadata": {},
   "outputs": [
    {
     "name": "stdout",
     "output_type": "stream",
     "text": [
      "['Hello World!\\n', '\\n', 'Goodbye.']\n"
     ]
    }
   ],
   "source": [
    "# Testing write_to_file()\n",
    "write_to_file(\"Hello World!\\n\\nGoodbye.\", \"hello_world.txt\")\n",
    "\n",
    "# Checking contents of the result of above cell\n",
    "reader = open('hello_world.txt', 'r')\n",
    "\n",
    "# Reading in lines\n",
    "lines = reader.readlines()\n",
    "\n",
    "print(lines)\n",
    "\n",
    "# Always clean up\n",
    "reader.close()"
   ]
  },
  {
   "cell_type": "markdown",
   "metadata": {},
   "source": [
    "Write a function with no inputs that prompts the user to enter a random integer between zero and one-hundred. Name your function \"get_number\" and have it return the number entered. (Make sure to cast the number entered as an integer.)"
   ]
  },
  {
   "cell_type": "code",
   "execution_count": 7,
   "metadata": {
    "collapsed": true
   },
   "outputs": [],
   "source": [
    "def get_number():\n",
    "    \n",
    "    # Prompt user for a number\n",
    "    the_number = input(\"Please enter an integer between 1 and 100: \")\n",
    "    \n",
    "    # Return the number\n",
    "    # making sure to cast it as an int\n",
    "    return int(the_number)"
   ]
  },
  {
   "cell_type": "code",
   "execution_count": 8,
   "metadata": {},
   "outputs": [
    {
     "name": "stdout",
     "output_type": "stream",
     "text": [
      "Please enter an integer between 1 and 100: 50\n",
      "50\n"
     ]
    }
   ],
   "source": [
    "# Testing\n",
    "\n",
    "print(get_number())"
   ]
  },
  {
   "cell_type": "markdown",
   "metadata": {},
   "source": [
    "Write a function that takes as input a number. Have the function prompt the user for another number and store it in a variable. Then determine if the user's number is greater than, equal to, or less than the input number. Tell the user which case their guess falls into by printing to the screen. Have your function return True if its equal and False otherwise."
   ]
  },
  {
   "cell_type": "code",
   "execution_count": 9,
   "metadata": {
    "collapsed": true
   },
   "outputs": [],
   "source": [
    "def guess(n):\n",
    "    \n",
    "    # Prompt user for a number\n",
    "    # making sure to cast it as an int\n",
    "    the_guess = int(input(\"Please enter an integer between 1 and 100: \"))\n",
    "    \n",
    "    # Check if too low\n",
    "    if the_guess < n:\n",
    "        \n",
    "        # Too low!\n",
    "        print(\"Your guess was too low.\")\n",
    "        \n",
    "    # Check if too high\n",
    "    elif the_guess > n:\n",
    "        \n",
    "        # Too high!\n",
    "        print(\"Your guess was too high.\")\n",
    "        \n",
    "    # Else handles the case the_number == n\n",
    "    else:\n",
    "        \n",
    "        # They guessed right\n",
    "        print(\"You guessed right!\\nThe number was\", n)\n",
    "        return True\n",
    "    \n",
    "    # If we get here then they didn't guess the number\n",
    "    # so return False\n",
    "    return False"
   ]
  },
  {
   "cell_type": "code",
   "execution_count": 11,
   "metadata": {},
   "outputs": [
    {
     "name": "stdout",
     "output_type": "stream",
     "text": [
      "Please enter an integer between 1 and 100: 50\n",
      "Your guess was too high.\n"
     ]
    },
    {
     "data": {
      "text/plain": [
       "False"
      ]
     },
     "execution_count": 11,
     "metadata": {},
     "output_type": "execute_result"
    }
   ],
   "source": [
    "# Testing guess\n",
    "guess(30)"
   ]
  },
  {
   "cell_type": "markdown",
   "metadata": {},
   "source": [
    "## Advanced Problem "
   ]
  },
  {
   "cell_type": "markdown",
   "metadata": {},
   "source": [
    "*Guessing Game*: Write a guessing game function that has generates a random integer between 1 and 100 (we will provide the code for this), and then has the user continue to guess until the user guesses the correct number. Each time the user is wrong, the function should tell the user if they were too high or too low."
   ]
  },
  {
   "cell_type": "code",
   "execution_count": 12,
   "metadata": {
    "collapsed": true
   },
   "outputs": [],
   "source": [
    "# We need this library to generate a random number\n",
    "import random\n",
    "\n",
    "def guessing_game( ):\n",
    "    \n",
    "    # This creates a random integer between 1 and 100\n",
    "    # and stores it in the variable named \"the_number\"\n",
    "    the_number = random.randint(1,100)\n",
    "    \n",
    "    # Boolean variable to determine if we continue\n",
    "    game = True\n",
    "    \n",
    "    # Going to be smart and use the previous code we wrote!\n",
    "    while game:\n",
    "        \n",
    "        # Check if a guess is right\n",
    "        if guess(the_number):\n",
    "            \n",
    "            # They got it right\n",
    "            print(\"Congratulations! You've won the guessing game.\")\n",
    "            \n",
    "            # We need to exit the game\n",
    "            game = False\n",
    "    \n",
    "        # If we get here, they guessed wrong\n",
    "        else:\n",
    "            \n",
    "            # Tell them to try again\n",
    "            print(\"Try again!\")\n",
    "            print(\"\") # This empty line helps with read-ability"
   ]
  },
  {
   "cell_type": "code",
   "execution_count": 13,
   "metadata": {},
   "outputs": [
    {
     "name": "stdout",
     "output_type": "stream",
     "text": [
      "Please enter an integer between 1 and 100: 50\n",
      "Your guess was too low.\n",
      "Try again!\n",
      "\n",
      "Please enter an integer between 1 and 100: 1\n",
      "Your guess was too low.\n",
      "Try again!\n",
      "\n",
      "Please enter an integer between 1 and 100: 10\n",
      "Your guess was too low.\n",
      "Try again!\n",
      "\n",
      "Please enter an integer between 1 and 100: 20\n",
      "Your guess was too low.\n",
      "Try again!\n",
      "\n",
      "Please enter an integer between 1 and 100: 40\n",
      "Your guess was too low.\n",
      "Try again!\n",
      "\n",
      "Please enter an integer between 1 and 100: 50\n",
      "Your guess was too low.\n",
      "Try again!\n",
      "\n",
      "Please enter an integer between 1 and 100: 60\n",
      "Your guess was too low.\n",
      "Try again!\n",
      "\n",
      "Please enter an integer between 1 and 100: 70\n",
      "Your guess was too low.\n",
      "Try again!\n",
      "\n",
      "Please enter an integer between 1 and 100: 80\n",
      "Your guess was too high.\n",
      "Try again!\n",
      "\n",
      "Please enter an integer between 1 and 100: 75\n",
      "Your guess was too high.\n",
      "Try again!\n",
      "\n",
      "Please enter an integer between 1 and 100: 73\n",
      "You guessed right!\n",
      "The number was 73\n",
      "Congratulations! You've won the guessing game.\n"
     ]
    }
   ],
   "source": [
    "guessing_game()"
   ]
  },
  {
   "cell_type": "code",
   "execution_count": null,
   "metadata": {
    "collapsed": true
   },
   "outputs": [],
   "source": []
  }
 ],
 "metadata": {
  "kernelspec": {
   "display_name": "Python 3",
   "language": "python",
   "name": "python3"
  },
  "language_info": {
   "codemirror_mode": {
    "name": "ipython",
    "version": 3
   },
   "file_extension": ".py",
   "mimetype": "text/x-python",
   "name": "python",
   "nbconvert_exporter": "python",
   "pygments_lexer": "ipython3",
   "version": "3.6.1"
  }
 },
 "nbformat": 4,
 "nbformat_minor": 1
}
