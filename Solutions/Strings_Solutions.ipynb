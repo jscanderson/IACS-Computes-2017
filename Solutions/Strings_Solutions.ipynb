{
 "cells": [
  {
   "cell_type": "markdown",
   "metadata": {
    "collapsed": true
   },
   "source": [
    "# Strings "
   ]
  },
  {
   "cell_type": "markdown",
   "metadata": {},
   "source": [
    "## Practice Problems "
   ]
  },
  {
   "cell_type": "markdown",
   "metadata": {},
   "source": [
    "Create a list containing some strings. Then add all of the strings together and print the result."
   ]
  },
  {
   "cell_type": "code",
   "execution_count": 1,
   "metadata": {},
   "outputs": [
    {
     "name": "stdout",
     "output_type": "stream",
     "text": [
      "catdogfoxpig\n"
     ]
    }
   ],
   "source": [
    "# Creating the list\n",
    "my_list = [\"cat\", \"dog\", \"fox\", \"pig\"]\n",
    "\n",
    "# Empty string to contain the result of adding\n",
    "# all the strings together\n",
    "my_string = \"\"\n",
    "\n",
    "# Using a for loop to iterate through the list and\n",
    "# add each element to a new string\n",
    "for word in my_list:\n",
    "    \n",
    "    # Each time through the loop, the variable \"word\"\n",
    "    # will contain the next element of the list\n",
    "    my_string = my_string + word\n",
    "    \n",
    "# Print the answer\n",
    "print(my_string)"
   ]
  },
  {
   "cell_type": "markdown",
   "metadata": {},
   "source": [
    "Write a cell that determines how many words are in a string. (Assume that the string is a sentence where words are all seperated by a space.)"
   ]
  },
  {
   "cell_type": "code",
   "execution_count": 2,
   "metadata": {},
   "outputs": [
    {
     "name": "stdout",
     "output_type": "stream",
     "text": [
      "There are 10 words in \"the_string\" variable.\n"
     ]
    }
   ],
   "source": [
    "# My test string\n",
    "the_string = \"The quick brown fox jumped over the lazy dog's back.\"\n",
    "\n",
    "# Using the .split() function to split the sentence up every time\n",
    "# whitespace (ex: an empty space) is found. Then the number of words\n",
    "# will simply be the length of counter.\n",
    "counter = the_string.split()\n",
    "\n",
    "# Print the answer\n",
    "print(\"There are\", len(counter), \"words in \\\"the_string\\\" variable.\")"
   ]
  },
  {
   "cell_type": "markdown",
   "metadata": {},
   "source": [
    "Write a cell that doubles every letter. For example, \"Steve\" would become \"SStteevvee\"."
   ]
  },
  {
   "cell_type": "code",
   "execution_count": 3,
   "metadata": {},
   "outputs": [
    {
     "name": "stdout",
     "output_type": "stream",
     "text": [
      "BBrryyaann\n"
     ]
    }
   ],
   "source": [
    "# My test string\n",
    "my_string = \"Bryan\"\n",
    "\n",
    "# Creating an empty string to add to inside a loop\n",
    "my_answer = \"\"\n",
    "\n",
    "# Loop over every character in the string\n",
    "for char in my_string:\n",
    "    \n",
    "    # Each time through the loop, \"char\" is the next character\n",
    "    # in my_string. The *2 will add two characters to \"my_answer\"\n",
    "    my_answer = my_answer + char*2\n",
    "    \n",
    "# Print the result\n",
    "print(my_answer)"
   ]
  },
  {
   "cell_type": "markdown",
   "metadata": {},
   "source": [
    "Write a cell that takes a string as input and prints the string, written in reverse. For example, if given the string \"coconut\" the cell would print \"tunococ\"."
   ]
  },
  {
   "cell_type": "code",
   "execution_count": 4,
   "metadata": {},
   "outputs": [
    {
     "name": "stdout",
     "output_type": "stream",
     "text": [
      "tunococ\n"
     ]
    }
   ],
   "source": [
    "# My test string\n",
    "my_string = \"coconut\"\n",
    "\n",
    "# Creating an empty string to add to inside a loop\n",
    "my_answer = \"\"\n",
    "\n",
    "# Loop over every character in the string\n",
    "for char in my_string:\n",
    "    \n",
    "    # Just add the old string to char every time through the loop to reverse it\n",
    "    # String addition is not commutative in Python! ( A + B != B + A)\n",
    "    my_answer = char + my_answer\n",
    "    \n",
    "# Print the answer\n",
    "print(my_answer)"
   ]
  },
  {
   "cell_type": "markdown",
   "metadata": {},
   "source": [
    "Write a cell that inserts the string \"c\" at a given location inside another string. For example, create an integer and initialize it to 3. Then insert \"c\" after the 3rd position of the string \"She sells seashells\".\n",
    "\n",
    "Your cell should produce the string \"Shec sells seashells\"."
   ]
  },
  {
   "cell_type": "code",
   "execution_count": 7,
   "metadata": {},
   "outputs": [
    {
     "name": "stdout",
     "output_type": "stream",
     "text": [
      "Shec sells seashells\n"
     ]
    }
   ],
   "source": [
    "# Keeping the same definitions\n",
    "character = \"c\"\n",
    "location = 3                            #change this to have some fun\n",
    "test_string = \"She sells seashells\"     #or change this for some more fun\n",
    "\n",
    "# Just use slicing\n",
    "# First slice takes up to \"location\"\n",
    "# Second slice takes everything after \"location\"\n",
    "test_string = test_string[:location] + character + test_string[location:]\n",
    "\n",
    "# And print our answer\n",
    "print(test_string)"
   ]
  },
  {
   "cell_type": "markdown",
   "metadata": {
    "collapsed": true
   },
   "source": [
    "## Advanced Problems"
   ]
  },
  {
   "cell_type": "markdown",
   "metadata": {},
   "source": [
    "*Numbers*: Write a cell that determines if a string contains any number (any of the following: 0, 1, 2, 3, 4, 5, 6, 7, 8, or 9)."
   ]
  },
  {
   "cell_type": "code",
   "execution_count": 8,
   "metadata": {},
   "outputs": [
    {
     "name": "stdout",
     "output_type": "stream",
     "text": [
      "Does the string contain a number?  True\n"
     ]
    }
   ],
   "source": [
    "# The test string\n",
    "the_string = \"The address is 584 West Street.\"\n",
    "\n",
    "# Create a string containing all the digits\n",
    "numbers = \"0123456789\"\n",
    "\n",
    "# Boolean variable to tell if a number was found\n",
    "answer = False\n",
    "\n",
    "# Loop\n",
    "for char in the_string:\n",
    "    \n",
    "    # Check if the variable 'char' is in the string \"numbers\"\n",
    "    if char in numbers:\n",
    "        \n",
    "        # Char is a number, therefor \"the_string\" contains a number\n",
    "        # Change answer to True\n",
    "        answer = True\n",
    "        \n",
    "# Print the answer\n",
    "print(\"Does the string contain a number? \", answer)"
   ]
  },
  {
   "cell_type": "markdown",
   "metadata": {},
   "source": [
    "*Vowels*: Write a cell that determines the index in a string of all the vowels. Do not consider \"y\" as a vowel for this."
   ]
  },
  {
   "cell_type": "code",
   "execution_count": 9,
   "metadata": {},
   "outputs": [
    {
     "name": "stdout",
     "output_type": "stream",
     "text": [
      "The vowels in \" Onomatopoeia is a thing. \" are located at\n",
      " [0, 2, 4, 6, 8, 9, 10, 11, 13, 16, 20]\n"
     ]
    }
   ],
   "source": [
    "# The test string\n",
    "the_string = \"Onomatopoeia is a thing.\"\n",
    "\n",
    "# Create a string containing all the vowels\n",
    "vowels = \"aeiouAEIOU\"\n",
    "\n",
    "# Variable to hold indexes of all vowels\n",
    "answer = []\n",
    "\n",
    "# Loop\n",
    "# range(n) creates a list of integers from 0\n",
    "# to the n, where n is the first number \n",
    "# excluded.\n",
    "for i in range(len(the_string)):\n",
    "    \n",
    "    # Check if the variable 'char' is in the string \"vowels\"\n",
    "    if the_string[i] in vowels:\n",
    "        \n",
    "        # Char is a number, therefor \"the_string\" contains a number\n",
    "        # Append the index to our answer\n",
    "        answer.append(i)\n",
    "        \n",
    "# Print the answer\n",
    "print(\"The vowels in \\\"\", the_string, \"\\\" are located at\\n\", answer)"
   ]
  },
  {
   "cell_type": "markdown",
   "metadata": {},
   "source": [
    "*Palindrome*:  \n",
    "From Wikipedia (https://en.wikipedia.org/wiki/Palindrome):  \n",
    "A palindrome is a word, phrase, number, or other sequence of characters which reads the same backward or forward. Allowances may be made for adjustments to capital letters, punctuation, and word dividers. Examples in English include \"A man, a plan, a canal, Panama!\", \"Amor, Roma\", \"race car\", \"stack cats\", \"step on no pets\", \"taco cat\", \"put it up\", \"Was it a car or a cat I saw?\" and \"No 'x' in Nixon\".\n",
    "  \n",
    "Write a cell that determines if a string is a palindrome. Make it case insensitive. Deal with punctuation as you choose (or not at all)."
   ]
  },
  {
   "cell_type": "code",
   "execution_count": 10,
   "metadata": {},
   "outputs": [
    {
     "name": "stdout",
     "output_type": "stream",
     "text": [
      "Is ' no x in nixon ' a palindrome? True\n"
     ]
    }
   ],
   "source": [
    "# I'm going to handle spaces\n",
    "\n",
    "# Note: This code IS case sensitive.\n",
    "\n",
    "# My test string\n",
    "my_string = \"no x in nixon\"\n",
    "\n",
    "# Saving the length of the string\n",
    "length = len(my_string)\n",
    "\n",
    "# Boolean variable to tell if the string\n",
    "# is a palindrome\n",
    "palindrome = True\n",
    "\n",
    "# Going to loop with 2 indices, so need 2 dummy variables\n",
    "i = 0                  # Starting one at zero (the left end)\n",
    "j = len(my_string)-1   # Starting at the end of the word (the right end)\n",
    "\n",
    "# Lets loop\n",
    "while i < length:\n",
    "\n",
    "    # Check if my_string[i] should be ignored\n",
    "    if my_string[i] == \" \":\n",
    "        \n",
    "        # Increment i to skip the thing we want to ignore\n",
    "        i = i + 1\n",
    "        \n",
    "    # Check if my_string[j] should be ignored\n",
    "    if my_string[j] == \" \":\n",
    "        \n",
    "        # Decrement j to skip the thing we want to ignore\n",
    "        j = j - 1\n",
    "\n",
    "    # Check if my_string[i] == my_string[j]\n",
    "    if my_string[i] == my_string[j]:\n",
    "        \n",
    "        # They are the same, so keep going by\n",
    "        # incrementing i and decrementing j\n",
    "        i = i + 1\n",
    "        j = j - 1\n",
    "    \n",
    "    else:\n",
    "        \n",
    "        # my_string[i] and my_string[j] are different\n",
    "        # So we don't have a palindrome. Set palindrome \n",
    "        # to False and break out of while loop\n",
    "        palindrome = False\n",
    "        break\n",
    "        \n",
    "# Print our answer\n",
    "print(\"Is \\'\", my_string, \"\\' a palindrome?\", palindrome)"
   ]
  },
  {
   "cell_type": "code",
   "execution_count": null,
   "metadata": {
    "collapsed": true
   },
   "outputs": [],
   "source": []
  }
 ],
 "metadata": {
  "kernelspec": {
   "display_name": "Python 3",
   "language": "python",
   "name": "python3"
  },
  "language_info": {
   "codemirror_mode": {
    "name": "ipython",
    "version": 3
   },
   "file_extension": ".py",
   "mimetype": "text/x-python",
   "name": "python",
   "nbconvert_exporter": "python",
   "pygments_lexer": "ipython3",
   "version": "3.6.1"
  }
 },
 "nbformat": 4,
 "nbformat_minor": 1
}
