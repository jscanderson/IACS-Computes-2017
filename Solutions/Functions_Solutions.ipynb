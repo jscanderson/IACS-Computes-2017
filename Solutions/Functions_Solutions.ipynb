{
 "cells": [
  {
   "cell_type": "markdown",
   "metadata": {
    "collapsed": true
   },
   "source": [
    "# Functions"
   ]
  },
  {
   "cell_type": "markdown",
   "metadata": {},
   "source": [
    "## Practice Problems"
   ]
  },
  {
   "cell_type": "markdown",
   "metadata": {},
   "source": [
    "Write a function that takes an integer n and prints the first n numbers."
   ]
  },
  {
   "cell_type": "code",
   "execution_count": 2,
   "metadata": {},
   "outputs": [],
   "source": [
    "# Name the function\n",
    "# It takes a variable \"n\" as input\n",
    "def print_integers(n):\n",
    "\n",
    "    # Always indent after you declare a function\n",
    "    # Going to use a while loop, so we need a \n",
    "    # dummy variable\n",
    "    i = 1\n",
    "    \n",
    "    # The input variable \"n\" can be assumed to \n",
    "    # already have a value in it. So lets use it\n",
    "    # in our while loop.\n",
    "    while i <= n:\n",
    "        \n",
    "        # Lets do what we wanted to do: print\n",
    "        print(i)\n",
    "        \n",
    "        # Always increment i\n",
    "        i = i + 1"
   ]
  },
  {
   "cell_type": "code",
   "execution_count": 5,
   "metadata": {},
   "outputs": [],
   "source": [
    "# This function will do the same as above, but\n",
    "# will print all the integers on a single line \n",
    "# by creating an emptry string and adding to \n",
    "# this string, then printing the string.\n",
    "\n",
    "# NOTE: This is very similar to how we would sum\n",
    "#       the first n numbers, but instead of adding\n",
    "#       to an integer variable, we are adding to a \n",
    "#       string variable\n",
    "\n",
    "# Name the function\n",
    "# It takes a variable \"n\" as input\n",
    "def print_integers_oneline(n):\n",
    "\n",
    "    # Always indent after you declare a function\n",
    "    # We need an emptry string, so lets create one\n",
    "    the_string = \"\" # Its 'empty' because there is nothing inside the quotes\n",
    "    \n",
    "    # Going to use a while loop, so we need a \n",
    "    # dummy variable\n",
    "    i = 1\n",
    "    \n",
    "    # The input variable \"n\" can be assumed to \n",
    "    # already have a value in it. So lets use it\n",
    "    # in our while loop.\n",
    "    while i <= n:\n",
    "        \n",
    "        # Lets do what we wanted to do: add the next integer\n",
    "        # and a space to the variable \"the_string\".\n",
    "        # We need to change the integer \"i\" to a string type \n",
    "        # by using the casting function of str(). We need to \n",
    "        # do this because Python doesn't know how to add an \n",
    "        # integer to a string, but it does know how to add\n",
    "        # a string to a string.\n",
    "        the_string = the_string + str(i) + \" \"\n",
    "        \n",
    "        # Always increment i\n",
    "        i = i + 1\n",
    "    \n",
    "    # We need to be outside our loop to make sure we only print\n",
    "    # the final, fully populated string\n",
    "    print(the_string)"
   ]
  },
  {
   "cell_type": "code",
   "execution_count": 6,
   "metadata": {},
   "outputs": [
    {
     "name": "stdout",
     "output_type": "stream",
     "text": [
      "1\n",
      "2\n",
      "3\n",
      "4\n",
      "5\n"
     ]
    }
   ],
   "source": [
    "# Testing my functions\n",
    "print_integers(5)"
   ]
  },
  {
   "cell_type": "code",
   "execution_count": 7,
   "metadata": {},
   "outputs": [
    {
     "name": "stdout",
     "output_type": "stream",
     "text": [
      "1 2 3 4 5 \n"
     ]
    }
   ],
   "source": [
    "# Testing the second function\n",
    "print_integers_oneline(5)"
   ]
  },
  {
   "cell_type": "markdown",
   "metadata": {},
   "source": [
    "Write a function that takes a string and counts how many vowels (a,e,i,o,u) are in the string. Return the result."
   ]
  },
  {
   "cell_type": "code",
   "execution_count": 8,
   "metadata": {
    "collapsed": true
   },
   "outputs": [],
   "source": [
    "# Name our function\n",
    "# Our function takes a variable called \"the_string\"\n",
    "# as input.\n",
    "def vowel_count(the_string):\n",
    "    \n",
    "    # Always indent after a function definition\n",
    "    # Lets define a string that contains all the vowels we are looking for.\n",
    "    # Lets include capital letters so we can be case-insensitive\n",
    "    vowels = \"aeiouAEIOU\"\n",
    "    \n",
    "    # We will need to check each letter of \"the_string\" to see if its a vowel,\n",
    "    # which means we will need to know how long \"the_string\" is. Python has the\n",
    "    # handy function len() for that.\n",
    "    length = len(the_string)\n",
    "    \n",
    "    # We also need to keep count of how many vowels we find, so lets create\n",
    "    # an integer variable and give it the value zero so we can add to it when\n",
    "    # we do find a vowel\n",
    "    count = 0\n",
    "    \n",
    "    # While loops require a dummy variable\n",
    "    i = 0\n",
    "    \n",
    "    # Now lets loop over the letters of \"the_string\"\n",
    "    while i < length:\n",
    "        \n",
    "        # Check if the i^th character in the_string is a vowel\n",
    "        if the_string[i] in vowels:\n",
    "            \n",
    "            # If we get here, then we found a vowel and we need\n",
    "            # to add 1 to count\n",
    "            count = count + 1\n",
    "        \n",
    "        # Always increment i\n",
    "        # We want this to line up with the \"if\" statement above\n",
    "        # to avoid an infinte loop (if its indented under the \"if\"\n",
    "        # Python will include it in the \"if\" block of code)\n",
    "        i = i + 1\n",
    "        \n",
    "    # We need to return our count\n",
    "    # Make sure this lines up with the \"while\" above\n",
    "    return count\n",
    "        "
   ]
  },
  {
   "cell_type": "code",
   "execution_count": 9,
   "metadata": {},
   "outputs": [
    {
     "data": {
      "text/plain": [
       "4"
      ]
     },
     "execution_count": 9,
     "metadata": {},
     "output_type": "execute_result"
    }
   ],
   "source": [
    "# Testing vowel_count\n",
    "# Make sure to give the function a string (put the \"\" around \n",
    "# the word you pass to the function)\n",
    "vowel_count(\"Tennessee\")"
   ]
  },
  {
   "cell_type": "markdown",
   "metadata": {},
   "source": [
    "Write a function that takes a list of strings and concatenates every string to the strings in front of it in the list. For example, the list [\"cat\", \"dog\", \"fox\",\"pig\"] would return [\"cat\",\"catdog\",\"catdogfox\",\"catdogfoxpig\"]"
   ]
  },
  {
   "cell_type": "code",
   "execution_count": 10,
   "metadata": {
    "collapsed": true
   },
   "outputs": [],
   "source": [
    "# Name the function\n",
    "# Our function takes a variable named \"the_list\" as input\n",
    "def funny_string_concatenations(the_list):\n",
    "    \n",
    "    # We are going to return a new list, so lets make an empty list\n",
    "    # that we can add to as we go.\n",
    "    new_list = [] # Its empty because there's nothing between the []\n",
    "    \n",
    "    # We are going to loop every element of \"the_list\", so we should \n",
    "    # find out how long \"the_list\" is by using len()\n",
    "    length = len(the_list)\n",
    "    \n",
    "    # We are going to use a while loop, so we need a dummy variable\n",
    "    i = 0\n",
    "    \n",
    "    # Lets loop\n",
    "    while i < length:\n",
    "        \n",
    "        # Always indent after a while statement\n",
    "        # We will need to create an emptry string that will be the sum of all the \n",
    "        # previous strings in our list\n",
    "        funny_string = \"\" # Once again, empty because there's nothing inside the quotation marks\n",
    "        \n",
    "        # We need another loop, which means another dummy variable\n",
    "        j = 0\n",
    "        \n",
    "        # Lets loop over all previous entries of \"the_list\" and add them together\n",
    "        # This is <= because we want to always run at least once (the case when i=0)\n",
    "        while j <= i:\n",
    "            \n",
    "            # Always indent after a while statement\n",
    "            # We need to add the j^th element of \"the_list\" to the string \n",
    "            # variable \"funny_string\" \n",
    "            funny_string = funny_string + the_list[j]\n",
    "            \n",
    "            # Always increment j\n",
    "            j = j + 1\n",
    "        \n",
    "        # Align this with the \"while j\" loop, as we we want this code to \n",
    "        # execute after the \"while j\" loop finishes. We want to add the  \n",
    "        # completed \"funny_string\" variable to our \"new_list\"\n",
    "        new_list.append(funny_string)\n",
    "        \n",
    "        # Always increment i\n",
    "        i = i + 1\n",
    "        \n",
    "    # Align this with the \"while i\" loop, as we want this code to execute\n",
    "    # only after the \"while i\" loop is done\n",
    "    # Return the \"new_list\"\n",
    "    return new_list\n",
    "            "
   ]
  },
  {
   "cell_type": "code",
   "execution_count": 11,
   "metadata": {},
   "outputs": [
    {
     "data": {
      "text/plain": [
       "['cat', 'catdog', 'catdogfox', 'catdogfoxpig']"
      ]
     },
     "execution_count": 11,
     "metadata": {},
     "output_type": "execute_result"
    }
   ],
   "source": [
    "# Testing funny_string_concatenations\n",
    "funny_string_concatenations( [\"cat\", \"dog\", \"fox\",\"pig\"])"
   ]
  },
  {
   "cell_type": "markdown",
   "metadata": {},
   "source": [
    "Write a function that takes an integer and returns True if that number is prime, and False if it isn't. Recall that a number is prime if it can only be divided by 1 and itself. 1 is not considered a prime number, but 2 is."
   ]
  },
  {
   "cell_type": "code",
   "execution_count": 12,
   "metadata": {
    "collapsed": true
   },
   "outputs": [],
   "source": [
    "import math # We need the square root function from this library\n",
    "\n",
    "# Name our function\n",
    "# Our function takes a variable \"n\" as input\n",
    "def isprime(n):\n",
    "    \n",
    "    # Always indent after a function definition\n",
    "    # We know that if \"n\" has the value 1, we don't\n",
    "    # need to do any work, we can quickly return False\n",
    "    # since 1 is not prime.\n",
    "    if n == 1:\n",
    "        # Always indent after an \"if\"\n",
    "        # If we get here, we are asking the question\n",
    "        # \"Is 1 prime?\" The answer is no.\n",
    "        return False\n",
    "    \n",
    "    # If we get here, then n>1, and we need to check if\n",
    "    # it has any divisors that are less than n.\n",
    "    # We will use a while loop, so we need a dummy variable\n",
    "    i = 2\n",
    "    \n",
    "    # The largest number we need to check for divisibility\n",
    "    # is the square root of n (as all other diviors would be paired\n",
    "    # with a number less than the square)\n",
    "    while i <= math.sqrt(n):\n",
    "        \n",
    "        # Always indent after a \"while\"\n",
    "        # Check if i divides n\n",
    "        if n % i == 0:\n",
    "            \n",
    "            # Always indent after an \"if\"\n",
    "            # If we got here, then i divides n\n",
    "            # which means n is not prime.\n",
    "            return False\n",
    "        \n",
    "        # Align this with the \"if\" above\n",
    "        # Always increment i\n",
    "        i = i + 1\n",
    "        \n",
    "    # Align this with the above while\n",
    "    # If we get here, then n is prime\n",
    "    return True"
   ]
  },
  {
   "cell_type": "code",
   "execution_count": 13,
   "metadata": {},
   "outputs": [
    {
     "name": "stdout",
     "output_type": "stream",
     "text": [
      "Is 5 prime?   True\n",
      "Is 6 prime?   False\n",
      "Is 23 prime?  True\n",
      "Is 25 prime?  False\n"
     ]
    }
   ],
   "source": [
    "# Testing isPrime()\n",
    "print(\"Is 5 prime?  \", isprime(5))\n",
    "print(\"Is 6 prime?  \", isprime(6))\n",
    "print(\"Is 23 prime? \", isprime(23))\n",
    "print(\"Is 25 prime? \", isprime(25))"
   ]
  },
  {
   "cell_type": "markdown",
   "metadata": {},
   "source": [
    "Write a function that takes an integer and returns a list of all integers that divide that number evenly. In other words, it finds all the possible factors of the input number."
   ]
  },
  {
   "cell_type": "code",
   "execution_count": 14,
   "metadata": {
    "collapsed": true
   },
   "outputs": [],
   "source": [
    "# Name the function \"factorize\"\n",
    "# The function takes as input some variable \"n\"\n",
    "def factorize(n):\n",
    "    \n",
    "    # Always indent after a function declaration\n",
    "    # We will be returning a list, so lets make \n",
    "    # an empty one now to store our answers\n",
    "    answer = []\n",
    "    \n",
    "    # We will be looping, so we need \n",
    "    # a dummy variable\n",
    "    i = 1\n",
    "    \n",
    "    # Lets loop over all integers between 1 and \"n\"\n",
    "    # (including \"n\", hence <=)\n",
    "    while i <= n:\n",
    "        \n",
    "        # Always indent after a while\n",
    "        # Check i is a divisor of n\n",
    "        if n % i == 0:\n",
    "            \n",
    "            # Always indent after an \"if\"\n",
    "            # If we get here, i divides n\n",
    "            # so add it to our list\n",
    "            answer.append(i)\n",
    "            \n",
    "        # Align this with the \"if\" above\n",
    "        # Always increment i\n",
    "        i = i + 1\n",
    "        \n",
    "    # Align this with the \"while\" above\n",
    "    # Return the answer\n",
    "    return answer"
   ]
  },
  {
   "cell_type": "code",
   "execution_count": 15,
   "metadata": {},
   "outputs": [
    {
     "name": "stdout",
     "output_type": "stream",
     "text": [
      "Factors of 11:  [1, 11]\n",
      "Factors of 30:  [1, 2, 3, 5, 6, 10, 15, 30]\n"
     ]
    }
   ],
   "source": [
    "# Testing factorize\n",
    "print(\"Factors of 11: \", factorize(11))\n",
    "print(\"Factors of 30: \", factorize(30))"
   ]
  },
  {
   "cell_type": "markdown",
   "metadata": {},
   "source": [
    "## Advanced Problems"
   ]
  },
  {
   "cell_type": "markdown",
   "metadata": {},
   "source": [
    "Write a function that takes a starting point a (a float), and ending point b (a float), and a number of points n (an int). This function outputs a list of n points on the real line starting with a and ending with b. For example, given the inputs 0,1,11, the output is [0, 0.1, 0.2, 0.3, 0.4, 0.5, 0.6, 0.7, 0.8, 0.9, 1.0]"
   ]
  },
  {
   "cell_type": "code",
   "execution_count": 16,
   "metadata": {
    "collapsed": true
   },
   "outputs": [],
   "source": [
    "# Name our function linspace\n",
    "# Our function takes as inputs three variables\n",
    "# named \"a\", \"b\", and \"n\". \n",
    "def linspace(a,b,n):\n",
    "    \n",
    "    # We will need to calculate the distance between\n",
    "    # any two points. You can reason out what it \n",
    "    # should be, but the code below this will be\n",
    "    # the end result.\n",
    "    # Casting one of them as a float to make\n",
    "    # sure we don't have integer division\n",
    "    dx = (float(b)-a)/(n-1)\n",
    "    \n",
    "    # Create a list that initially only contains the \n",
    "    # the value of the variable \"a\"\n",
    "    grid = [a]\n",
    "    \n",
    "    # We will loop, so we need a dummy variable\n",
    "    # Start the dummy at 1 since we included 1\n",
    "    # point already (\"a\")\n",
    "    i = 1\n",
    "    \n",
    "    # Lets loop\n",
    "    # We want n points, and we already included\n",
    "    # a point at the value of \"a\", so this will give \n",
    "    # us \"n\" total points, and should end with the value\n",
    "    # of \"b\"\n",
    "    while i < n:\n",
    "        \n",
    "        # Always indent under a while\n",
    "        # Append to grid the value of the previous entry\n",
    "        # plus dx\n",
    "        grid.append( grid[i-1] + dx )\n",
    "        \n",
    "        # Always increment \"i\"\n",
    "        i = i + 1\n",
    "        \n",
    "    # Align this with the above \"while\"\n",
    "    return grid"
   ]
  },
  {
   "cell_type": "code",
   "execution_count": 17,
   "metadata": {},
   "outputs": [
    {
     "data": {
      "text/plain": [
       "[0,\n",
       " 0.1111111111111111,\n",
       " 0.2222222222222222,\n",
       " 0.3333333333333333,\n",
       " 0.4444444444444444,\n",
       " 0.5555555555555556,\n",
       " 0.6666666666666667,\n",
       " 0.7777777777777779,\n",
       " 0.8888888888888891,\n",
       " 1.0000000000000002]"
      ]
     },
     "execution_count": 17,
     "metadata": {},
     "output_type": "execute_result"
    }
   ],
   "source": [
    "# Testing linspace\n",
    "linspace(0,1,10)\n",
    "\n",
    "# The results are not exact because we are working\n",
    "# in finite precision (all computers work with \n",
    "# finite precision)"
   ]
  },
  {
   "cell_type": "markdown",
   "metadata": {},
   "source": [
    "Write a function that takes an integer and returns a list containing the prime factorization of that number. (hint: You can use some of the functions you wrote above in this notebook to make life easier)"
   ]
  },
  {
   "cell_type": "code",
   "execution_count": 18,
   "metadata": {
    "collapsed": true
   },
   "outputs": [],
   "source": [
    "# Name the function\n",
    "# The function takes a variable \"n\" as input\n",
    "def primefactorize(n):\n",
    "    \n",
    "    # The idea is we will take the number \"m\",\n",
    "    # and start searching for a prime divisor \n",
    "    # starting at 2 and going up from there.\n",
    "    # When we find a prime divisor, we will add\n",
    "    # that prime number to our list and divide \n",
    "    # \"m\" by that prime and store that result in\n",
    "    # \"m\", then repeat until \"m\" has value 1.\n",
    "    \n",
    "    # Create \"m\"\n",
    "    m = n\n",
    "    \n",
    "    # We need a blank list to store the prime\n",
    "    # factors\n",
    "    answer = []\n",
    "    \n",
    "    # We are going to loop, but we don't need a \n",
    "    # dummy variable, as we already know when we \n",
    "    # want to stop (when \"m\" = 1), so we only \n",
    "    # need to check for that condition each \n",
    "    # iteration.\n",
    "    while m != 1:\n",
    "        \n",
    "        # Always indent under a \"while\"\n",
    "        # We need to loop over all values between\n",
    "        # 1 and m (inclusive. We do need a dummy\n",
    "        # for this one\n",
    "        i = 1\n",
    "        while i <= m:\n",
    "            \n",
    "            # Always indent under a \"while\"\n",
    "            # Now to check if \"i\" is prime AND\n",
    "            # \"i\" divides \"m\" \n",
    "            if isprime(i) and m%i==0:\n",
    "                \n",
    "                # If we get here, \"i\" is a prime\n",
    "                # divisor of \"m\", so add it to the\n",
    "                # list\n",
    "                answer.append(i)\n",
    "                \n",
    "                # We need to divide \"m\" by \"i\" and\n",
    "                # store the new value inside \"m\" as\n",
    "                # per the algorithm outlined above\n",
    "                m = m/i\n",
    "                \n",
    "                # We are done with the current while\n",
    "                # loop (started at line 32), so we can\n",
    "                # safely exit this loop using a \"break\"\n",
    "                # statement. A \"break\" statement will exit\n",
    "                # the closest \"while\" or \"for\" loop, and \n",
    "                # only that loop. For example, here we have\n",
    "                # two \"while\" loops, lines 25 and 32. The\n",
    "                # \"break\" here will only exit the closer\n",
    "                # \"while\", which is line 32.\n",
    "                break\n",
    "                \n",
    "            # Align this with the if above\n",
    "            # Always increment i\n",
    "            i = i + 1\n",
    "                \n",
    "    # Align this with the \"while\" above (line 25)\n",
    "    # We're done, so return the answer\n",
    "    return answer"
   ]
  },
  {
   "cell_type": "code",
   "execution_count": 19,
   "metadata": {},
   "outputs": [
    {
     "name": "stdout",
     "output_type": "stream",
     "text": [
      "Prime factorization of 2 is:  [2]\n",
      "Prime factorization of 8 is:  [2, 2, 2]\n",
      "Prime factorization of 10 is:  [2, 5]\n",
      "Prime factorization of 24 is:  [2, 2, 2, 3]\n",
      "Prime factorization of 25 is:  [5, 5]\n",
      "Prime factorization of 255 is:  [3, 5, 17]\n",
      "Prime factorization of 485760 is:  [2, 2, 2, 2, 2, 2, 2, 3, 5, 11, 23]\n"
     ]
    }
   ],
   "source": [
    "# Testing primefactorize\n",
    "print(\"Prime factorization of 2 is: \", primefactorize(2))\n",
    "print(\"Prime factorization of 8 is: \", primefactorize(8))\n",
    "print(\"Prime factorization of 10 is: \", primefactorize(10))\n",
    "print(\"Prime factorization of 24 is: \", primefactorize(24))\n",
    "print(\"Prime factorization of 25 is: \", primefactorize(25))\n",
    "print(\"Prime factorization of 255 is: \", primefactorize(255))\n",
    "print(\"Prime factorization of 485760 is: \", primefactorize(485760))"
   ]
  },
  {
   "cell_type": "code",
   "execution_count": null,
   "metadata": {
    "collapsed": true
   },
   "outputs": [],
   "source": []
  }
 ],
 "metadata": {
  "kernelspec": {
   "display_name": "Python 3",
   "language": "python",
   "name": "python3"
  },
  "language_info": {
   "codemirror_mode": {
    "name": "ipython",
    "version": 3
   },
   "file_extension": ".py",
   "mimetype": "text/x-python",
   "name": "python",
   "nbconvert_exporter": "python",
   "pygments_lexer": "ipython3",
   "version": "3.6.1"
  }
 },
 "nbformat": 4,
 "nbformat_minor": 1
}
