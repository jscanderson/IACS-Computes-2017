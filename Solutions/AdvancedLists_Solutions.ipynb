{
 "cells": [
  {
   "cell_type": "markdown",
   "metadata": {},
   "source": [
    "# Practice Problems "
   ]
  },
  {
   "cell_type": "markdown",
   "metadata": {},
   "source": [
    "From Wikipedia (https://en.wikipedia.org/wiki/Pascal%27s_triangle):\n",
    "\n",
    "\"In mathematics, Pascal's triangle is a triangular array of the binomial coefficients. In the Western world, it is named after French mathematician Blaise Pascal, although other mathematicians studied it centuries before him in India, Persia (Iran), China, Germany, and Italy.\"\n",
    "\n",
    "\"The rows of Pascal's triangle (sequence A007318 in OEIS) are conventionally enumerated starting with row n = 0 at the top (the 0th row). The entries in each row are numbered from the left beginning with k = 0 and are usually staggered relative to the numbers in the adjacent rows. Having the indices of both rows and columns start at zero makes it possible to state that the binomial coefficient ${\\displaystyle {\\tbinom {n}{k}}}$  appears in the nth row and kth column of Pascal's triangle. A simple construction of the triangle proceeds in the following manner: In row 0, the topmost row, the entry is ${\\displaystyle {\\tbinom {0}{0}}=1}$  (the entry is in the zeroth row and zeroth column). Then, to construct the elements of the following rows, add the number above and to the left with the number above and to the right of a given position to find the new value to place in that position. If either the number to the right or left is not present, substitute a zero in its place. For example, the initial number in the first (or any other) row is 1 (the sum of 0 and 1), whereas the numbers 1 and 3 in the third row are added to produce the number 4 in the fourth row.\"\n",
    "\n",
    "Create a multidimensional list that, when printed, displays Pascal's triangle to the nth level."
   ]
  },
  {
   "cell_type": "code",
   "execution_count": 63,
   "metadata": {
    "collapsed": true
   },
   "outputs": [],
   "source": [
    "def create_pascals_triangle(n):\n",
    "\n",
    "    # Just because we can, and we should\n",
    "    assert(n > 0)\n",
    "    \n",
    "    # base answer\n",
    "    answer = [[1]]\n",
    "    \n",
    "    # all other rows\n",
    "    for i in range(1,n):\n",
    "        \n",
    "        # Need to make the next row to be added\n",
    "        next_row = [1]\n",
    "        \n",
    "        # Add in correct values to next_row\n",
    "        for j in range(1,i+1):\n",
    "            \n",
    "            # Element (i,j) = (i-1,j-1) + (i-1,j)\n",
    "            # If element doesn't exist, substitute zero\n",
    "            try:\n",
    "                left = answer[i-1][j-1]\n",
    "            except:\n",
    "                left = 0\n",
    "            try:\n",
    "                right = answer[i-1][j]\n",
    "            except:\n",
    "                right = 0\n",
    "            \n",
    "            next_row.append(left + right)\n",
    "        \n",
    "        # Save next_row\n",
    "        answer.append(next_row) \n",
    "\n",
    "    return answer"
   ]
  },
  {
   "cell_type": "code",
   "execution_count": 64,
   "metadata": {},
   "outputs": [
    {
     "name": "stdout",
     "output_type": "stream",
     "text": [
      "[1]\n",
      "[1, 1]\n",
      "[1, 2, 1]\n",
      "[1, 3, 3, 1]\n",
      "[1, 4, 6, 4, 1]\n"
     ]
    }
   ],
   "source": [
    "for line in create_pascals_triangle(5):\n",
    "    print(line)"
   ]
  },
  {
   "cell_type": "markdown",
   "metadata": {},
   "source": [
    "The following problem comes from projecteuler.net, and can be efficiently solved using some list comprehension:\n",
    "\n",
    "If we list all the natural numbers below 10 that are multiples of 3 or 5, we 3,5,6, and 9. The sum of these multiples is 23. Find the sum of all the multiples of 3 or 5 below 1000."
   ]
  },
  {
   "cell_type": "code",
   "execution_count": 5,
   "metadata": {},
   "outputs": [
    {
     "name": "stdout",
     "output_type": "stream",
     "text": [
      "233168\n"
     ]
    }
   ],
   "source": [
    "print(sum([x for x in range(1000) if x % 3 == 0 or x % 5 == 0]))"
   ]
  },
  {
   "cell_type": "markdown",
   "metadata": {},
   "source": [
    "# Advanced Problem "
   ]
  },
  {
   "cell_type": "markdown",
   "metadata": {},
   "source": [
    "The following problem comes from projecteuler.net. There's no *need* for list comprehension in this problem, but know that there *is* a way to do this problem in a single line using list comprehension.\n",
    "\n",
    "A palindromic number reads the same both ways. The largest palindrome made from the product of two 2-digit numbers is 9009 = 91 x 99. Find the largest palindrome made from the product of two 3-digit numbers."
   ]
  },
  {
   "cell_type": "code",
   "execution_count": 2,
   "metadata": {},
   "outputs": [
    {
     "name": "stdout",
     "output_type": "stream",
     "text": [
      "906609\n"
     ]
    }
   ],
   "source": [
    "print(max([x*y for x in range(100,1000) for y in range(100,1000) if str(x*y) == str(x*y)[::-1]]))"
   ]
  }
 ],
 "metadata": {
  "kernelspec": {
   "display_name": "Python 3",
   "language": "python",
   "name": "python3"
  },
  "language_info": {
   "codemirror_mode": {
    "name": "ipython",
    "version": 3
   },
   "file_extension": ".py",
   "mimetype": "text/x-python",
   "name": "python",
   "nbconvert_exporter": "python",
   "pygments_lexer": "ipython3",
   "version": "3.6.1"
  }
 },
 "nbformat": 4,
 "nbformat_minor": 2
}
