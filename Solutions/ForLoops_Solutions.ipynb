{
 "cells": [
  {
   "cell_type": "markdown",
   "metadata": {},
   "source": [
    "# For Loops"
   ]
  },
  {
   "cell_type": "markdown",
   "metadata": {
    "collapsed": true
   },
   "source": [
    "## Practice Problems"
   ]
  },
  {
   "cell_type": "markdown",
   "metadata": {},
   "source": [
    "Write a function that takes a list of names (as strings), and prints \"Hello \\_\\_\\_\\_\\_\\_!\" for each name in the list."
   ]
  },
  {
   "cell_type": "code",
   "execution_count": 5,
   "metadata": {},
   "outputs": [
    {
     "name": "stdout",
     "output_type": "stream",
     "text": [
      "Hello Billy !\n",
      "Hello Matthew !\n",
      "Hello Shannon !\n",
      "Hello Kristen !\n",
      "Hello Taylor !\n",
      "\n",
      "\n",
      "Hello Billy!\n",
      "Hello Matthew!\n",
      "Hello Shannon!\n",
      "Hello Kristen!\n",
      "Hello Taylor!\n"
     ]
    }
   ],
   "source": [
    "namelist = [\"Billy\",\"Matthew\",\"Shannon\",\"Kristen\",\"Taylor\"]\n",
    "    \n",
    "for name in namelist:\n",
    "    # Each time through the loop, name takes\n",
    "    # as its value the next element of mylist\n",
    "    print(\"Hello\", name, \"!\")\n",
    "    \n",
    "print(\"\\n\")\n",
    "    \n",
    "# Alternatively\n",
    "for name in namelist:\n",
    "    print(\"Hello {}!\".format(name))"
   ]
  },
  {
   "cell_type": "markdown",
   "metadata": {},
   "source": [
    "Write a function called ChangeLetter that takes three inputs: a string of any length (named mystring, for example), and two more strings, each of length one (named a and b, for example). This function returns mystring, but with all instances of a replaced with b.\n",
    "\n",
    "For example, ChangeLetter(\"peter piper\",\"p\",\"g\") should return \"geter giger\"."
   ]
  },
  {
   "cell_type": "code",
   "execution_count": 6,
   "metadata": {},
   "outputs": [
    {
     "name": "stdout",
     "output_type": "stream",
     "text": [
      "geter giger\n"
     ]
    }
   ],
   "source": [
    "mystring = \"peter piper\"\n",
    "first_letter = \"p\"\n",
    "second_letter = \"g\"\n",
    "\n",
    "# Loop over each letter in mystring\n",
    "for i in range(len(mystring)):\n",
    "        \n",
    "    # letter will be each character \n",
    "    # in mystring (one per iteration)\n",
    "    if mystring[i] == first_letter:\n",
    "        mystring = mystring[:i] + second_letter + mystring[i+1:]\n",
    "        \n",
    "# Print the new string\n",
    "print(mystring)"
   ]
  },
  {
   "cell_type": "markdown",
   "metadata": {},
   "source": [
    "In the practice problems for the Lists module, we wrote a cell that added together all of the numbers in a list of numbers. You probably used a while loop to do this. Write a new cell that does it with a for loop."
   ]
  },
  {
   "cell_type": "code",
   "execution_count": 8,
   "metadata": {},
   "outputs": [
    {
     "name": "stdout",
     "output_type": "stream",
     "text": [
      "55.0\n"
     ]
    }
   ],
   "source": [
    "# Test list\n",
    "test_list = [1,2,3,4,5,6,7,8,9,10]\n",
    "\n",
    "# Sum variable intialized outside the loop\n",
    "my_sum = 0.0\n",
    "    \n",
    "# Loop over every element of the_list\n",
    "for number in test_list:\n",
    "\n",
    "    # Add the number to my_sum\n",
    "    my_sum += number\n",
    "        \n",
    "# Return the sum\n",
    "print(my_sum)"
   ]
  },
  {
   "cell_type": "markdown",
   "metadata": {},
   "source": [
    "Write a function that takes a string as input and returns True if the string is a palindrome and False if it is not. Use a for loop."
   ]
  },
  {
   "cell_type": "code",
   "execution_count": 10,
   "metadata": {},
   "outputs": [
    {
     "name": "stdout",
     "output_type": "stream",
     "text": [
      "Is noxinnixon a palindrome? True\n"
     ]
    }
   ],
   "source": [
    "import string\n",
    "\n",
    "# Test string\n",
    "the_string = \"no 'x' in nixon\"\n",
    "\n",
    "\n",
    "'''\n",
    "    I made this handle spaces and puncutation using the string function\n",
    "    replace() (import string and check the help on replace() - its \n",
    "    basically a search and replace). I also used a common, built in\n",
    "    string from the string library - the puncutation string. You can call\n",
    "    it with string.puncutation like I do in line 19.\n",
    "'''\n",
    "    \n",
    "# Need to pull whitespace out of the the_string\n",
    "the_string = the_string.replace(\" \", \"\")\n",
    "    \n",
    "# Get rid of punctuation\n",
    "for c in string.punctuation:\n",
    "    the_string = the_string.replace(c, \"\")\n",
    "    \n",
    "# Get the length of the string\n",
    "n = len(the_string)\n",
    "    \n",
    "# Boolean to let us know the outcome of the comparisons\n",
    "is_palindrome = True\n",
    "    \n",
    "# Loop until we've checked everything\n",
    "for i in range(n): \n",
    "        \n",
    "    # Check if letters match\n",
    "    if the_string[i] != the_string[n-i-1]:\n",
    "        # They don't, so we're done\n",
    "        is_palindrome = \"False\"\n",
    "        break\n",
    "    \n",
    "print(\"Is\", the_string, \"a palindrome?\", is_palindrome)"
   ]
  },
  {
   "cell_type": "markdown",
   "metadata": {},
   "source": [
    "## Advanced Problems"
   ]
  },
  {
   "cell_type": "markdown",
   "metadata": {},
   "source": [
    "*Minimum*: Write a function that takes a list of numbers as input and returns the *index* of the smallest (most negative) number in the list. For example, given the list [4,7,-5,9,1,-2,6,4], the function would return 2."
   ]
  },
  {
   "cell_type": "code",
   "execution_count": 18,
   "metadata": {},
   "outputs": [
    {
     "name": "stdout",
     "output_type": "stream",
     "text": [
      "2\n",
      "2\n"
     ]
    }
   ],
   "source": [
    "numlist = [4,7,-5,9,1,-2,6,4]\n",
    "\n",
    "#outputs the index of the most negative element in the list. If there \n",
    "#are multiple occurences of the same number in the list, outputs the first occurrence.\n",
    "min_index = 0 #assumes the list is non-empty, which may be a problem\n",
    "\n",
    "for i in range(1,len(numlist)):\n",
    "    if numlist[i] < numlist[min_index]:\n",
    "        min_index = i\n",
    "        \n",
    "print(min_index)\n",
    "\n",
    "#using built in functions\n",
    "print(numlist.index(min(numlist))) #min find the lowest number, and mylist.index() finds the first index of that number"
   ]
  },
  {
   "cell_type": "markdown",
   "metadata": {},
   "source": [
    "*Sorting*: Write a function that takes a list of numbers as input and returns a new list that contains the same numbers, but in increasing order (from least to greatest). If you did the problem above, then you can use that function in your solution to this problem. Otherwise, you can use the .index() and min() functions, as demonstrated in the example below:"
   ]
  },
  {
   "cell_type": "code",
   "execution_count": 23,
   "metadata": {},
   "outputs": [
    {
     "name": "stdout",
     "output_type": "stream",
     "text": [
      "[-5, -2, 1, 4, 4, 6, 7, 9]\n"
     ]
    }
   ],
   "source": [
    "# Test list\n",
    "number_list = [4,7,-5,9,1,-2,6,4]\n",
    "\n",
    "newlist = []\n",
    "n = len(number_list)\n",
    "\n",
    "for i in range(n): #This will fix the empty-list problem in findmin\n",
    "    j = number_list.index(min(number_list))\n",
    "    newlist.append(number_list[j])\n",
    "    number_list = number_list[:j] + number_list[j+1:]\n",
    "    i = i + 1\n",
    "\n",
    "print(newlist)"
   ]
  },
  {
   "cell_type": "code",
   "execution_count": null,
   "metadata": {
    "collapsed": true
   },
   "outputs": [],
   "source": []
  }
 ],
 "metadata": {
  "kernelspec": {
   "display_name": "Python 3",
   "language": "python",
   "name": "python3"
  },
  "language_info": {
   "codemirror_mode": {
    "name": "ipython",
    "version": 3
   },
   "file_extension": ".py",
   "mimetype": "text/x-python",
   "name": "python",
   "nbconvert_exporter": "python",
   "pygments_lexer": "ipython3",
   "version": "3.6.1"
  }
 },
 "nbformat": 4,
 "nbformat_minor": 1
}
