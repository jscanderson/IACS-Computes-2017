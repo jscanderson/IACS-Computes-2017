{
 "cells": [
  {
   "cell_type": "markdown",
   "metadata": {},
   "source": [
    "# Lists"
   ]
  },
  {
   "cell_type": "markdown",
   "metadata": {
    "collapsed": true
   },
   "source": [
    "## Practice Problems"
   ]
  },
  {
   "cell_type": "markdown",
   "metadata": {},
   "source": [
    "Write a cell that creates a list that contains 5 seperate entries with value 1. (That is, the list has length 5 and every entry has value 1.)"
   ]
  },
  {
   "cell_type": "code",
   "execution_count": 1,
   "metadata": {
    "collapsed": true
   },
   "outputs": [],
   "source": [
    "my_list = [1,1,1,1,1]"
   ]
  },
  {
   "cell_type": "markdown",
   "metadata": {},
   "source": [
    "Write a cell that creates a list containing the first 17 odd numbers."
   ]
  },
  {
   "cell_type": "code",
   "execution_count": 2,
   "metadata": {},
   "outputs": [
    {
     "name": "stdout",
     "output_type": "stream",
     "text": [
      "[1, 3, 5, 7, 9, 11, 13, 15, 17, 19, 21, 23, 25, 27, 29, 31, 33]\n"
     ]
    }
   ],
   "source": [
    "# Create an empty list\n",
    "odd_list = []\n",
    "\n",
    "# Dummy variable\n",
    "i = 1\n",
    "\n",
    "# Loop 17 times\n",
    "while i <= 17:\n",
    "    # Do what we need to do\n",
    "    # by appending to the list\n",
    "    odd_list.append(2*i-1)\n",
    "    \n",
    "    # Increment i\n",
    "    i = i + 1\n",
    "    \n",
    "# Print our answer\n",
    "print(odd_list)"
   ]
  },
  {
   "cell_type": "markdown",
   "metadata": {},
   "source": [
    "Write a cell that creates a list of all multiples of 5 less than 100."
   ]
  },
  {
   "cell_type": "code",
   "execution_count": 3,
   "metadata": {},
   "outputs": [
    {
     "name": "stdout",
     "output_type": "stream",
     "text": [
      "[5, 10, 15, 20, 25, 30, 35, 40, 45, 50, 55, 60, 65, 70, 75, 80, 85, 90, 95]\n"
     ]
    }
   ],
   "source": [
    "# Create an empty list\n",
    "multiples = []\n",
    "\n",
    "# Dummy variable (for indexing)\n",
    "i = 5\n",
    "\n",
    "# I want to loop while i < 100\n",
    "while i < 100:\n",
    "    # add multiple of 5 to the list\n",
    "    multiples.append(i)\n",
    "    # need to increment by 5\n",
    "    i = i + 5\n",
    "\n",
    "print(multiples)"
   ]
  },
  {
   "cell_type": "markdown",
   "metadata": {},
   "source": [
    "Write a cell that sums all the entries of a list."
   ]
  },
  {
   "cell_type": "code",
   "execution_count": 4,
   "metadata": {},
   "outputs": [
    {
     "name": "stdout",
     "output_type": "stream",
     "text": [
      "55\n"
     ]
    }
   ],
   "source": [
    "# create a list of numbers for testing\n",
    "alist = [1,2,3,4,5,6,7,8,9,10]\n",
    "\n",
    "# Create a variable that holds the sum, initialize to zero\n",
    "mysum = 0\n",
    "\n",
    "# We are going to need the length of the list\n",
    "size = len(alist)\n",
    "\n",
    "# Dummy variable for indexing the list\n",
    "i = 0\n",
    "\n",
    "while i < size:\n",
    "    # add current value to mysum\n",
    "    mysum = mysum + alist[i]\n",
    "    # increment i\n",
    "    i = i + 1\n",
    "\n",
    "# Now print ... should be 55\n",
    "print(mysum)"
   ]
  },
  {
   "cell_type": "markdown",
   "metadata": {},
   "source": [
    "Write a cell that calculates the average of a list of numbers."
   ]
  },
  {
   "cell_type": "code",
   "execution_count": 5,
   "metadata": {},
   "outputs": [
    {
     "name": "stdout",
     "output_type": "stream",
     "text": [
      "5.5\n"
     ]
    }
   ],
   "source": [
    "# create a list of numbers for testing\n",
    "alist = [1,2,3,4,5,6,7,8,9,10]\n",
    "\n",
    "# Create a variable that holds the sum, initialize to zero\n",
    "mysum = 0.0 #initialize to a float here so that I can have a fractional number at the end\n",
    "\n",
    "# We are going to need the length of the list\n",
    "size = len(alist)\n",
    "\n",
    "# Dummy variable for indexing the list\n",
    "i = 0\n",
    "\n",
    "while i < size:\n",
    "    # add current value to mysum\n",
    "    mysum = mysum + alist[i]\n",
    "    # increment i\n",
    "    i = i + 1\n",
    "\n",
    "#Divide by the length of the list to find the average\n",
    "avg = mysum / size\n",
    "\n",
    "# Now print ... should be 5.5\n",
    "print(avg)"
   ]
  },
  {
   "cell_type": "markdown",
   "metadata": {},
   "source": [
    "Write a cell that copies all numbers from the given list below that are not multiples of 2 and puts them in a new list. (hint: This can be done using a loop with a conditional)."
   ]
  },
  {
   "cell_type": "code",
   "execution_count": 6,
   "metadata": {},
   "outputs": [
    {
     "name": "stdout",
     "output_type": "stream",
     "text": [
      "[1, 9, 25, 49, 81]\n"
     ]
    }
   ],
   "source": [
    "first_list = [ 1, 4, 9, 16, 25, 36, 49, 64, 81, 100]\n",
    "\n",
    "# Get size of list\n",
    "size = len(first_list)\n",
    "\n",
    "# Dummy variable \n",
    "i = 0\n",
    "\n",
    "# Create empty second list\n",
    "second_list = []\n",
    "\n",
    "while i < size:\n",
    "    # if odd add to the list\n",
    "    if first_list[i] % 2 == 1:\n",
    "        second_list.append(first_list[i])\n",
    "    # Increment index\n",
    "    i = i + 1\n",
    "        \n",
    "# Print result\n",
    "print(second_list)"
   ]
  },
  {
   "cell_type": "markdown",
   "metadata": {},
   "source": [
    "## Advanced Problems"
   ]
  },
  {
   "cell_type": "markdown",
   "metadata": {},
   "source": [
    "*Standard Deviation*: Write a cell that calculates the standard deviation of a list of numbers. The formula for the standard deviation is  \n",
    "  \n",
    "$$ \\sigma = \\sqrt{\\frac{1}{N-1} \\sum_{i = 1}^N(x_i - \\bar{x})^2}$$  \n",
    "  \n",
    "where $N$ is the number of elements in the list, $x_i$ is a particular element of the list, and $\\bar{x}$ is the average of the list of numbers. (hint: you will need to calculate the average first).\n",
    "\n",
    "Test your code on the given list. The answer is approximately 31.23."
   ]
  },
  {
   "cell_type": "code",
   "execution_count": 7,
   "metadata": {},
   "outputs": [
    {
     "name": "stdout",
     "output_type": "stream",
     "text": [
      "55.01161493519144\n"
     ]
    }
   ],
   "source": [
    "import math\n",
    "test_list = [7, 39, 2, 56, 98, 74, 34, 17, 56, 88, 66, 0, 56, 34]\n",
    "\n",
    "# We need to compute the average first (I just copied the code from above \n",
    "# and made the appropriate changes)\n",
    "\n",
    "# Create a variable that holds the sum, initialize to zero\n",
    "mysum = 0.0 #initialize to a float here so that I can have a fractional number at the end\n",
    "\n",
    "# We are going to need the length of the list\n",
    "size = len(alist)\n",
    "\n",
    "# Dummy variable for indexing the list\n",
    "i = 0\n",
    "\n",
    "while i < size:\n",
    "    # add current value to mysum\n",
    "    mysum = mysum + alist[i]\n",
    "    # increment i\n",
    "    i = i + 1\n",
    "\n",
    "#Divide by the length of the list to find the average\n",
    "avg = mysum / size\n",
    "\n",
    "# Set my dummy variable back to zero so we can use it again for a loop\n",
    "i = 0\n",
    "\n",
    "# Create a variable that holds the sum for the standard deviation\n",
    "mysum2 = 0\n",
    "\n",
    "while i < size:\n",
    "    # add current value's \"squared difference\" to mysum\n",
    "    mysum2 = mysum2 + (test_list[i]-avg)**2\n",
    "    # increment i\n",
    "    i = i + 1\n",
    "\n",
    "#Now that we have the sum, complete the formula\n",
    "stddev = math.sqrt((1.0/(size-1))*mysum2)\n",
    "\n",
    "print(stddev)"
   ]
  },
  {
   "cell_type": "markdown",
   "metadata": {},
   "source": [
    "*Median*: Write a cell that calculates the median of a list of numbers. The answer for test_list is 47.5."
   ]
  },
  {
   "cell_type": "code",
   "execution_count": 9,
   "metadata": {},
   "outputs": [
    {
     "name": "stdout",
     "output_type": "stream",
     "text": [
      "47.5\n"
     ]
    }
   ],
   "source": [
    "test_list = [7, 39, 2, 56, 98, 74, 34, 17, 56, 88, 66, 0, 56, 34]\n",
    "\n",
    "# There are a lot of ways to calculate the median.\n",
    "#This solution will start by sorting the list, then\n",
    "#finding the median is easy.\n",
    "\n",
    "#First, sort the list\n",
    "\n",
    "#Create a copy of the given list so we can edit it but retain the initial list\n",
    "temp_list = test_list\n",
    "\n",
    "#create an empty list to store the sorted list\n",
    "sorted_list = []\n",
    "\n",
    "#Loops over the list and repeatedly find the smallest element, \n",
    "#store it in a new list, and delete it from the temporary list\n",
    "i = 0 #dumm variable\n",
    "size = len(test_list) #so we know how many times to loop\n",
    "while i < size:\n",
    "    \n",
    "    #intiialize a minimum value. Use the temporary list, and\n",
    "    #initialize it to the first element of the list\n",
    "    min_num = temp_list[0]\n",
    "    \n",
    "    #keep track of the index of the minimum number. Right now, it's 0\n",
    "    min_index = 0\n",
    "    \n",
    "    #loop through and find the minimum\n",
    "    j = 0 #dummy variable\n",
    "    while j < len(temp_list):\n",
    "        \n",
    "        if temp_list[j] < min_num:\n",
    "            #we have a new minimum, so make the necessary changes\n",
    "            min_num = temp_list[j]\n",
    "            min_index = j\n",
    "        \n",
    "        #increment j\n",
    "        j = j + 1\n",
    "    \n",
    "    #now that we know the minimum number, we do the following:\n",
    "    #add it to our sorted list\n",
    "    sorted_list.append(temp_list[min_index])\n",
    "    #delete that elemtent from temp_list\n",
    "    del temp_list[min_index]\n",
    "    \n",
    "    #increment i\n",
    "    i = i + 1\n",
    "    \n",
    "#Now we have a sorted list, so we do the following to find the median:\n",
    "#If the length of the list is odd, then we can find the median immediately:\n",
    "if size % 2 == 1:\n",
    "    print(sorted_list[size/2]) #we want the (size/2+1)th element, but subtract 1 because Python starts counting at 0\n",
    "else:\n",
    "    #otherwise, we have an even number of elements, so we average the middle 2 to get the median\n",
    "    print((sorted_list[size//2-1]+sorted_list[size//2])/2.0)"
   ]
  },
  {
   "cell_type": "markdown",
   "metadata": {},
   "source": [
    "*Mode*: Write a cell that calculates the mode of a list of numbers. The answer for test_list is 56."
   ]
  },
  {
   "cell_type": "code",
   "execution_count": 10,
   "metadata": {},
   "outputs": [
    {
     "name": "stdout",
     "output_type": "stream",
     "text": [
      "[56]\n"
     ]
    }
   ],
   "source": [
    "test_list = [7, 39, 2, 56, 98, 74, 34, 17, 56, 88, 66, 0, 56, 34]\n",
    "\n",
    "#The mode is the number that appears the most times\n",
    "#Let's walk down the list and count how many times each number appears.\n",
    "#We'll do some extra work because we'll be counting every number,\n",
    "#But that's OK.\n",
    "\n",
    "#It's OK to be inefficient at first, as long as the code works\n",
    "\n",
    "#Because the mode can have multiple values, initialize it as a list\n",
    "mode = []\n",
    "\n",
    "#This next number will keep track of how many times the mode occurs\n",
    "mode_count = 0\n",
    "\n",
    "#get the size of the list\n",
    "size = len(test_list)\n",
    "\n",
    "#dummy variable for the first loop\n",
    "i = 0\n",
    "\n",
    "#this loop will examine each number in the list\n",
    "while i < size:\n",
    "    \n",
    "    #start counting how many times test_list[i] appears\n",
    "\n",
    "    count = 0\n",
    "    \n",
    "    #new dummy variable for the second loop,\n",
    "    #which counts how many times the test_list[i] appears\n",
    "    #starting the dummy variable at i cuts our work in half, and prevents\n",
    "    #finding the same mode multiple times\n",
    "    j = i\n",
    "    #if this doesn't makes sense to you, try setting j=0 and see what happens\n",
    "    \n",
    "    #Loop inside the current loop to count how many times test_list[i] appears\n",
    "    while j < size:\n",
    "        if test_list[i] == test_list[j]:\n",
    "            #we found a match, so increment the count\n",
    "            count = count + 1\n",
    "        \n",
    "        #incrememnt j\n",
    "        j = j + 1\n",
    "    \n",
    "    #Now that we know how many times test_list[i] occurs (it's in count)\n",
    "    #we can check to see if it's the mode\n",
    "    if count > mode_count:\n",
    "        #we have a new mode, so make the necessary changes\n",
    "        mode = [test_list[i]] #a list containing the new mode\n",
    "        mode_count = count\n",
    "    elif count == mode_count:\n",
    "        #we've tied the current mode, so we now have multiple answers\n",
    "        mode.append(test_list[i])\n",
    "    #No need for an else statement, since if count < mode_count, we do nothing\n",
    "\n",
    "    #increment i\n",
    "    i = i + 1\n",
    "\n",
    "    \n",
    "#print the result\n",
    "print(mode)"
   ]
  },
  {
   "cell_type": "code",
   "execution_count": null,
   "metadata": {
    "collapsed": true
   },
   "outputs": [],
   "source": []
  }
 ],
 "metadata": {
  "anaconda-cloud": {},
  "kernelspec": {
   "display_name": "Python 3",
   "language": "python",
   "name": "python3"
  },
  "language_info": {
   "codemirror_mode": {
    "name": "ipython",
    "version": 3
   },
   "file_extension": ".py",
   "mimetype": "text/x-python",
   "name": "python",
   "nbconvert_exporter": "python",
   "pygments_lexer": "ipython3",
   "version": "3.6.1"
  }
 },
 "nbformat": 4,
 "nbformat_minor": 1
}
