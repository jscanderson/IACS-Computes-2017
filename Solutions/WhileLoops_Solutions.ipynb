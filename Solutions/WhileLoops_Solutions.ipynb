{
 "cells": [
  {
   "cell_type": "markdown",
   "metadata": {
    "collapsed": true
   },
   "source": [
    "# While Loops"
   ]
  },
  {
   "cell_type": "markdown",
   "metadata": {},
   "source": [
    "## Practice Problems "
   ]
  },
  {
   "cell_type": "markdown",
   "metadata": {},
   "source": [
    "Write a loop to print the first 10 natural numbers (The numbers 1 through 10)."
   ]
  },
  {
   "cell_type": "code",
   "execution_count": 1,
   "metadata": {},
   "outputs": [
    {
     "name": "stdout",
     "output_type": "stream",
     "text": [
      "1\n",
      "2\n",
      "3\n",
      "4\n",
      "5\n",
      "6\n",
      "7\n",
      "8\n",
      "9\n",
      "10\n"
     ]
    }
   ],
   "source": [
    "i = 1\n",
    "while i <= 10:\n",
    "    print(i)\n",
    "    i = i + 1"
   ]
  },
  {
   "cell_type": "markdown",
   "metadata": {},
   "source": [
    "Write a loop print the first 10 natural numbers in descending order. (Print 10, then 9, then 8...)"
   ]
  },
  {
   "cell_type": "code",
   "execution_count": 2,
   "metadata": {},
   "outputs": [
    {
     "name": "stdout",
     "output_type": "stream",
     "text": [
      "10\n",
      "9\n",
      "8\n",
      "7\n",
      "6\n",
      "5\n",
      "4\n",
      "3\n",
      "2\n",
      "1\n"
     ]
    }
   ],
   "source": [
    "# Just start the dummy counter at 10\n",
    "i = 10\n",
    "\n",
    "# Use a greater than or equal to instead of a less than\n",
    "while i >= 1:\n",
    "    print(i)\n",
    "    \n",
    "    # And instead of adding, subtract 1 each time\n",
    "    i = i - 1"
   ]
  },
  {
   "cell_type": "markdown",
   "metadata": {},
   "source": [
    "Write a loop to print the even numbers between 20 and 50."
   ]
  },
  {
   "cell_type": "code",
   "execution_count": 3,
   "metadata": {},
   "outputs": [
    {
     "name": "stdout",
     "output_type": "stream",
     "text": [
      "20\n",
      "22\n",
      "24\n",
      "26\n",
      "28\n",
      "30\n",
      "32\n",
      "34\n",
      "36\n",
      "38\n",
      "40\n",
      "42\n",
      "44\n",
      "46\n",
      "48\n",
      "50\n"
     ]
    }
   ],
   "source": [
    "# Start dummy variable at 20\n",
    "i = 20\n",
    "\n",
    "# Loop until we hit 50\n",
    "while i <= 50:\n",
    "    # Do what we need  to do\n",
    "    print(i)\n",
    "    \n",
    "    # Increment i by two so that it stays even\n",
    "    i = i + 2"
   ]
  },
  {
   "cell_type": "markdown",
   "metadata": {},
   "source": [
    "Write a loop to print the odd numbers between 17 and 67."
   ]
  },
  {
   "cell_type": "code",
   "execution_count": 4,
   "metadata": {},
   "outputs": [
    {
     "name": "stdout",
     "output_type": "stream",
     "text": [
      "17\n",
      "19\n",
      "21\n",
      "23\n",
      "25\n",
      "27\n",
      "29\n",
      "31\n",
      "33\n",
      "35\n",
      "37\n",
      "39\n",
      "41\n",
      "43\n",
      "45\n",
      "47\n",
      "49\n",
      "51\n",
      "53\n",
      "55\n",
      "57\n",
      "59\n",
      "61\n",
      "63\n",
      "65\n",
      "67\n"
     ]
    }
   ],
   "source": [
    "# Start i at 17\n",
    "i = 17\n",
    "\n",
    "# Loop until 67\n",
    "while i <= 67:\n",
    "    # Do what we need to do\n",
    "    print(i)\n",
    "    \n",
    "    # Increase i by 2 so that it stays odd\n",
    "    i = i + 2\n",
    "    "
   ]
  },
  {
   "cell_type": "markdown",
   "metadata": {},
   "source": [
    "Write a loop to print the first 11 multiples of the number 3 (start with 0). So your loop should print 0, 3, 6, ..."
   ]
  },
  {
   "cell_type": "code",
   "execution_count": 5,
   "metadata": {},
   "outputs": [
    {
     "name": "stdout",
     "output_type": "stream",
     "text": [
      "0\n",
      "3\n",
      "6\n",
      "9\n",
      "12\n",
      "15\n",
      "18\n",
      "21\n",
      "24\n",
      "27\n",
      "30\n"
     ]
    }
   ],
   "source": [
    "i = 0\n",
    "\n",
    "# Do this 11 times\n",
    "while i < 11:\n",
    "    # Do what we need to do\n",
    "    print(i*3)\n",
    "    \n",
    "    # Increment i\n",
    "    i = i + 1"
   ]
  },
  {
   "cell_type": "markdown",
   "metadata": {},
   "source": [
    "Write a loop to sum the numbers 1 through 10. (Hint: Create a variable named \"sum\" outside the loop with initial value of 0, and add to it inside the loop.) To make sure your code works: the answer is 55."
   ]
  },
  {
   "cell_type": "code",
   "execution_count": 6,
   "metadata": {},
   "outputs": [
    {
     "name": "stdout",
     "output_type": "stream",
     "text": [
      "45\n"
     ]
    }
   ],
   "source": [
    "# Create a variable to hold the sum\n",
    "my_sum = 0\n",
    "\n",
    "# Dummy variable, started at 1 since sum starts at 1\n",
    "# (Could start at zero, but adding zero to something doesn't change it)\n",
    "i = 1\n",
    "\n",
    "# Loop 10 times\n",
    "while i < 10:\n",
    "    # Add to my_sum\n",
    "    my_sum = my_sum + i\n",
    "    \n",
    "    # Increment i\n",
    "    i = i + 1\n",
    "    \n",
    "# Print the answer\n",
    "print(my_sum)"
   ]
  },
  {
   "cell_type": "markdown",
   "metadata": {},
   "source": [
    "This pattern of summing a list of numbers (or multiplying and or dividing) is VERY common in practical programming. It is important that this pattern becomes familiar to you, as it will be used a lot."
   ]
  },
  {
   "cell_type": "markdown",
   "metadata": {},
   "source": [
    "Write a loop to calculate the product of the first 5 numbers. (Hint: The answer is 120. This is also known as the factorial function. This code should be very similar to the loop that sums the first 10 numbers.)"
   ]
  },
  {
   "cell_type": "code",
   "execution_count": 7,
   "metadata": {},
   "outputs": [
    {
     "name": "stdout",
     "output_type": "stream",
     "text": [
      "120\n"
     ]
    }
   ],
   "source": [
    "# Create a variable to hold the product\n",
    "my_product = 1\n",
    "\n",
    "# Dummy variable, starts at 1\n",
    "i = 1\n",
    "\n",
    "# Loop 10 times\n",
    "while i <= 5:\n",
    "    # Multiply by next i\n",
    "    my_product = my_product * i\n",
    "    \n",
    "    # Increment i\n",
    "    i = i + 1\n",
    "    \n",
    "# Print the answer\n",
    "print(my_product)"
   ]
  },
  {
   "cell_type": "markdown",
   "metadata": {},
   "source": [
    "## Advanced Practice Problems"
   ]
  },
  {
   "cell_type": "markdown",
   "metadata": {},
   "source": [
    "** Divisors **  \n",
    "Write some code to print out each pair of divisors of a number."
   ]
  },
  {
   "cell_type": "code",
   "execution_count": 9,
   "metadata": {},
   "outputs": [
    {
     "name": "stdout",
     "output_type": "stream",
     "text": [
      "1 * 100 = 100\n",
      "2 * 50 = 100\n",
      "4 * 25 = 100\n",
      "5 * 20 = 100\n"
     ]
    }
   ],
   "source": [
    "import math # We need this to use the sqrt() function\n",
    "\n",
    "# Number to find the divisors of\n",
    "the_number = 100\n",
    "\n",
    "# Dummy variable\n",
    "i = 1\n",
    "\n",
    "# Loop until we hit the middle value (sqrt of the_number)\n",
    "while i < math.sqrt(the_number):\n",
    "    \n",
    "    # Check if i is a divisor of the_number\n",
    "    if the_number % i == 0:\n",
    "        \n",
    "        # If we got here, then i is a divisor so print it out \n",
    "        # Made it look *pretty*\n",
    "        print(i, \"*\", the_number // i, \"=\", the_number)\n",
    "        \n",
    "    # Always increment i\n",
    "    i = i + 1"
   ]
  },
  {
   "cell_type": "markdown",
   "metadata": {},
   "source": [
    "**Growing Numbers**  \n",
    "Write a cell that when executed prints the numbers from 1 to n (a variable that you create), but prints each number that number of times (i.e. the number 1 gets printed once, the number 2 gets printed twice, the number 3 get printed 3 times, and so on)."
   ]
  },
  {
   "cell_type": "code",
   "execution_count": 10,
   "metadata": {},
   "outputs": [
    {
     "name": "stdout",
     "output_type": "stream",
     "text": [
      "1\n",
      "2\n",
      "2\n",
      "3\n",
      "3\n",
      "3\n"
     ]
    }
   ],
   "source": [
    "# The number\n",
    "n = 3\n",
    "\n",
    "# Dummy variable\n",
    "i = 1\n",
    "\n",
    "# Loop until we hit the max number\n",
    "while i <= n:\n",
    "    \n",
    "    # Second dummy variable for second loop\n",
    "    j = 1\n",
    "    \n",
    "    # Loop until we hit the dummy variable\n",
    "    # As the dummy variable needs to be printed the \n",
    "    # dummy variable number of times\n",
    "    while j <= i:\n",
    "        # Do what you need to do\n",
    "        print(i)\n",
    "        \n",
    "        # Always increment j\n",
    "        j = j + 1\n",
    "        \n",
    "    # Always increment i\n",
    "    i = i + 1"
   ]
  },
  {
   "cell_type": "markdown",
   "metadata": {},
   "source": [
    "**Series**  \n",
    "\n",
    "*Part One*: One cool thing that loops will let you do is quickly calculate very long sums, especially if there's some pattern that you can follow to find each term in the sum. For example, here's a simple sum:\n",
    "\n",
    "$$ 1 + 2 + 3 + \\dots + n$$\n",
    "\n",
    "This sum simply adds up all of the natural numbers from 1 to n. In the practice problems above, you wrote a loop that can calculate this sum for n=10. Generalize this code so that it works for any positive integer n.\n",
    "\n",
    "*Part Two*: Once you have that sum working, modify your code to try these sums:\n",
    "\n",
    "$$1 + \\frac{1}{2} + \\frac{1}{4} + \\frac{1}{8} + \\dots + \\frac{1}{2^n}$$\n",
    "\n",
    "or\n",
    "\n",
    "$$1 - \\frac{1}{2} + \\frac{1}{3} - \\frac{1}{4} + \\frac{1}{5} - \\dots + \\frac{(-1)^{n+1}}{n} $$"
   ]
  },
  {
   "cell_type": "code",
   "execution_count": 11,
   "metadata": {},
   "outputs": [
    {
     "name": "stdout",
     "output_type": "stream",
     "text": [
      "55\n"
     ]
    }
   ],
   "source": [
    "# PART ONE\n",
    "\n",
    "# Amount of numbers we want to add together\n",
    "number_of_terms = 10\n",
    "\n",
    "# Create a variable to hold the sum\n",
    "my_sum = 0\n",
    "\n",
    "# Dummy variable, started at 1 since sum starts at 1\n",
    "# (Could start at zero, but adding zero to something doesn't change it)\n",
    "i = 1\n",
    "\n",
    "# Loop number_of_terms times\n",
    "while i <= number_of_terms:\n",
    "    # Add to my_sum\n",
    "    my_sum = my_sum + i\n",
    "    \n",
    "    # Increment i\n",
    "    i = i + 1\n",
    "    \n",
    "# Print the answer\n",
    "print(my_sum)"
   ]
  },
  {
   "cell_type": "code",
   "execution_count": 12,
   "metadata": {},
   "outputs": [
    {
     "name": "stdout",
     "output_type": "stream",
     "text": [
      "1.9999999701976776\n"
     ]
    }
   ],
   "source": [
    "# PART TWO A\n",
    "\n",
    "# Amount of numbers we want to add together\n",
    "number_of_terms = 25\n",
    "\n",
    "# Create a variable to hold the sum\n",
    "my_sum = 0\n",
    "\n",
    "# Dummy variable, started at 1 since sum starts at 1\n",
    "# (Could start at zero, but adding zero to something doesn't change it)\n",
    "i = 0\n",
    "\n",
    "# Loop number_of_terms times\n",
    "while i <= number_of_terms:\n",
    "    # Add to my_sum the next term of the series\n",
    "    my_sum = my_sum + 1.0/(2**i)\n",
    "    \n",
    "    # Increment i\n",
    "    i = i + 1\n",
    "    \n",
    "# Print the answer\n",
    "print(my_sum)"
   ]
  },
  {
   "cell_type": "code",
   "execution_count": 13,
   "metadata": {},
   "outputs": [
    {
     "name": "stdout",
     "output_type": "stream",
     "text": [
      "1.691151180527946\n"
     ]
    }
   ],
   "source": [
    "# PART TWO B\n",
    "\n",
    "# Amount of numbers we want to add together\n",
    "number_of_terms = 250\n",
    "\n",
    "# Create a variable to hold the sum\n",
    "my_sum = 1\n",
    "\n",
    "# Dummy variable, started at 1 since sum starts at 1\n",
    "# (Could start at zero, but adding zero to something doesn't change it)\n",
    "i = 1\n",
    "\n",
    "# Loop number_of_terms times\n",
    "while i <= number_of_terms:\n",
    "    # Add to my_sum the next term of the series\n",
    "    my_sum = my_sum + (-1.0)**(i+1)/i\n",
    "    \n",
    "    # Increment i\n",
    "    i = i + 1\n",
    "    \n",
    "# Print the answer\n",
    "print(my_sum)"
   ]
  },
  {
   "cell_type": "code",
   "execution_count": null,
   "metadata": {
    "collapsed": true
   },
   "outputs": [],
   "source": []
  }
 ],
 "metadata": {
  "kernelspec": {
   "display_name": "Python 3",
   "language": "python",
   "name": "python3"
  },
  "language_info": {
   "codemirror_mode": {
    "name": "ipython",
    "version": 3
   },
   "file_extension": ".py",
   "mimetype": "text/x-python",
   "name": "python",
   "nbconvert_exporter": "python",
   "pygments_lexer": "ipython3",
   "version": "3.6.1"
  }
 },
 "nbformat": 4,
 "nbformat_minor": 1
}
