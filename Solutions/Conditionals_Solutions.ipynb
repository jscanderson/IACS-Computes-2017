{
 "cells": [
  {
   "cell_type": "markdown",
   "metadata": {},
   "source": [
    "# Conditionals"
   ]
  },
  {
   "cell_type": "markdown",
   "metadata": {
    "collapsed": true
   },
   "source": [
    "## Practice Problems "
   ]
  },
  {
   "cell_type": "markdown",
   "metadata": {},
   "source": [
    "Write a cell that creates an variable containing an integer between 10 and 99. If it's less than 50, add 25 to it and print the result. Otherwise, just print the number."
   ]
  },
  {
   "cell_type": "code",
   "execution_count": 3,
   "metadata": {},
   "outputs": [
    {
     "name": "stdout",
     "output_type": "stream",
     "text": [
      "77\n"
     ]
    }
   ],
   "source": [
    "my_number = 77\n",
    "\n",
    "if my_number < 50:\n",
    "    my_number = my_number + 25\n",
    "    print(my_number)\n",
    "else:\n",
    "    print(my_number)"
   ]
  },
  {
   "cell_type": "markdown",
   "metadata": {},
   "source": [
    "Write a cell that creates a variable containing an integer that's either 1, 2, or 3. Write an if -> elif -> else statement that will print the word corresponding to that integer. For example, if that integer is 1, this cell should print the word \"one.\""
   ]
  },
  {
   "cell_type": "code",
   "execution_count": 4,
   "metadata": {},
   "outputs": [
    {
     "name": "stdout",
     "output_type": "stream",
     "text": [
      "three\n"
     ]
    }
   ],
   "source": [
    "number = 3\n",
    "\n",
    "if number == 1:\n",
    "    print(\"one\")\n",
    "elif number == 2:\n",
    "    print(\"two\")\n",
    "else:\n",
    "    print(\"three\")"
   ]
  },
  {
   "cell_type": "markdown",
   "metadata": {},
   "source": [
    "Write a cell that creates a variables and stores an integer there. Then have this cell look at the integer variable and print \"Even\" if the number is even or \"Odd\" if the number is odd. (If you want to make your program more robust, you can have it print an error message if it receives a non-integer)"
   ]
  },
  {
   "cell_type": "code",
   "execution_count": 5,
   "metadata": {},
   "outputs": [
    {
     "name": "stdout",
     "output_type": "stream",
     "text": [
      "Odd\n"
     ]
    }
   ],
   "source": [
    "my_number = 33\n",
    "\n",
    "if my_number % 2 == 0:\n",
    "    print(\"Even\")\n",
    "else:\n",
    "    print(\"Odd\")"
   ]
  },
  {
   "cell_type": "markdown",
   "metadata": {},
   "source": [
    "## Advanced Problem"
   ]
  },
  {
   "cell_type": "markdown",
   "metadata": {},
   "source": [
    "Write a cell that checks for the kind of solution a given quadratic will have (2 real solutions? 1 solution? no real solutions?). Print the solutions if there are any, and print an error message if there are no real solutions. If there is only one solution, print that solution only once. Try it on a handful of different quadratics to make sure each case works appropriately.\n",
    "\n",
    "*hint* You can use the discriminant $\\Delta$ to determine the number of real solutions a quadratic will have. Recalling the formula for a quadratic equation we saw earlier (in the variables notebook), the discriminant is given by:\n",
    "\n",
    "$$\n",
    "\\Delta = b^2-4ac\n",
    "$$\n",
    "$$\n",
    "\\begin{array}{c | c }\n",
    "   \\mbox{Condition} &  \\mbox{Number of Real Solutions}\\\\\n",
    "   \\hline\n",
    "   \\Delta > 0 & \\mbox{2 Real Solutions} \\\\\n",
    "   \\Delta = 0 & \\mbox{1 Real Solution} \\\\\n",
    "   \\Delta < 0 & \\mbox{No Real Solutions}\n",
    "\\end{array}\n",
    "$$"
   ]
  },
  {
   "cell_type": "code",
   "execution_count": 6,
   "metadata": {},
   "outputs": [
    {
     "name": "stdout",
     "output_type": "stream",
     "text": [
      "-0.34668806854096257 -8.653311931459037\n"
     ]
    }
   ],
   "source": [
    "from math import sqrt\n",
    "\n",
    "a = 1\n",
    "b = 9\n",
    "c = 3\n",
    "\n",
    "delta = b**2 - 4*a*c\n",
    "\n",
    "if delta > 0:\n",
    "    x1 = (-b + math.sqrt(delta))/(2.0*a)\n",
    "    x2 = (-b - math.sqrt(delta))/(2.0*a)\n",
    "    print(x1, x2)\n",
    "elif delta == 0:\n",
    "    x1 = -b/(2.0*a)\n",
    "    print(x1)\n",
    "else:\n",
    "    print(\"No real solutions\")"
   ]
  },
  {
   "cell_type": "code",
   "execution_count": null,
   "metadata": {
    "collapsed": true
   },
   "outputs": [],
   "source": []
  }
 ],
 "metadata": {
  "kernelspec": {
   "display_name": "Python 3",
   "language": "python",
   "name": "python3"
  },
  "language_info": {
   "codemirror_mode": {
    "name": "ipython",
    "version": 3
   },
   "file_extension": ".py",
   "mimetype": "text/x-python",
   "name": "python",
   "nbconvert_exporter": "python",
   "pygments_lexer": "ipython3",
   "version": "3.6.1"
  }
 },
 "nbformat": 4,
 "nbformat_minor": 1
}
