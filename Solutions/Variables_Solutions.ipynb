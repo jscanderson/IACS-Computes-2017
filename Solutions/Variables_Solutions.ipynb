{
 "cells": [
  {
   "cell_type": "markdown",
   "metadata": {},
   "source": [
    "# Variables"
   ]
  },
  {
   "cell_type": "markdown",
   "metadata": {},
   "source": [
    "Up until now, we've been doing everything directly, in a single line of the input box. But more often than not, this isn't the best way to do things. It's in these cases that we want to be able to define variables, and then use them later. Here's an example where we're calculating the area of a rectangle:"
   ]
  },
  {
   "cell_type": "code",
   "execution_count": 1,
   "metadata": {
    "collapsed": false
   },
   "outputs": [
    {
     "data": {
      "text/plain": [
       "84"
      ]
     },
     "execution_count": 1,
     "metadata": {},
     "output_type": "execute_result"
    }
   ],
   "source": [
    "length = 7\n",
    "width = 12\n",
    "length*width"
   ]
  },
  {
   "cell_type": "markdown",
   "metadata": {},
   "source": [
    "The use of variables gives us a lot of advantages when coding!\n",
    "\n",
    "The first is readability. As you continue to code, you'll soon be reading programs written by other people (or your past self!). It's way more useful to know what each number is if the person gave that number a name. The example written above is a fair example. Anyone reading that code will know that 7 is the length of something and 12 is the width. To be even more informative, we could even write it like this:"
   ]
  },
  {
   "cell_type": "code",
   "execution_count": 2,
   "metadata": {
    "collapsed": false
   },
   "outputs": [
    {
     "name": "stdout",
     "output_type": "stream",
     "text": [
      "84\n"
     ]
    }
   ],
   "source": [
    "length = 7\n",
    "width = 12\n",
    "area = length*width\n",
    "print area"
   ]
  },
  {
   "cell_type": "markdown",
   "metadata": {},
   "source": [
    "Now anyone reading our code knows that we wanted to calculate an area.\n",
    "\n",
    "Another advantage of variables is that it allows us to use the same quantity in more than one place. Let's think back to algebra, when we were trying to solve quadratic equations, such as:\n",
    "\n",
    "$$2x^2+x-1=0$$\n",
    "\n",
    "This is a generalization of the quadratic equation\n",
    "\n",
    "$$ax^2+bx+c=0$$\n",
    "\n",
    "Which has solutions found using the well-known formula\n",
    "\n",
    "$$x = \\frac{-b \\pm \\sqrt{b^2 - 4ac}}{2a}$$\n",
    "\n",
    "Let's write some code that can find x for us."
   ]
  },
  {
   "cell_type": "code",
   "execution_count": 3,
   "metadata": {
    "collapsed": false
   },
   "outputs": [
    {
     "name": "stdout",
     "output_type": "stream",
     "text": [
      "0.5 -1.0\n"
     ]
    }
   ],
   "source": [
    "import math #We'll learn that this line of code does later\n",
    "a=2\n",
    "b=1\n",
    "c=-1\n",
    "\n",
    "x1 = (-b+math.sqrt(b**2-4*a*c))/(2*a)\n",
    "x2 = (-b-math.sqrt(b**2-4*a*c))/(2*a)\n",
    "\n",
    "print x1, x2"
   ]
  },
  {
   "cell_type": "markdown",
   "metadata": {},
   "source": [
    "In the above example, if we wanted to solve a different equation, say the following:\n",
    "\n",
    "$$x^2+6x-27=0$$\n",
    "\n",
    "We can easily just change the values of a, b, and c, and then hit shift+enter. Python does the rest for us! Without variables, we would have to retype those long formulas all over again, or at least go through and change all of the values by hand!"
   ]
  },
  {
   "cell_type": "markdown",
   "metadata": {},
   "source": [
    "Now let's take a closer look at some of the things we just did. We've been using the \"=\" to assign variables. This is called the assignment operator, and the way it's used is pretty important. In math, the purpose of the equal sign is a statement that two quantities are the same, which usually gives us some information to solve a problem. However, in programming, this is not the case. The assignment operator (=) is used to tell the computer to *do* something. When we use the assignment operator, we're telling the computer to take whatever is on the right-hand side of the equals sign, and put it in whatever is on the left. Therefore, the left- and right-hand sides of the equal sign are not the same in programming! In the quadratic example above, the computer created a variable called a, and then stored the value of 2 in a. It then did similarly for b, c, x1, and x2. Let's do some more examples:"
   ]
  },
  {
   "cell_type": "code",
   "execution_count": 4,
   "metadata": {
    "collapsed": false
   },
   "outputs": [
    {
     "name": "stdout",
     "output_type": "stream",
     "text": [
      "1.5\n"
     ]
    }
   ],
   "source": [
    "price = 1.50\n",
    "print price"
   ]
  },
  {
   "cell_type": "code",
   "execution_count": 5,
   "metadata": {
    "collapsed": false
   },
   "outputs": [
    {
     "name": "stdout",
     "output_type": "stream",
     "text": [
      "1.75\n"
     ]
    }
   ],
   "source": [
    "price = 1.75\n",
    "print price"
   ]
  },
  {
   "cell_type": "markdown",
   "metadata": {},
   "source": [
    "So the equals sign is spefically giving an instruction to the computer: \"Create a variable with this name, and store this value on the right-hand-side in that variable.\" What if we want to *check* the equality of two things? The way we do this in Python is with *two* equals signs together, like in the examples below:"
   ]
  },
  {
   "cell_type": "code",
   "execution_count": 6,
   "metadata": {
    "collapsed": false
   },
   "outputs": [
    {
     "data": {
      "text/plain": [
       "True"
      ]
     },
     "execution_count": 6,
     "metadata": {},
     "output_type": "execute_result"
    }
   ],
   "source": [
    "price == 1.75"
   ]
  },
  {
   "cell_type": "code",
   "execution_count": 7,
   "metadata": {
    "collapsed": false
   },
   "outputs": [
    {
     "data": {
      "text/plain": [
       "False"
      ]
     },
     "execution_count": 7,
     "metadata": {},
     "output_type": "execute_result"
    }
   ],
   "source": [
    "price == 1.50"
   ]
  },
  {
   "cell_type": "markdown",
   "metadata": {},
   "source": [
    "Look at and play with these examples using the price variable until you understand the difference between using a single equals sign and using two equals signs."
   ]
  },
  {
   "cell_type": "markdown",
   "metadata": {},
   "source": [
    "Note that because of the way it is programmed, the equals sign treats its left and right sides differently. To illustrate this with an example:"
   ]
  },
  {
   "cell_type": "code",
   "execution_count": 8,
   "metadata": {
    "collapsed": false
   },
   "outputs": [
    {
     "ename": "SyntaxError",
     "evalue": "can't assign to literal (<ipython-input-8-4fb8b9daab5a>, line 1)",
     "output_type": "error",
     "traceback": [
      "\u001b[0;36m  File \u001b[0;32m\"<ipython-input-8-4fb8b9daab5a>\"\u001b[0;36m, line \u001b[0;32m1\u001b[0m\n\u001b[0;31m    1.50 = price\u001b[0m\n\u001b[0;31mSyntaxError\u001b[0m\u001b[0;31m:\u001b[0m can't assign to literal\n"
     ]
    }
   ],
   "source": [
    "1.50 = price"
   ]
  },
  {
   "cell_type": "markdown",
   "metadata": {},
   "source": [
    "What happened above? Because Python treats the left- and right-hand sides differently, it thinks we're trying to change the value of 1.50 to whatever value is currently stored in price (which is 1.75). Because this is nonsense (and it would be very bad if we could actually change the value of 1.5 to be something that isn't 1.5), the computer gives an error.\n",
    "\n",
    "This behavior of the equal sign in programming allows us to do some things that otherwise might look very strange. Like this:"
   ]
  },
  {
   "cell_type": "code",
   "execution_count": 9,
   "metadata": {
    "collapsed": false
   },
   "outputs": [
    {
     "name": "stdout",
     "output_type": "stream",
     "text": [
      "6\n"
     ]
    }
   ],
   "source": [
    "a = 6\n",
    "print a"
   ]
  },
  {
   "cell_type": "code",
   "execution_count": 10,
   "metadata": {
    "collapsed": false
   },
   "outputs": [
    {
     "name": "stdout",
     "output_type": "stream",
     "text": [
      "7\n"
     ]
    }
   ],
   "source": [
    "a = a + 1\n",
    "print a"
   ]
  },
  {
   "cell_type": "code",
   "execution_count": 11,
   "metadata": {
    "collapsed": false
   },
   "outputs": [
    {
     "name": "stdout",
     "output_type": "stream",
     "text": [
      "14\n"
     ]
    }
   ],
   "source": [
    "a = a*2\n",
    "print a"
   ]
  },
  {
   "cell_type": "markdown",
   "metadata": {},
   "source": [
    "In math, if someone writes\n",
    "\n",
    "$$a = a + 1$$\n",
    "\n",
    "you might be tempted to try to solve for a and then find out that the above statement is impossible! But in programming, we're not interested in solving for a, and that's not what the code above does. When python sees this, it looks at the right hand side and evaluates. At the time, a was 6, so it did 6 + 1 and got 7. It then saw that we wanted to assign that to a, so it reassigned a to be 7 instead of 6! When we printed a, it told us a was now 7. Using this technique, we are able to manipulate a variable without knowing what that variable is. In particular, taking a number and adding 1 to it is a very commonly used operation in programming."
   ]
  },
  {
   "cell_type": "markdown",
   "metadata": {},
   "source": [
    "Variables can be set to be any of the data types we've already talked about. Numbers (both ints and floats), strings, and booleans, can all be assigned to a variable and then used later. Here are some examples:"
   ]
  },
  {
   "cell_type": "code",
   "execution_count": 12,
   "metadata": {
    "collapsed": false
   },
   "outputs": [
    {
     "name": "stdout",
     "output_type": "stream",
     "text": [
      "Joel\n",
      "1990\n",
      "True\n"
     ]
    }
   ],
   "source": [
    "name = \"Joel\"\n",
    "print name\n",
    "\n",
    "birthyear = 1990\n",
    "print birthyear\n",
    "\n",
    "NY_resident = True\n",
    "print NY_resident"
   ]
  },
  {
   "cell_type": "markdown",
   "metadata": {},
   "source": [
    "A note about naming your variables: Python requires that the first character in a variable name be either a letter (capital or lowercase) or an underscore (\\_) After that, you can use almost any combination of letters, numbers, and underscores. One thing you can't do, however, is assign something to a name that Python already uses, like this:"
   ]
  },
  {
   "cell_type": "code",
   "execution_count": 13,
   "metadata": {
    "collapsed": false
   },
   "outputs": [
    {
     "ename": "SyntaxError",
     "evalue": "invalid syntax (<ipython-input-13-7a4f966a3c2e>, line 1)",
     "output_type": "error",
     "traceback": [
      "\u001b[0;36m  File \u001b[0;32m\"<ipython-input-13-7a4f966a3c2e>\"\u001b[0;36m, line \u001b[0;32m1\u001b[0m\n\u001b[0;31m    print = 67\u001b[0m\n\u001b[0m          ^\u001b[0m\n\u001b[0;31mSyntaxError\u001b[0m\u001b[0;31m:\u001b[0m invalid syntax\n"
     ]
    }
   ],
   "source": [
    "print = 67"
   ]
  },
  {
   "cell_type": "markdown",
   "metadata": {
    "collapsed": true
   },
   "source": [
    "## Practice Problems"
   ]
  },
  {
   "cell_type": "markdown",
   "metadata": {},
   "source": [
    "Write a cell that creates an integer variable with value between 10 and 99. Then add 10 to the variable. Then print the variable"
   ]
  },
  {
   "cell_type": "code",
   "execution_count": 14,
   "metadata": {
    "collapsed": false
   },
   "outputs": [
    {
     "name": "stdout",
     "output_type": "stream",
     "text": [
      "67\n"
     ]
    }
   ],
   "source": [
    "a = 57\n",
    "a = a + 10\n",
    "print a"
   ]
  },
  {
   "cell_type": "markdown",
   "metadata": {},
   "source": [
    "Write a cell that creates an integer variable with value between 10 and 99. Then have that cell print the quotient and remainder of that integer resulting from division by 7."
   ]
  },
  {
   "cell_type": "code",
   "execution_count": 15,
   "metadata": {
    "collapsed": false
   },
   "outputs": [
    {
     "name": "stdout",
     "output_type": "stream",
     "text": [
      "quotient:  6\n",
      "remainder:  2\n"
     ]
    }
   ],
   "source": [
    "b = 44\n",
    "print \"quotient: \", b/7\n",
    "print \"remainder: \", b%7"
   ]
  },
  {
   "cell_type": "markdown",
   "metadata": {},
   "source": [
    "Write a cell that creates a variable and assign to it a string containing your name (e.g. \"Joel\"). Print this string twice."
   ]
  },
  {
   "cell_type": "code",
   "execution_count": 16,
   "metadata": {
    "collapsed": false
   },
   "outputs": [
    {
     "name": "stdout",
     "output_type": "stream",
     "text": [
      "Nick\n",
      "Nick\n"
     ]
    }
   ],
   "source": [
    "c = \"Nick\"\n",
    "print c\n",
    "print c"
   ]
  },
  {
   "cell_type": "markdown",
   "metadata": {},
   "source": [
    "Write a cell that creates two variables, and assign each variable to a string containing an animal (e.g. \"cat\" or \"dog\"). Add these two strings together and print the result."
   ]
  },
  {
   "cell_type": "code",
   "execution_count": 17,
   "metadata": {
    "collapsed": false
   },
   "outputs": [
    {
     "name": "stdout",
     "output_type": "stream",
     "text": [
      "catdog\n"
     ]
    }
   ],
   "source": [
    "one = \"cat\"\n",
    "two = \"dog\"\n",
    "\n",
    "print one+two"
   ]
  },
  {
   "cell_type": "markdown",
   "metadata": {},
   "source": [
    "## Advanced Problems "
   ]
  },
  {
   "cell_type": "markdown",
   "metadata": {},
   "source": [
    "Write a notebook cell that has two variables A and B (booleans). Write a print statement that returns the \"exclusive or\" for these two variables.\n",
    "\n",
    "An \"exclusive or\" returns true if only one of A and B is true, and false if A and B are either both true and both false. The following table summarizes this.\n",
    "\n",
    "$$\n",
    "\\begin{array}{c | c | c}\n",
    "   A & B & Answer \\\\\n",
    "   \\hline\n",
    "   T & T & F \\\\\n",
    "   T & F & T \\\\\n",
    "   F & T & T \\\\\n",
    "   F & F & F\n",
    "\\end{array}\n",
    "$$"
   ]
  },
  {
   "cell_type": "code",
   "execution_count": 18,
   "metadata": {
    "collapsed": false
   },
   "outputs": [
    {
     "name": "stdout",
     "output_type": "stream",
     "text": [
      "False\n"
     ]
    }
   ],
   "source": [
    "A = True\n",
    "B = True\n",
    "\n",
    "print (A or B) and not (A and B)"
   ]
  },
  {
   "cell_type": "markdown",
   "metadata": {},
   "source": [
    "Write a cell that saves a number to a variable num_minutes. Then convert that number to be read in days:hours:minutes and print this to the screen. The following table gives you some inputs with the correct outputs so you can test your code's accuracy.\n",
    "\n",
    "$$\n",
    "\\begin{array}{c | c}\n",
    "   Input & Answer \\\\\n",
    "   \\hline\n",
    "   43 & 0 : 0 : 43 \\\\\n",
    "   432 & 0 : 7 : 12 \\\\\n",
    "   4321 & 3 : 0 : 1 \\\\\n",
    "   43219 & 30 : 0 : 19\n",
    "\\end{array}\n",
    "$$"
   ]
  },
  {
   "cell_type": "code",
   "execution_count": 19,
   "metadata": {
    "collapsed": false
   },
   "outputs": [
    {
     "name": "stdout",
     "output_type": "stream",
     "text": [
      "30 : 0 : 19\n"
     ]
    }
   ],
   "source": [
    "num_minutes = 43219\n",
    "\n",
    "#create variables to hold the number of days and hours\n",
    "#leftover minutes will be contained in num_minutes at the end of this\n",
    "#so there's no need for a minutes variable\n",
    "days = 0\n",
    "hours = 0\n",
    "\n",
    "\n",
    "days = num_minutes/(60*24) #find out how many days it is\n",
    "num_minutes = num_minutes % (60*24) #find out how many minutes remain\n",
    "\n",
    "hours = num_minutes/(60)\n",
    "num_minutes = num_minutes % 60\n",
    "    \n",
    "print days, \":\", hours , \":\" , num_minutes"
   ]
  }
 ],
 "metadata": {
  "kernelspec": {
   "display_name": "Python 2",
   "language": "python",
   "name": "python2"
  },
  "language_info": {
   "codemirror_mode": {
    "name": "ipython",
    "version": 2
   },
   "file_extension": ".py",
   "mimetype": "text/x-python",
   "name": "python",
   "nbconvert_exporter": "python",
   "pygments_lexer": "ipython2",
   "version": "2.7.11"
  }
 },
 "nbformat": 4,
 "nbformat_minor": 0
}
